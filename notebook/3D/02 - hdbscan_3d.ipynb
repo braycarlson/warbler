{
 "cells": [
  {
   "cell_type": "markdown",
   "id": "2afcd846",
   "metadata": {},
   "source": [
    "# 3D HDBScan\n",
    "\n",
    "Description"
   ]
  },
  {
   "cell_type": "code",
   "execution_count": 1,
   "id": "c422b044",
   "metadata": {},
   "outputs": [],
   "source": [
    "# Reload the notebook if an external file is updated\n",
    "%load_ext autoreload\n",
    "%autoreload 2\n",
    "\n",
    "import sys\n",
    "\n",
    "from pathlib import Path\n",
    "\n",
    "path = str(Path.cwd().parent)\n",
    "sys.path.append(path)"
   ]
  },
  {
   "cell_type": "code",
   "execution_count": 2,
   "id": "c9274221",
   "metadata": {},
   "outputs": [],
   "source": [
    "import hdbscan\n",
    "import numpy as np\n",
    "\n",
    "from datatype.dataframe import Dataframe"
   ]
  },
  {
   "cell_type": "code",
   "execution_count": 3,
   "id": "5ff3f9f9",
   "metadata": {},
   "outputs": [],
   "source": [
    "file = Dataframe()\n",
    "dataframe = file.load()"
   ]
  },
  {
   "cell_type": "code",
   "execution_count": 4,
   "id": "b8939644-91c1-4010-97fa-66c7fee8a8be",
   "metadata": {},
   "outputs": [],
   "source": [
    "coordinates = (\n",
    "    dataframe.umap_x_3d, \n",
    "    dataframe.umap_y_3d, \n",
    "    dataframe.umap_z_3d\n",
    ")\n",
    "\n",
    "embedding = np.column_stack(coordinates)"
   ]
  },
  {
   "cell_type": "code",
   "execution_count": 5,
   "id": "7b1764e3-2e67-4272-84a4-abf7dad4e441",
   "metadata": {},
   "outputs": [],
   "source": [
    "cluster = hdbscan.HDBSCAN(gen_min_span_tree=True).fit(embedding)"
   ]
  },
  {
   "cell_type": "code",
   "execution_count": 6,
   "id": "d8308371-1f66-493a-8e3d-d2fb8677baa9",
   "metadata": {},
   "outputs": [],
   "source": [
    "length = len(embedding)\n",
    "min_cluster_size = int(length * 0.01)"
   ]
  },
  {
   "cell_type": "code",
   "execution_count": 7,
   "id": "ec53c96a-edba-40da-9500-0fdc0617caf3",
   "metadata": {},
   "outputs": [],
   "source": [
    "cluster = hdbscan.HDBSCAN(\n",
    "    min_cluster_size=min_cluster_size,\n",
    "    cluster_selection_method='leaf',\n",
    "    gen_min_span_tree=True\n",
    ").fit(embedding)"
   ]
  },
  {
   "cell_type": "code",
   "execution_count": 8,
   "id": "dccd8e80-e364-4aac-ab44-2cee9e4cb4fe",
   "metadata": {},
   "outputs": [],
   "source": [
    "dataframe['hdbscan_label_3d'] = cluster.labels_"
   ]
  },
  {
   "cell_type": "code",
   "execution_count": 9,
   "id": "c4b987e5-4de5-4811-9eff-6a48d630f1da",
   "metadata": {},
   "outputs": [],
   "source": [
    "file.save(dataframe)"
   ]
  }
 ],
 "metadata": {
  "kernelspec": {
   "display_name": "warbler.py",
   "language": "python",
   "name": "warblerpy"
  },
  "language_info": {
   "codemirror_mode": {
    "name": "ipython",
    "version": 3
   },
   "file_extension": ".py",
   "mimetype": "text/x-python",
   "name": "python",
   "nbconvert_exporter": "python",
   "pygments_lexer": "ipython3",
   "version": "3.9.5"
  }
 },
 "nbformat": 4,
 "nbformat_minor": 5
}
