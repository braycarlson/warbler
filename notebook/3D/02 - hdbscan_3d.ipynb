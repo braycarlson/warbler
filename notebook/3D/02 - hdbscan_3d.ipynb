{
 "cells": [
  {
   "cell_type": "markdown",
   "id": "2afcd846",
   "metadata": {},
   "source": [
    "# 3D HDBScan\n",
    "\n",
    "Description"
   ]
  },
  {
   "cell_type": "code",
   "execution_count": 1,
   "id": "c422b044",
   "metadata": {},
   "outputs": [],
   "source": [
    "# Reload the notebook if an external file is updated\n",
    "%load_ext autoreload\n",
    "%autoreload 2\n",
    "\n",
    "import os\n",
    "import sys\n",
    "\n",
    "from pathlib import Path\n",
    "\n",
    "path = (\n",
    "    Path\n",
    "    .cwd()\n",
    "    .parent\n",
    "    .parent\n",
    "    .joinpath('warbler')\n",
    "    .as_posix()\n",
    ")\n",
    "\n",
    "os.chdir(path)\n",
    "sys.path.append(path)"
   ]
  },
  {
   "cell_type": "code",
   "execution_count": 2,
   "id": "c9274221",
   "metadata": {},
   "outputs": [],
   "source": [
    "import matplotlib.pyplot as plt\n",
    "import numpy as np\n",
    "import seaborn as sns\n",
    "\n",
    "from constant import PROJECTION\n",
    "from datatype.dataset import Dataset\n",
    "from hdbscan import HDBSCAN"
   ]
  },
  {
   "cell_type": "code",
   "execution_count": 3,
   "id": "36b428c2-4de8-4943-8a5e-a6ad3f2728c5",
   "metadata": {},
   "outputs": [],
   "source": [
    "PROJECTION.mkdir(parents=True, exist_ok=True)"
   ]
  },
  {
   "cell_type": "code",
   "execution_count": 4,
   "id": "5ff3f9f9",
   "metadata": {},
   "outputs": [],
   "source": [
    "dataset = Dataset('segment')\n",
    "dataframe = dataset.load()"
   ]
  },
  {
   "cell_type": "code",
   "execution_count": 5,
   "id": "b8939644-91c1-4010-97fa-66c7fee8a8be",
   "metadata": {},
   "outputs": [],
   "source": [
    "coordinates = (\n",
    "    dataframe.umap_x_3d, \n",
    "    dataframe.umap_y_3d, \n",
    "    dataframe.umap_z_3d\n",
    ")\n",
    "\n",
    "embedding = np.column_stack(coordinates)"
   ]
  },
  {
   "cell_type": "code",
   "execution_count": 6,
   "id": "d8308371-1f66-493a-8e3d-d2fb8677baa9",
   "metadata": {},
   "outputs": [],
   "source": [
    "length = len(embedding)\n",
    "\n",
    "# The smallest size we would expect a cluster to be\n",
    "min_cluster_size = int(length * 0.01)"
   ]
  },
  {
   "cell_type": "code",
   "execution_count": 7,
   "id": "ec53c96a-edba-40da-9500-0fdc0617caf3",
   "metadata": {},
   "outputs": [],
   "source": [
    "np.random.seed(42)\n",
    "\n",
    "cluster = HDBSCAN(\n",
    "    cluster_selection_method='leaf',\n",
    "    gen_min_span_tree=True,\n",
    "    min_cluster_size=min_cluster_size\n",
    ").fit(embedding)"
   ]
  },
  {
   "cell_type": "code",
   "execution_count": 9,
   "id": "85e0974a-199f-48e0-a1d7-a6b5d3ca447a",
   "metadata": {},
   "outputs": [],
   "source": [
    "# Condensed tree\n",
    "selection_palette = sns.color_palette('deep', min_cluster_size)\n",
    "\n",
    "cluster.condensed_tree_.plot(\n",
    "    select_clusters=True,\n",
    "    selection_palette=selection_palette\n",
    ")\n",
    "\n",
    "file = PROJECTION.joinpath('hdbscan_condensed_tree_3d.png')\n",
    "\n",
    "plt.title(\n",
    "    'HDBSCAN: Condensed Tree (3D)',\n",
    "    fontweight=600,\n",
    "    fontsize=12,\n",
    "    pad=25\n",
    ")\n",
    "\n",
    "plt.savefig(\n",
    "    file,\n",
    "    bbox_inches='tight',\n",
    "    dpi=300,\n",
    "    format='png'\n",
    ")\n",
    "\n",
    "plt.close()"
   ]
  },
  {
   "cell_type": "code",
   "execution_count": 10,
   "id": "67ffe32c-b008-416e-a4cd-bf4e7e225d9a",
   "metadata": {},
   "outputs": [],
   "source": [
    "# Minimum spanning tree\n",
    "cluster.minimum_spanning_tree_.plot(\n",
    "    edge_alpha=0.6,\n",
    "    edge_cmap='viridis',\n",
    "    edge_linewidth=2,\n",
    "    node_alpha=0.1,\n",
    "    node_size=1.0\n",
    ")\n",
    "\n",
    "file = PROJECTION.joinpath('hdbscan_minimum_spanning_tree_3d.png')\n",
    "\n",
    "plt.title(\n",
    "    'HDBSCAN: Minimum Spanning Tree (3D)',\n",
    "    fontweight=600,\n",
    "    fontsize=12,\n",
    "    pad=25\n",
    ")\n",
    "\n",
    "plt.savefig(\n",
    "    file,\n",
    "    bbox_inches='tight',\n",
    "    dpi=300,\n",
    "    format='png'\n",
    ")\n",
    "\n",
    "plt.close()"
   ]
  },
  {
   "cell_type": "code",
   "execution_count": 11,
   "id": "a6592b64-1699-4d74-82cf-c530a5f9b3af",
   "metadata": {},
   "outputs": [],
   "source": [
    "# # Single linkage tree\n",
    "# cluster.single_linkage_tree_.plot()\n",
    "\n",
    "# file = PROJECTION.joinpath('hdbscan_single_linkage_tree_3d.png')\n",
    "\n",
    "# plt.title(\n",
    "#     'HDBSCAN: Single Linkage Tree (3D)',\n",
    "#     fontweight=600,\n",
    "#     fontsize=12,\n",
    "#     pad=25\n",
    "# )\n",
    "\n",
    "# plt.savefig(\n",
    "#     file,\n",
    "#     bbox_inches='tight',\n",
    "#     dpi=300,\n",
    "#     format='png'\n",
    "# )\n",
    "\n",
    "# plt.close()"
   ]
  },
  {
   "cell_type": "code",
   "execution_count": 12,
   "id": "dccd8e80-e364-4aac-ab44-2cee9e4cb4fe",
   "metadata": {},
   "outputs": [],
   "source": [
    "dataframe['hdbscan_label_3d'] = cluster.labels_"
   ]
  },
  {
   "cell_type": "code",
   "execution_count": 13,
   "id": "c4b987e5-4de5-4811-9eff-6a48d630f1da",
   "metadata": {
    "tags": []
   },
   "outputs": [
    {
     "name": "stderr",
     "output_type": "stream",
     "text": [
      "E:\\code\\personal\\warbler\\venv\\Lib\\site-packages\\tables\\leaf.py:323: RuntimeWarning: overflow encountered in scalar multiply\n",
      "  expected_mb = (expectedrows * rowsize) // MB\n"
     ]
    }
   ],
   "source": [
    "dataset.save(dataframe)"
   ]
  }
 ],
 "metadata": {
  "kernelspec": {
   "display_name": "Python 3 (ipykernel)",
   "language": "python",
   "name": "python3"
  },
  "language_info": {
   "codemirror_mode": {
    "name": "ipython",
    "version": 3
   },
   "file_extension": ".py",
   "mimetype": "text/x-python",
   "name": "python",
   "nbconvert_exporter": "python",
   "pygments_lexer": "ipython3",
   "version": "3.11.2"
  }
 },
 "nbformat": 4,
 "nbformat_minor": 5
}
