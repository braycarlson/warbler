{
 "cells": [
  {
   "cell_type": "markdown",
   "id": "2afcd846",
   "metadata": {},
   "source": [
    "# 3D UMAP\n",
    "\n",
    "Description"
   ]
  },
  {
   "cell_type": "code",
   "execution_count": 1,
   "id": "c422b044",
   "metadata": {},
   "outputs": [],
   "source": [
    "# Reload the notebook if an external file is updated\n",
    "%load_ext autoreload\n",
    "%autoreload 2\n",
    "\n",
    "import os\n",
    "import sys\n",
    "\n",
    "from pathlib import Path\n",
    "\n",
    "path = (\n",
    "    Path\n",
    "    .cwd()\n",
    "    .parent\n",
    "    .parent\n",
    "    .joinpath('warbler.py')\n",
    ")\n",
    "\n",
    "os.chdir(path)\n",
    "sys.path.append(str(path))"
   ]
  },
  {
   "cell_type": "code",
   "execution_count": 2,
   "id": "94942e20-85fb-4116-b530-20ff9d3082de",
   "metadata": {},
   "outputs": [],
   "source": [
    "import warnings\n",
    "\n",
    "from numba import NumbaDeprecationWarning\n",
    "\n",
    "warnings.simplefilter(\n",
    "    'ignore', \n",
    "    NumbaDeprecationWarning\n",
    ")"
   ]
  },
  {
   "cell_type": "code",
   "execution_count": 3,
   "id": "c9274221",
   "metadata": {},
   "outputs": [],
   "source": [
    "from datatype.dataset import Dataset\n",
    "from datatype.spectrogram import flatten\n",
    "from umap import UMAP"
   ]
  },
  {
   "cell_type": "code",
   "execution_count": 4,
   "id": "5ff3f9f9",
   "metadata": {},
   "outputs": [],
   "source": [
    "dataset = Dataset('segment')\n",
    "dataframe = dataset.load()"
   ]
  },
  {
   "cell_type": "code",
   "execution_count": 14,
   "id": "26c1a733-f326-43b6-9129-6bf41f6fcf0f",
   "metadata": {},
   "outputs": [
    {
     "data": {
      "text/plain": [
       "array([118, 190,  63,   0, 139, 216,   0,   0, 216,   0,   0,   0,   0,\n",
       "         0,   0, 117,   0,   0,   0,   0,   0,   0,  43,   0,   0,   0,\n",
       "        88,   0,   0,   0, 110, 179,   0,   0,   0, 119, 140,   0,   0,\n",
       "         0, 113, 131,   0,   0,   0,  73, 161,   0,   0,   0,  22,   0,\n",
       "         0,   0,   0,  55,   0,   0,   0, 161, 195,  28,   0,   2, 175,\n",
       "       187, 117, 143], dtype=uint8)"
      ]
     },
     "execution_count": 14,
     "metadata": {},
     "output_type": "execute_result"
    }
   ],
   "source": [
    "import numpy as np\n",
    "sample = dataframe['filter_array'].iloc[0]\n",
    "\n",
    "# sample.shape\n",
    "sample[sample != 255]"
   ]
  },
  {
   "cell_type": "code",
   "execution_count": 18,
   "id": "ff000d46-6d6c-4954-ac72-c6cc108b2dc0",
   "metadata": {},
   "outputs": [
    {
     "data": {
      "text/plain": [
       "(3200,)"
      ]
     },
     "execution_count": 18,
     "metadata": {},
     "output_type": "execute_result"
    }
   ],
   "source": [
    "spectrogram = dataframe['filter_array'].tolist()\n",
    "spectrogram = flatten(spectrogram)[0]\n",
    "\n",
    "spectrogram.shape"
   ]
  },
  {
   "cell_type": "code",
   "execution_count": 5,
   "id": "d871d114",
   "metadata": {},
   "outputs": [],
   "source": [
    "spectrogram = dataframe['filter_array'].tolist()\n",
    "spectrogram = flatten(spectrogram)"
   ]
  },
  {
   "cell_type": "code",
   "execution_count": 6,
   "id": "4054f6cd",
   "metadata": {},
   "outputs": [],
   "source": [
    "um = UMAP(\n",
    "    low_memory=True,\n",
    "    metric='euclidean',\n",
    "    min_dist=0.0,\n",
    "    n_neighbors=5,\n",
    "    n_components=3,\n",
    "    n_jobs=-1,\n",
    "    random_state=42\n",
    ")"
   ]
  },
  {
   "cell_type": "code",
   "execution_count": 7,
   "id": "9fb23ef1-09e3-4688-b0ad-7d1a81075e67",
   "metadata": {},
   "outputs": [],
   "source": [
    "embedding = um.fit_transform(spectrogram)"
   ]
  },
  {
   "cell_type": "code",
   "execution_count": 8,
   "id": "6ee2362a-89c5-4b1f-b88f-1ce89576a263",
   "metadata": {
    "tags": []
   },
   "outputs": [],
   "source": [
    "column = [\n",
    "    'umap_x_3d',\n",
    "    'umap_y_3d',\n",
    "    'umap_z_3d'\n",
    "]\n",
    "\n",
    "dataframe[column] = embedding"
   ]
  },
  {
   "cell_type": "code",
   "execution_count": 9,
   "id": "75334b52",
   "metadata": {
    "tags": []
   },
   "outputs": [],
   "source": [
    "dataset.save(dataframe)"
   ]
  }
 ],
 "metadata": {
  "kernelspec": {
   "display_name": "Python 3 (ipykernel)",
   "language": "python",
   "name": "python3"
  },
  "language_info": {
   "codemirror_mode": {
    "name": "ipython",
    "version": 3
   },
   "file_extension": ".py",
   "mimetype": "text/x-python",
   "name": "python",
   "nbconvert_exporter": "python",
   "pygments_lexer": "ipython3",
   "version": "3.11.2"
  }
 },
 "nbformat": 4,
 "nbformat_minor": 5
}
