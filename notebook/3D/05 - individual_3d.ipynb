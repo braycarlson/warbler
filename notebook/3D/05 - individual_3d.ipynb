{
 "cells": [
  {
   "cell_type": "markdown",
   "id": "2afcd846",
   "metadata": {},
   "source": [
    "$${\\Huge\\text{3D Projection}}$$"
   ]
  },
  {
   "cell_type": "code",
   "execution_count": 1,
   "id": "c422b044",
   "metadata": {},
   "outputs": [],
   "source": [
    "# Reload the notebook if an external file is updated\n",
    "%load_ext autoreload\n",
    "%autoreload 2\n",
    "\n",
    "import os\n",
    "import sys\n",
    "\n",
    "from pathlib import Path\n",
    "\n",
    "path = (\n",
    "    Path\n",
    "    .cwd()\n",
    "    .parent\n",
    "    .parent\n",
    "    .joinpath('warbler')\n",
    "    .as_posix()\n",
    ")\n",
    "\n",
    "os.chdir(path)\n",
    "sys.path.append(path)"
   ]
  },
  {
   "cell_type": "code",
   "execution_count": 2,
   "id": "c9274221",
   "metadata": {},
   "outputs": [],
   "source": [
    "from constant import SETTINGS\n",
    "from datatype.dataset import Dataset\n",
    "from datatype.gallery import Gallery\n",
    "from datatype.interactive import (\n",
    "    Builder,\n",
    "    Interactive, \n",
    "    ThreeDimensional\n",
    ")\n",
    "from datatype.settings import Settings\n",
    "from datatype.signal import Signal\n",
    "from datatype.trace import (\n",
    "    AnimationTrace,\n",
    "    CoordinateTrace,\n",
    "    DurationTrace,\n",
    "    FuzzyClusterTrace,\n",
    "    HDBScanTrace,\n",
    "    IndividualTrace,\n",
    "    SequenceTrace,\n",
    "    SingleClusterTrace\n",
    ")\n",
    "from IPython.display import display"
   ]
  },
  {
   "cell_type": "code",
   "execution_count": 3,
   "id": "5ff3f9f9",
   "metadata": {},
   "outputs": [],
   "source": [
    "dataset = Dataset('segment')\n",
    "dataframe = dataset.load()"
   ]
  },
  {
   "cell_type": "code",
   "execution_count": 4,
   "id": "203a4bf8-75ba-4067-b854-539cbd03db45",
   "metadata": {},
   "outputs": [],
   "source": [
    "fcm = dataframe.fcm_label_3d.unique()\n",
    "hdbscan = dataframe.hdbscan_label_3d.unique()\n",
    "\n",
    "path = SETTINGS.joinpath('projection.json')\n",
    "settings = Settings.from_file(path)\n",
    "\n",
    "settings['fcm'] = fcm\n",
    "settings['hdbscan'] = hdbscan\n",
    "settings['marker']['opacity'] = 0.75\n",
    "settings['marker']['size'] = 5"
   ]
  },
  {
   "cell_type": "code",
   "execution_count": 5,
   "id": "37344266-e5e0-4e56-b16f-e343a68cf3c3",
   "metadata": {},
   "outputs": [],
   "source": [
    "unique = dataframe.folder.unique()\n",
    "\n",
    "collection = []\n",
    "\n",
    "for folder in unique:\n",
    "    individual = dataframe[dataframe.folder == folder]\n",
    "    individual.reset_index(inplace=True)\n",
    "\n",
    "    trace = FuzzyClusterTrace(settings=settings)\n",
    "    \n",
    "    strategy = ThreeDimensional(\n",
    "        dataframe=individual, \n",
    "        trace=trace\n",
    "    )\n",
    "    \n",
    "    builder = Builder(\n",
    "        dataframe=individual, \n",
    "        strategy=strategy\n",
    "    )\n",
    "    \n",
    "    interactive = Interactive(builder)\n",
    "\n",
    "    collection.append(interactive)"
   ]
  },
  {
   "cell_type": "code",
   "execution_count": 6,
   "id": "b9e807af-7f21-43a9-b1a6-a1f3c740ce8d",
   "metadata": {
    "tags": []
   },
   "outputs": [
    {
     "data": {
      "application/vnd.jupyter.widget-view+json": {
       "model_id": "61942a9fa9644738b1b316b4494306d9",
       "version_major": 2,
       "version_minor": 0
      },
      "text/plain": [
       "Output()"
      ]
     },
     "metadata": {},
     "output_type": "display_data"
    }
   ],
   "source": [
    "gallery = Gallery(collection)\n",
    "output = gallery.create()\n",
    "\n",
    "display(output)"
   ]
  }
 ],
 "metadata": {
  "kernelspec": {
   "display_name": "Python 3 (ipykernel)",
   "language": "python",
   "name": "python3"
  },
  "language_info": {
   "codemirror_mode": {
    "name": "ipython",
    "version": 3
   },
   "file_extension": ".py",
   "mimetype": "text/x-python",
   "name": "python",
   "nbconvert_exporter": "python",
   "pygments_lexer": "ipython3",
   "version": "3.11.2"
  }
 },
 "nbformat": 4,
 "nbformat_minor": 5
}
