{
 "cells": [
  {
   "cell_type": "markdown",
   "id": "2afcd846",
   "metadata": {},
   "source": [
    "# 3D Projection\n",
    "\n",
    "Description"
   ]
  },
  {
   "cell_type": "code",
   "execution_count": 1,
   "id": "c422b044",
   "metadata": {},
   "outputs": [],
   "source": [
    "# Reload the notebook if an external file is updated\n",
    "%load_ext autoreload\n",
    "%autoreload 2\n",
    "\n",
    "import sys\n",
    "\n",
    "from pathlib import Path\n",
    "\n",
    "path = str(Path.cwd().parent)\n",
    "sys.path.append(path)"
   ]
  },
  {
   "cell_type": "code",
   "execution_count": 2,
   "id": "c9274221",
   "metadata": {},
   "outputs": [],
   "source": [
    "from datatype.dataset import Dataset\n",
    "from datatype.gallery import Gallery\n",
    "from datatype.scatter import (\n",
    "    Scatter, \n",
    "    ThreeDimensional, \n",
    "    TwoDimensional\n",
    ")\n",
    "from datatype.trace import (\n",
    "    CoordinateTrace,\n",
    "    FuzzyClusterTrace,\n",
    "    HDBScanTrace,\n",
    "    SequenceTrace,\n",
    "    SingleClusterTrace\n",
    ")"
   ]
  },
  {
   "cell_type": "code",
   "execution_count": 3,
   "id": "5ff3f9f9",
   "metadata": {},
   "outputs": [],
   "source": [
    "dataset = Dataset('segment')\n",
    "dataframe = dataset.load()"
   ]
  },
  {
   "cell_type": "code",
   "execution_count": 4,
   "id": "37344266-e5e0-4e56-b16f-e343a68cf3c3",
   "metadata": {},
   "outputs": [],
   "source": [
    "unique = dataframe.folder.unique()\n",
    "\n",
    "collection = []\n",
    "\n",
    "for folder in unique:\n",
    "    individual = dataframe[dataframe.folder == folder]\n",
    "    \n",
    "    strategy = ThreeDimensional(individual)\n",
    "    strategy.trace = HDBScanTrace()\n",
    "\n",
    "    scatter = Scatter(individual)\n",
    "    scatter.strategy = strategy\n",
    "    \n",
    "    collection.append(scatter)"
   ]
  },
  {
   "cell_type": "code",
   "execution_count": 5,
   "id": "b9e807af-7f21-43a9-b1a6-a1f3c740ce8d",
   "metadata": {},
   "outputs": [
    {
     "data": {
      "application/vnd.jupyter.widget-view+json": {
       "model_id": "ba56cd6efc3f416db4a21e32f351eef2",
       "version_major": 2,
       "version_minor": 0
      },
      "text/plain": [
       "Output()"
      ]
     },
     "metadata": {},
     "output_type": "display_data"
    }
   ],
   "source": [
    "gallery = Gallery(collection)\n",
    "output = gallery.create()\n",
    "\n",
    "display(output)"
   ]
  }
 ],
 "metadata": {
  "kernelspec": {
   "display_name": "warbler.py",
   "language": "python",
   "name": "warblerpy"
  },
  "language_info": {
   "codemirror_mode": {
    "name": "ipython",
    "version": 3
   },
   "file_extension": ".py",
   "mimetype": "text/x-python",
   "name": "python",
   "nbconvert_exporter": "python",
   "pygments_lexer": "ipython3",
   "version": "3.9.5"
  }
 },
 "nbformat": 4,
 "nbformat_minor": 5
}
