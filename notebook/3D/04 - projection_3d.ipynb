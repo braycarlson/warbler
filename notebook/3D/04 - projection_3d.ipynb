{
 "cells": [
  {
   "cell_type": "markdown",
   "id": "bd1da295-323e-47dc-941c-b3dbf64256c5",
   "metadata": {},
   "source": [
    "$${\\Huge\\text{3D Projection}}$$"
   ]
  },
  {
   "cell_type": "code",
   "execution_count": 1,
   "id": "c422b044",
   "metadata": {},
   "outputs": [],
   "source": [
    "# Reload the notebook if an external file is updated\n",
    "%load_ext autoreload\n",
    "%autoreload 2\n",
    "\n",
    "import os\n",
    "import sys\n",
    "\n",
    "from pathlib import Path\n",
    "\n",
    "path = (\n",
    "    Path\n",
    "    .cwd()\n",
    "    .parent\n",
    "    .parent\n",
    "    .joinpath('warbler')\n",
    "    .as_posix()\n",
    ")\n",
    "\n",
    "os.chdir(path)\n",
    "sys.path.append(path)"
   ]
  },
  {
   "cell_type": "code",
   "execution_count": 2,
   "id": "c9274221",
   "metadata": {},
   "outputs": [],
   "source": [
    "from constant import SETTINGS\n",
    "from datatype.dataset import Dataset\n",
    "from datatype.interactive import (\n",
    "    Builder,\n",
    "    Interactive, \n",
    "    ThreeDimensional\n",
    ")\n",
    "from datatype.settings import Settings\n",
    "from datatype.signal import Signal\n",
    "from datatype.trace import (\n",
    "    AnimationTrace,\n",
    "    CoordinateTrace,\n",
    "    DurationTrace,\n",
    "    FuzzyClusterTrace,\n",
    "    HDBScanTrace,\n",
    "    IndividualTrace,\n",
    "    MaximumFrequencyTrace,\n",
    "    MeanFrequencyTrace,\n",
    "    MinimumFrequencyTrace,\n",
    "    SequenceTrace,\n",
    "    SingleClusterTrace\n",
    ")\n",
    "from IPython.display import display"
   ]
  },
  {
   "cell_type": "code",
   "execution_count": 3,
   "id": "5ff3f9f9",
   "metadata": {},
   "outputs": [],
   "source": [
    "dataset = Dataset('segment')\n",
    "dataframe = dataset.load()"
   ]
  },
  {
   "cell_type": "code",
   "execution_count": 4,
   "id": "2d659cac-3f05-413b-a451-0e7b0b639bc0",
   "metadata": {},
   "outputs": [],
   "source": [
    "fcm = dataframe.fcm_label_3d.unique()\n",
    "hdbscan = dataframe.hdbscan_label_3d.unique()\n",
    "\n",
    "path = SETTINGS.joinpath('projection.json')\n",
    "settings = Settings.from_file(path)\n",
    "\n",
    "settings['fcm'] = fcm\n",
    "settings['hdbscan'] = hdbscan"
   ]
  },
  {
   "cell_type": "code",
   "execution_count": 5,
   "id": "ff0262d8-6d85-4b7e-a565-2540f63664aa",
   "metadata": {
    "tags": []
   },
   "outputs": [
    {
     "data": {
      "application/vnd.jupyter.widget-view+json": {
       "model_id": "93db0fdf194849a7b22382220267d0e1",
       "version_major": 2,
       "version_minor": 0
      },
      "text/plain": [
       "HTML(value='<style>.left {\\n    width: 30% !important;\\n    margin-left: 50px;\\n    margin-right: 100px;\\n}\\n\\…"
      ]
     },
     "metadata": {},
     "output_type": "display_data"
    },
    {
     "data": {
      "application/vnd.jupyter.widget-view+json": {
       "model_id": "affc8a6266104b07b807022e24b00e78",
       "version_major": 2,
       "version_minor": 0
      },
      "text/plain": [
       "VBox(children=(HBox(children=(VBox(children=(Image(value=b'\\x89PNG\\r\\n\\x1a\\n\\x00\\x00\\x00\\rIHDR\\x00\\x00\\x002\\x0…"
      ]
     },
     "metadata": {},
     "output_type": "display_data"
    }
   ],
   "source": [
    "trace = FuzzyClusterTrace(settings=settings)\n",
    "\n",
    "strategy = ThreeDimensional(\n",
    "    dataframe=dataframe, \n",
    "    trace=trace\n",
    ")\n",
    "\n",
    "builder = Builder(\n",
    "    dataframe=dataframe, \n",
    "    strategy=strategy\n",
    ")\n",
    "\n",
    "interactive = Interactive(builder)\n",
    "\n",
    "widget = interactive.create()\n",
    "display(widget)"
   ]
  },
  {
   "cell_type": "code",
   "execution_count": 6,
   "id": "7403b9a3-e903-4512-b0d1-0d032d892878",
   "metadata": {},
   "outputs": [
    {
     "data": {
      "text/html": [
       "\n",
       "<script src='https://cdn.plot.ly/plotly-latest.min.js'></script>\n"
      ],
      "text/plain": [
       "<IPython.core.display.HTML object>"
      ]
     },
     "metadata": {},
     "output_type": "display_data"
    },
    {
     "data": {
      "application/javascript": [
       "\n",
       "function setupPlotlyListeners() {\n",
       "    const plotId = 'scene';  // This ID must match the ID of the Plotly plot container\n",
       "    const plotElement = document.getElementById(plotId);\n",
       "\n",
       "    if (plotElement && window.Plotly) {\n",
       "        console.log('Plotly is loaded, attaching listeners.');\n",
       "        const plotData = JSON.parse(plotElement.getAttribute('data-plotly'));\n",
       "        Plotly.react(plotId, plotData.data, plotData.layout).then(function(gd) {\n",
       "            gd.on('plotly_click', function(data) {\n",
       "                console.log('Click event on Plotly plot:', data);\n",
       "            });\n",
       "        });\n",
       "    } else {\n",
       "        console.log('Plotly not loaded or plot element not found, retrying...');\n",
       "        setTimeout(setupPlotlyListeners, 500); // Retry in 500ms\n",
       "    }\n",
       "}\n",
       "\n",
       "setupPlotlyListeners();\n"
      ],
      "text/plain": [
       "<IPython.core.display.Javascript object>"
      ]
     },
     "metadata": {},
     "output_type": "display_data"
    }
   ],
   "source": [
    "from IPython.display import display, HTML, Javascript\n",
    "\n",
    "# Load Plotly.js explicitly\n",
    "html_script = \"\"\"\n",
    "<script src='https://cdn.plot.ly/plotly-latest.min.js'></script>\n",
    "\"\"\"\n",
    "display(HTML(html_script))\n",
    "\n",
    "# JavaScript to check for Plotly and attach event handlers\n",
    "javascript = \"\"\"\n",
    "function setupPlotlyListeners() {\n",
    "    const plotId = 'scene';  // This ID must match the ID of the Plotly plot container\n",
    "    const plotElement = document.getElementById(plotId);\n",
    "\n",
    "    if (plotElement && window.Plotly) {\n",
    "        console.log('Plotly is loaded, attaching listeners.');\n",
    "        const plotData = JSON.parse(plotElement.getAttribute('data-plotly'));\n",
    "        Plotly.react(plotId, plotData.data, plotData.layout).then(function(gd) {\n",
    "            gd.on('plotly_click', function(data) {\n",
    "                console.log('Click event on Plotly plot:', data);\n",
    "            });\n",
    "        });\n",
    "    } else {\n",
    "        console.log('Plotly not loaded or plot element not found, retrying...');\n",
    "        setTimeout(setupPlotlyListeners, 500); // Retry in 500ms\n",
    "    }\n",
    "}\n",
    "\n",
    "setupPlotlyListeners();\n",
    "\"\"\"\n",
    "display(Javascript(javascript))\n"
   ]
  }
 ],
 "metadata": {
  "kernelspec": {
   "display_name": "Python 3 (ipykernel)",
   "language": "python",
   "name": "python3"
  },
  "language_info": {
   "codemirror_mode": {
    "name": "ipython",
    "version": 3
   },
   "file_extension": ".py",
   "mimetype": "text/x-python",
   "name": "python",
   "nbconvert_exporter": "python",
   "pygments_lexer": "ipython3",
   "version": "3.11.2"
  }
 },
 "nbformat": 4,
 "nbformat_minor": 5
}
