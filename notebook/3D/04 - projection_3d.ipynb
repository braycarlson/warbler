{
 "cells": [
  {
   "cell_type": "markdown",
   "id": "2afcd846",
   "metadata": {},
   "source": [
    "# 3D Projection\n",
    "\n",
    "Description"
   ]
  },
  {
   "cell_type": "code",
   "execution_count": 1,
   "id": "c422b044",
   "metadata": {},
   "outputs": [],
   "source": [
    "# Reload the notebook if an external file is updated\n",
    "%load_ext autoreload\n",
    "%autoreload 2\n",
    "\n",
    "import sys\n",
    "\n",
    "from pathlib import Path\n",
    "\n",
    "path = str(Path.cwd().parent)\n",
    "sys.path.append(path)"
   ]
  },
  {
   "cell_type": "code",
   "execution_count": 2,
   "id": "c9274221",
   "metadata": {},
   "outputs": [],
   "source": [
    "from datatype.dataset import Dataset\n",
    "from datatype.scatter import (\n",
    "    Scatter, \n",
    "    ThreeDimensional, \n",
    "    TwoDimensional\n",
    ")\n",
    "from datatype.trace import (\n",
    "    CoordinateTrace,\n",
    "    FuzzyClusterTrace,\n",
    "    HDBScanTrace,\n",
    "    SequenceTrace,\n",
    "    SingleClusterTrace\n",
    ")"
   ]
  },
  {
   "cell_type": "code",
   "execution_count": 3,
   "id": "5ff3f9f9",
   "metadata": {},
   "outputs": [],
   "source": [
    "dataset = Dataset('segment')\n",
    "dataframe = dataset.load()"
   ]
  },
  {
   "cell_type": "code",
   "execution_count": 4,
   "id": "a4509caf-dc3b-4110-937f-ddc12dfac1e5",
   "metadata": {},
   "outputs": [
    {
     "data": {
      "application/vnd.jupyter.widget-view+json": {
       "model_id": "ce5ad4b850e44f1994df3f0c5f8c7221",
       "version_major": 2,
       "version_minor": 0
      },
      "text/plain": [
       "HTML(value='\\n            <style>\\n                .image > .widget-image {\\n                    width: 99%; !…"
      ]
     },
     "metadata": {},
     "output_type": "display_data"
    },
    {
     "data": {
      "application/vnd.jupyter.widget-view+json": {
       "model_id": "3d718c1fca854e3ca59977c2b5d287e1",
       "version_major": 2,
       "version_minor": 0
      },
      "text/plain": [
       "VBox(children=(HBox(children=(VBox(children=(Image(value=b'\\x89PNG\\r\\n\\x1a\\n\\x00\\x00\\x00\\rIHDR\\x00\\x00\\x00f\\x0…"
      ]
     },
     "metadata": {},
     "output_type": "display_data"
    }
   ],
   "source": [
    "strategy = ThreeDimensional(dataframe)\n",
    "strategy.trace = HDBScanTrace()\n",
    "\n",
    "scatter = Scatter(dataframe)\n",
    "scatter.strategy = strategy\n",
    "scatter.create()\n",
    "\n",
    "plot = scatter.get_plot()\n",
    "display(plot)"
   ]
  }
 ],
 "metadata": {
  "kernelspec": {
   "display_name": "warbler.py",
   "language": "python",
   "name": "warblerpy"
  },
  "language_info": {
   "codemirror_mode": {
    "name": "ipython",
    "version": 3
   },
   "file_extension": ".py",
   "mimetype": "text/x-python",
   "name": "python",
   "nbconvert_exporter": "python",
   "pygments_lexer": "ipython3",
   "version": "3.9.5"
  }
 },
 "nbformat": 4,
 "nbformat_minor": 5
}
