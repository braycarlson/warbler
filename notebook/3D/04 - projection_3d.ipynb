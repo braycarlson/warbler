{
 "cells": [
  {
   "cell_type": "markdown",
   "id": "2afcd846",
   "metadata": {},
   "source": [
    "# 3D Projection\n",
    "\n",
    "Description"
   ]
  },
  {
   "cell_type": "code",
   "execution_count": 1,
   "id": "c422b044",
   "metadata": {},
   "outputs": [],
   "source": [
    "# Reload the notebook if an external file is updated\n",
    "%load_ext autoreload\n",
    "%autoreload 2\n",
    "\n",
    "import os\n",
    "import sys\n",
    "\n",
    "from pathlib import Path\n",
    "\n",
    "path = (\n",
    "    Path\n",
    "    .cwd()\n",
    "    .parent\n",
    "    .parent\n",
    "    .joinpath('warbler')\n",
    "    .as_posix()\n",
    ")\n",
    "\n",
    "os.chdir(path)\n",
    "sys.path.append(path)"
   ]
  },
  {
   "cell_type": "code",
   "execution_count": 2,
   "id": "c9274221",
   "metadata": {},
   "outputs": [],
   "source": [
    "import pickle\n",
    "\n",
    "from constant import SETTINGS\n",
    "from datatype.dataset import Dataset\n",
    "from datatype.interactive import (\n",
    "    Builder,\n",
    "    Interactive, \n",
    "    ThreeDimensional\n",
    ")\n",
    "from datatype.settings import Settings\n",
    "from datatype.signal import Signal\n",
    "from datatype.trace import (\n",
    "    AnimationTrace,\n",
    "    CoordinateTrace,\n",
    "    DurationTrace,\n",
    "    FuzzyClusterTrace,\n",
    "    HDBScanTrace,\n",
    "    IndividualTrace,\n",
    "    MaximumFrequencyTrace,\n",
    "    MeanFrequencyTrace,\n",
    "    MinimumFrequencyTrace,\n",
    "    SequenceTrace,\n",
    "    SingleClusterTrace\n",
    ")\n",
    "from IPython.display import display"
   ]
  },
  {
   "cell_type": "code",
   "execution_count": 3,
   "id": "5ff3f9f9",
   "metadata": {},
   "outputs": [],
   "source": [
    "dataset = Dataset('segment')\n",
    "dataframe = dataset.load()"
   ]
  },
  {
   "cell_type": "code",
   "execution_count": 4,
   "id": "2d659cac-3f05-413b-a451-0e7b0b639bc0",
   "metadata": {},
   "outputs": [],
   "source": [
    "fcm = dataframe.fcm_label_3d.unique()\n",
    "hdbscan = dataframe.hdbscan_label_3d.unique()\n",
    "\n",
    "path = SETTINGS.joinpath('projection.json')\n",
    "settings = Settings.from_file(path)\n",
    "\n",
    "settings['fcm'] = fcm\n",
    "settings['hdbscan'] = hdbscan"
   ]
  },
  {
   "cell_type": "code",
   "execution_count": 5,
   "id": "ff0262d8-6d85-4b7e-a565-2540f63664aa",
   "metadata": {
    "tags": []
   },
   "outputs": [
    {
     "data": {
      "application/vnd.jupyter.widget-view+json": {
       "model_id": "f4a3a3ffebc1420babdf108f81ef2ece",
       "version_major": 2,
       "version_minor": 0
      },
      "text/plain": [
       "HTML(value='<style>.left {\\n    width: 30% !important;\\n    margin-left: 50px;\\n    margin-right: 100px;\\n}\\n\\…"
      ]
     },
     "metadata": {},
     "output_type": "display_data"
    },
    {
     "data": {
      "application/vnd.jupyter.widget-view+json": {
       "model_id": "8731e7cc65af4652aeb715fda6c254e3",
       "version_major": 2,
       "version_minor": 0
      },
      "text/plain": [
       "VBox(children=(HBox(children=(VBox(children=(Image(value=b'\\x89PNG\\r\\n\\x1a\\n\\x00\\x00\\x00\\rIHDR\\x00\\x00\\x002\\x0…"
      ]
     },
     "metadata": {},
     "output_type": "display_data"
    }
   ],
   "source": [
    "trace = FuzzyClusterTrace(settings=settings)\n",
    "\n",
    "strategy = ThreeDimensional(\n",
    "    dataframe=dataframe, \n",
    "    trace=trace\n",
    ")\n",
    "\n",
    "builder = Builder(\n",
    "    dataframe=dataframe, \n",
    "    strategy=strategy\n",
    ")\n",
    "\n",
    "interactive = Interactive(builder)\n",
    "\n",
    "widget = interactive.create()\n",
    "display(widget)"
   ]
  }
 ],
 "metadata": {
  "kernelspec": {
   "display_name": "Python 3 (ipykernel)",
   "language": "python",
   "name": "python3"
  },
  "language_info": {
   "codemirror_mode": {
    "name": "ipython",
    "version": 3
   },
   "file_extension": ".py",
   "mimetype": "text/x-python",
   "name": "python",
   "nbconvert_exporter": "python",
   "pygments_lexer": "ipython3",
   "version": "3.11.2"
  }
 },
 "nbformat": 4,
 "nbformat_minor": 5
}
