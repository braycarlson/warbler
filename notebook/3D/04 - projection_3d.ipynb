{
 "cells": [
  {
   "cell_type": "markdown",
   "id": "2afcd846",
   "metadata": {},
   "source": [
    "# 3D Projection\n",
    "\n",
    "Description"
   ]
  },
  {
   "cell_type": "code",
   "execution_count": 1,
   "id": "c422b044",
   "metadata": {},
   "outputs": [],
   "source": [
    "# Reload the notebook if an external file is updated\n",
    "%load_ext autoreload\n",
    "%autoreload 2\n",
    "\n",
    "import sys\n",
    "\n",
    "from pathlib import Path\n",
    "\n",
    "path = str(Path.cwd().parent)\n",
    "sys.path.append(path)"
   ]
  },
  {
   "cell_type": "code",
   "execution_count": 2,
   "id": "c9274221",
   "metadata": {},
   "outputs": [],
   "source": [
    "from datatype.dataset import Dataset\n",
    "from datatype.interactive import (\n",
    "    Interactive, \n",
    "    ThreeDimensional\n",
    ")\n",
    "from datatype.settings import Settings\n",
    "from datatype.trace import (\n",
    "    AnimationTrace,\n",
    "    CoordinateTrace,\n",
    "    DurationTrace,\n",
    "    FuzzyClusterTrace,\n",
    "    HDBScanTrace,\n",
    "    SequenceTrace,\n",
    "    SingleClusterTrace\n",
    ")\n",
    "from IPython.display import display"
   ]
  },
  {
   "cell_type": "code",
   "execution_count": 3,
   "id": "5ff3f9f9",
   "metadata": {},
   "outputs": [],
   "source": [
    "dataset = Dataset('segment')\n",
    "dataframe = dataset.load()"
   ]
  },
  {
   "cell_type": "code",
   "execution_count": 4,
   "id": "2d659cac-3f05-413b-a451-0e7b0b639bc0",
   "metadata": {},
   "outputs": [],
   "source": [
    "fcm = dataframe.fcm_label_3d.unique()\n",
    "hdbscan = dataframe.hdbscan_label_3d.unique()\n",
    "\n",
    "settings = Settings.from_dict(\n",
    "    {\n",
    "        'fcm': fcm,\n",
    "        'hdbscan': hdbscan,\n",
    "        'marker': {\n",
    "            'opacity': 0.25,\n",
    "            'size': 3\n",
    "        }\n",
    "    }\n",
    ")"
   ]
  },
  {
   "cell_type": "code",
   "execution_count": 5,
   "id": "ff0262d8-6d85-4b7e-a565-2540f63664aa",
   "metadata": {
    "tags": []
   },
   "outputs": [
    {
     "data": {
      "application/vnd.jupyter.widget-view+json": {
       "model_id": "8fcfafd554264a3a998d63d949dca94b",
       "version_major": 2,
       "version_minor": 0
      },
      "text/plain": [
       "HTML(value='\\n            <style>\\n                .left {\\n                    width: 30% !important;\\n      …"
      ]
     },
     "metadata": {},
     "output_type": "display_data"
    },
    {
     "data": {
      "application/vnd.jupyter.widget-view+json": {
       "model_id": "c5065bb8019845afbb19f9633052a38f",
       "version_major": 2,
       "version_minor": 0
      },
      "text/plain": [
       "VBox(children=(HBox(children=(VBox(children=(Image(value=b\"\\x89PNG\\r\\n\\x1a\\n\\x00\\x00\\x00\\rIHDR\\x00\\x00\\x002\\x0…"
      ]
     },
     "metadata": {},
     "output_type": "display_data"
    }
   ],
   "source": [
    "trace = HDBScanTrace()\n",
    "trace.settings = settings\n",
    "\n",
    "strategy = ThreeDimensional()\n",
    "strategy.dataframe = dataframe\n",
    "strategy.trace = trace\n",
    "\n",
    "interactive = Interactive()\n",
    "interactive.dataframe = dataframe\n",
    "interactive.strategy = strategy\n",
    "\n",
    "widget = interactive.create()\n",
    "display(widget)"
   ]
  }
 ],
 "metadata": {
  "kernelspec": {
   "display_name": "Python 3 (ipykernel)",
   "language": "python",
   "name": "python3"
  },
  "language_info": {
   "codemirror_mode": {
    "name": "ipython",
    "version": 3
   },
   "file_extension": ".py",
   "mimetype": "text/x-python",
   "name": "python",
   "nbconvert_exporter": "python",
   "pygments_lexer": "ipython3",
   "version": "3.9.5"
  }
 },
 "nbformat": 4,
 "nbformat_minor": 5
}
