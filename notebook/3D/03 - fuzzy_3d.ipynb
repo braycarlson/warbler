{
 "cells": [
  {
   "cell_type": "markdown",
   "id": "2afcd846",
   "metadata": {},
   "source": [
    "# 3D Fuzzy Clustering\n",
    "\n",
    "Description"
   ]
  },
  {
   "cell_type": "code",
   "execution_count": 1,
   "id": "c422b044",
   "metadata": {},
   "outputs": [],
   "source": [
    "# Reload the notebook if an external file is updated\n",
    "%load_ext autoreload\n",
    "%autoreload 2\n",
    "\n",
    "import os\n",
    "import sys\n",
    "\n",
    "from pathlib import Path\n",
    "\n",
    "path = (\n",
    "    Path\n",
    "    .cwd()\n",
    "    .parent\n",
    "    .parent\n",
    "    .joinpath('warbler')\n",
    "    .as_posix()\n",
    ")\n",
    "\n",
    "os.chdir(path)\n",
    "sys.path.append(path)"
   ]
  },
  {
   "cell_type": "code",
   "execution_count": 2,
   "id": "c9274221",
   "metadata": {},
   "outputs": [],
   "source": [
    "import numpy as np\n",
    "import pandas as pd\n",
    "\n",
    "from constant import OUTPUT\n",
    "from datatype.dataset import Dataset\n",
    "from fcmeans import FCM"
   ]
  },
  {
   "cell_type": "code",
   "execution_count": 3,
   "id": "5ff3f9f9",
   "metadata": {},
   "outputs": [],
   "source": [
    "dataset = Dataset('segment')\n",
    "dataframe = dataset.load()"
   ]
  },
  {
   "cell_type": "code",
   "execution_count": 4,
   "id": "7aee14d9",
   "metadata": {},
   "outputs": [],
   "source": [
    "x = np.array(\n",
    "    [\n",
    "        dataframe.umap_x_3d,\n",
    "        dataframe.umap_y_3d,\n",
    "        dataframe.umap_z_3d\n",
    "    ]\n",
    ").transpose()"
   ]
  },
  {
   "cell_type": "code",
   "execution_count": 5,
   "id": "b1bd9bf8",
   "metadata": {},
   "outputs": [],
   "source": [
    "fcm = FCM(\n",
    "    m=2.9,\n",
    "    max_iter=200,\n",
    "    n_clusters=14,\n",
    "    random_state=42\n",
    ")\n",
    "\n",
    "fcm.fit(x)"
   ]
  },
  {
   "cell_type": "code",
   "execution_count": 6,
   "id": "14593876",
   "metadata": {},
   "outputs": [],
   "source": [
    "labels = fcm.predict(x)"
   ]
  },
  {
   "cell_type": "code",
   "execution_count": 7,
   "id": "bcd0edad-cba9-447c-95cd-a8ea153731bb",
   "metadata": {
    "tags": []
   },
   "outputs": [],
   "source": [
    "dataframe['fcm_label_3d'] = labels"
   ]
  },
  {
   "cell_type": "code",
   "execution_count": 8,
   "id": "010a58a3-c7c6-4201-b4b0-ed5f4b11df2e",
   "metadata": {},
   "outputs": [],
   "source": [
    "columns = [\n",
    "    f\"Cluster {i}\"\n",
    "    for i in range(fcm.n_clusters)\n",
    "]\n",
    "\n",
    "membership = pd.DataFrame(fcm.u, columns=columns)\n",
    "\n",
    "path = OUTPUT.joinpath('fcm_membership_3d.csv')\n",
    "membership.to_csv(path)"
   ]
  },
  {
   "cell_type": "code",
   "execution_count": 9,
   "id": "3a10749c-15a5-4c32-8cb7-0ed308207188",
   "metadata": {},
   "outputs": [
    {
     "name": "stderr",
     "output_type": "stream",
     "text": [
      "E:\\code\\personal\\warbler\\venv\\Lib\\site-packages\\tables\\leaf.py:323: RuntimeWarning: overflow encountered in scalar multiply\n",
      "  expected_mb = (expectedrows * rowsize) // MB\n"
     ]
    }
   ],
   "source": [
    "dataset.save(dataframe)"
   ]
  }
 ],
 "metadata": {
  "kernelspec": {
   "display_name": "Python 3 (ipykernel)",
   "language": "python",
   "name": "python3"
  },
  "language_info": {
   "codemirror_mode": {
    "name": "ipython",
    "version": 3
   },
   "file_extension": ".py",
   "mimetype": "text/x-python",
   "name": "python",
   "nbconvert_exporter": "python",
   "pygments_lexer": "ipython3",
   "version": "3.11.2"
  }
 },
 "nbformat": 4,
 "nbformat_minor": 5
}
