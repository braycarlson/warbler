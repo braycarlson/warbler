{
 "cells": [
  {
   "cell_type": "markdown",
   "id": "2afcd846",
   "metadata": {},
   "source": [
    "# 3D Fuzzy Clustering\n",
    "\n",
    "Description"
   ]
  },
  {
   "cell_type": "code",
   "execution_count": 1,
   "id": "c422b044",
   "metadata": {},
   "outputs": [],
   "source": [
    "# Reload the notebook if an external file is updated\n",
    "%load_ext autoreload\n",
    "%autoreload 2\n",
    "\n",
    "import sys\n",
    "\n",
    "from pathlib import Path\n",
    "\n",
    "path = str(Path.cwd().parent)\n",
    "sys.path.append(path)"
   ]
  },
  {
   "cell_type": "code",
   "execution_count": 2,
   "id": "c9274221",
   "metadata": {},
   "outputs": [],
   "source": [
    "import numpy as np\n",
    "\n",
    "from datatype.dataset import Dataset\n",
    "from fcmeans import FCM"
   ]
  },
  {
   "cell_type": "code",
   "execution_count": 3,
   "id": "5ff3f9f9",
   "metadata": {},
   "outputs": [],
   "source": [
    "dataset = Dataset('segment')\n",
    "dataframe = dataset.load()"
   ]
  },
  {
   "cell_type": "code",
   "execution_count": 4,
   "id": "7aee14d9",
   "metadata": {},
   "outputs": [],
   "source": [
    "X = np.concatenate(\n",
    "    (\n",
    "        [dataframe.umap_x_3d],\n",
    "        [dataframe.umap_y_3d],\n",
    "        [dataframe.umap_z_3d],\n",
    "    )\n",
    ")\n",
    "\n",
    "X = X.transpose()"
   ]
  },
  {
   "cell_type": "code",
   "execution_count": 5,
   "id": "b1bd9bf8",
   "metadata": {},
   "outputs": [],
   "source": [
    "fcm = FCM(n_clusters=6)\n",
    "fcm.fit(X)"
   ]
  },
  {
   "cell_type": "code",
   "execution_count": 6,
   "id": "14593876",
   "metadata": {},
   "outputs": [],
   "source": [
    "labels = fcm.predict(X)"
   ]
  },
  {
   "cell_type": "code",
   "execution_count": 7,
   "id": "bcd0edad-cba9-447c-95cd-a8ea153731bb",
   "metadata": {
    "tags": []
   },
   "outputs": [],
   "source": [
    "dataframe['fcm_label_3d'] = labels"
   ]
  },
  {
   "cell_type": "code",
   "execution_count": 8,
   "id": "3a10749c-15a5-4c32-8cb7-0ed308207188",
   "metadata": {},
   "outputs": [],
   "source": [
    "dataset.save(dataframe)"
   ]
  }
 ],
 "metadata": {
  "kernelspec": {
   "display_name": "Python 3 (ipykernel)",
   "language": "python",
   "name": "python3"
  },
  "language_info": {
   "codemirror_mode": {
    "name": "ipython",
    "version": 3
   },
   "file_extension": ".py",
   "mimetype": "text/x-python",
   "name": "python",
   "nbconvert_exporter": "python",
   "pygments_lexer": "ipython3",
   "version": "3.9.5"
  }
 },
 "nbformat": 4,
 "nbformat_minor": 5
}
