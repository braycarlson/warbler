{
 "cells": [
  {
   "cell_type": "markdown",
   "id": "2afcd846",
   "metadata": {},
   "source": [
    "# 3D Embedding\n",
    "\n",
    "Description"
   ]
  },
  {
   "cell_type": "code",
   "execution_count": 1,
   "id": "c422b044",
   "metadata": {},
   "outputs": [],
   "source": [
    "# Reload the notebook if an external file is updated\n",
    "%load_ext autoreload\n",
    "%autoreload 2\n",
    "\n",
    "import sys\n",
    "\n",
    "from pathlib import Path\n",
    "\n",
    "path = str(Path.cwd().parent)\n",
    "sys.path.append(path)"
   ]
  },
  {
   "cell_type": "code",
   "execution_count": 2,
   "id": "c9274221",
   "metadata": {},
   "outputs": [],
   "source": [
    "import umap\n",
    "\n",
    "from datatype.dataframe import Dataframe\n",
    "from datatype.spectrogram import flatten\n",
    "from umap import validation"
   ]
  },
  {
   "cell_type": "code",
   "execution_count": 5,
   "id": "5ff3f9f9",
   "metadata": {},
   "outputs": [],
   "source": [
    "file = Dataframe()\n",
    "dataframe = file.load()\n",
    "    \n",
    "mask = (~dataframe.exclude & dataframe.duration > 0) \n",
    "dataframe = dataframe[mask]"
   ]
  },
  {
   "cell_type": "code",
   "execution_count": 6,
   "id": "d871d114",
   "metadata": {},
   "outputs": [],
   "source": [
    "spectrogram = dataframe['spectrogram'].values.tolist()\n",
    "flattened = flatten(spectrogram)"
   ]
  },
  {
   "cell_type": "code",
   "execution_count": 7,
   "id": "4054f6cd",
   "metadata": {},
   "outputs": [],
   "source": [
    "um = umap.UMAP(\n",
    "    low_memory=True,\n",
    "    metric='euclidean',\n",
    "    min_dist=0.0,\n",
    "    n_neighbors=5,\n",
    "    n_components=3,\n",
    "    n_jobs=-1\n",
    ")"
   ]
  },
  {
   "cell_type": "code",
   "execution_count": 8,
   "id": "fefa3ff0",
   "metadata": {},
   "outputs": [],
   "source": [
    "embedding = um.fit_transform(flattened)"
   ]
  },
  {
   "cell_type": "code",
   "execution_count": 9,
   "id": "ede9b995-d572-4009-9ff3-93be8993c4fe",
   "metadata": {},
   "outputs": [],
   "source": [
    "# trustworthiness = validation.trustworthiness_vector(\n",
    "#     source=um._raw_data,\n",
    "#     embedding=um.embedding_,\n",
    "#     max_k=30\n",
    "# )\n",
    "\n",
    "# plt.plot(trustworthiness)\n",
    "# plt.ylabel('Value of k')\n",
    "# plt.xlabel('Trustworthiness score')\n",
    "# plt.title('Trustworthiness')\n",
    "\n",
    "# plt.show()\n",
    "# plt.close()"
   ]
  },
  {
   "cell_type": "code",
   "execution_count": 10,
   "id": "6ee2362a-89c5-4b1f-b88f-1ce89576a263",
   "metadata": {},
   "outputs": [],
   "source": [
    "_, dimension = embedding.shape\n",
    "\n",
    "for i in range(dimension):\n",
    "    if i == 0:\n",
    "        dataframe['umap_x_3d'] = embedding[:, i]\n",
    "    if i == 1:\n",
    "        dataframe['umap_y_3d'] = embedding[:, i]\n",
    "    else:\n",
    "        dataframe['umap_z_3d'] = embedding[:, i]"
   ]
  },
  {
   "cell_type": "code",
   "execution_count": 11,
   "id": "75334b52",
   "metadata": {},
   "outputs": [],
   "source": [
    "file.save(dataframe)"
   ]
  }
 ],
 "metadata": {
  "kernelspec": {
   "display_name": "warbler.py",
   "language": "python",
   "name": "warblerpy"
  },
  "language_info": {
   "codemirror_mode": {
    "name": "ipython",
    "version": 3
   },
   "file_extension": ".py",
   "mimetype": "text/x-python",
   "name": "python",
   "nbconvert_exporter": "python",
   "pygments_lexer": "ipython3",
   "version": "3.9.5"
  }
 },
 "nbformat": 4,
 "nbformat_minor": 5
}
