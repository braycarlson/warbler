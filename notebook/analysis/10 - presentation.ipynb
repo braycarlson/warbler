{
 "cells": [
  {
   "cell_type": "markdown",
   "id": "76590601-fabe-483a-b75a-76711b068743",
   "metadata": {},
   "source": [
    "# Plot\n",
    "Description"
   ]
  },
  {
   "cell_type": "code",
   "execution_count": 1,
   "id": "a13047b5-3001-4d86-b568-0e9b45a71eb0",
   "metadata": {
    "tags": []
   },
   "outputs": [],
   "source": [
    "# Reload the notebook if an external file is updated\n",
    "%load_ext autoreload\n",
    "%autoreload 2\n",
    "\n",
    "import os\n",
    "import sys\n",
    "\n",
    "from pathlib import Path\n",
    "\n",
    "path = (\n",
    "    Path\n",
    "    .cwd()\n",
    "    .parent\n",
    "    .parent\n",
    "    .joinpath('warbler')\n",
    "    .as_posix()\n",
    ")\n",
    "\n",
    "os.chdir(path)\n",
    "sys.path.append(path)"
   ]
  },
  {
   "cell_type": "code",
   "execution_count": 2,
   "id": "431d002b-352a-48af-a73d-2b42d710e888",
   "metadata": {
    "tags": []
   },
   "outputs": [],
   "source": [
    "import matplotlib.colors\n",
    "import matplotlib.pyplot as plt\n",
    "import numpy as np\n",
    "import scienceplots\n",
    "import seaborn as sns\n",
    "\n",
    "from constant import PROJECTION\n",
    "from datatype.dataset import Dataset\n",
    "from datatype.imaging import to_numpy\n",
    "from datatype.spectrogram import compress\n",
    "from io import BytesIO\n",
    "from matplotlib import lines\n",
    "from matplotlib import gridspec\n",
    "from mpl_toolkits.axes_grid1.inset_locator import inset_axes\n",
    "from PIL import Image\n",
    "from scipy.spatial import cKDTree"
   ]
  },
  {
   "cell_type": "code",
   "execution_count": 3,
   "id": "35d07311-3c04-47a9-822d-225fa95b5d8e",
   "metadata": {
    "tags": []
   },
   "outputs": [],
   "source": [
    "def get_songtype(name, folder):\n",
    "    name = (\n",
    "        name\n",
    "        .replace('STE', '')\n",
    "        .replace(f\"_{folder}\", '')\n",
    "    )\n",
    "\n",
    "    if len(name) > 2:\n",
    "        return name[:2]\n",
    "\n",
    "    return name"
   ]
  },
  {
   "cell_type": "code",
   "execution_count": 4,
   "id": "0bd934c6-439f-4811-93f7-732412a0de64",
   "metadata": {},
   "outputs": [],
   "source": [
    "plt.style.use('science')"
   ]
  },
  {
   "cell_type": "code",
   "execution_count": 5,
   "id": "d9eb97c2-9ac2-407b-9f7b-9c9761d03dd6",
   "metadata": {
    "tags": []
   },
   "outputs": [],
   "source": [
    "dataset = Dataset('segment')\n",
    "dataframe = dataset.load()"
   ]
  },
  {
   "cell_type": "code",
   "execution_count": 6,
   "id": "9d98c248-1361-4b42-9bce-caa7c6b2a045",
   "metadata": {
    "tags": []
   },
   "outputs": [],
   "source": [
    "folder = 'DgDgY_STE2017'\n",
    "\n",
    "individual = dataframe[dataframe.folder == folder]\n",
    "individual.reset_index(inplace=True)\n",
    "individual = individual.copy()"
   ]
  },
  {
   "cell_type": "code",
   "execution_count": 7,
   "id": "1547da7d-67a3-4bc3-8558-c5e752c3d4eb",
   "metadata": {
    "tags": []
   },
   "outputs": [],
   "source": [
    "individual['songtype'] = (\n",
    "    individual['filename']\n",
    "    .apply(\n",
    "        lambda x: get_songtype(x, folder)\n",
    "    )\n",
    ").astype('uint8')"
   ]
  },
  {
   "cell_type": "code",
   "execution_count": 8,
   "id": "da013dd9-b3f2-4042-9741-92f72144aa49",
   "metadata": {
    "tags": []
   },
   "outputs": [
    {
     "data": {
      "text/plain": [
       "[1, 4, 5, 7, 11, 12, 15, 21]"
      ]
     },
     "execution_count": 8,
     "metadata": {},
     "output_type": "execute_result"
    }
   ],
   "source": [
    "selection = [\n",
    "    i.songtype.unique() for _, i in individual.groupby('songtype')\n",
    "    if i.filename.unique().size > 1\n",
    "]\n",
    "\n",
    "selection = (\n",
    "    np.concatenate(selection)\n",
    "    .ravel()\n",
    "    .tolist()\n",
    ")\n",
    "\n",
    "selection"
   ]
  },
  {
   "cell_type": "code",
   "execution_count": 9,
   "id": "9489f97e-617e-45c9-a1de-a45d3c04c9b7",
   "metadata": {
    "tags": []
   },
   "outputs": [],
   "source": [
    "title = f\"Songtypes of {folder}\"\n",
    "\n",
    "by = ['filename']\n",
    "ascending = [True]\n",
    "\n",
    "individual.sort_values(\n",
    "    ascending=ascending,\n",
    "    by=by,\n",
    "    inplace=True\n",
    ")\n",
    "\n",
    "figsize = (15, 15)\n",
    "plt.figure(figsize=figsize)\n",
    "\n",
    "ax = sns.scatterplot(\n",
    "    individual, \n",
    "    x='umap_x_2d', \n",
    "    y='umap_y_2d',\n",
    "    hue='filename',\n",
    "    alpha=0.75,\n",
    "    legend='full',\n",
    "    linewidth=0.5,\n",
    "    palette='tab20',\n",
    "    s=200\n",
    ")\n",
    "\n",
    "sns.move_legend(\n",
    "    ax, \n",
    "    'upper left', \n",
    "    bbox_to_anchor=(1, 1),\n",
    "    labelspacing=0.7,\n",
    "    title='Filename'\n",
    ")\n",
    "\n",
    "ax.set(\n",
    "    title=title,\n",
    "    xlabel=None, \n",
    "    ylabel=None,\n",
    "    xticklabels=[],\n",
    "    yticklabels=[]\n",
    ")\n",
    "\n",
    "ax.tick_params(\n",
    "    bottom=False,\n",
    "    left=False\n",
    ")\n",
    "\n",
    "filename = f\"{folder}_songtype.png\"\n",
    "path = PROJECTION.joinpath(filename)\n",
    "\n",
    "plt.savefig(\n",
    "    path,\n",
    "    bbox_inches='tight',\n",
    "    dpi=300,\n",
    "    format='png'\n",
    ")\n",
    "\n",
    "plt.close()"
   ]
  }
 ],
 "metadata": {
  "kernelspec": {
   "display_name": "Python 3 (ipykernel)",
   "language": "python",
   "name": "python3"
  },
  "language_info": {
   "codemirror_mode": {
    "name": "ipython",
    "version": 3
   },
   "file_extension": ".py",
   "mimetype": "text/x-python",
   "name": "python",
   "nbconvert_exporter": "python",
   "pygments_lexer": "ipython3",
   "version": "3.11.2"
  }
 },
 "nbformat": 4,
 "nbformat_minor": 5
}
