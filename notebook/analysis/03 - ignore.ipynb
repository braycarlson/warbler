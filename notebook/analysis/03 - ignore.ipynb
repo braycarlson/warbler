{
 "cells": [
  {
   "cell_type": "markdown",
   "id": "bc16eafa-ef14-426e-817a-9e22052665f6",
   "metadata": {},
   "source": [
    "# EDA for Segment\n",
    "\n",
    "Description"
   ]
  },
  {
   "cell_type": "code",
   "execution_count": 1,
   "id": "67732c12-68ab-4532-88ef-3f3cd3aebe24",
   "metadata": {},
   "outputs": [],
   "source": [
    "# Reload the notebook if an external file is updated\n",
    "%load_ext autoreload\n",
    "%autoreload 2\n",
    "\n",
    "import sys\n",
    "\n",
    "from pathlib import Path\n",
    "\n",
    "path = str(Path.cwd().parent)\n",
    "sys.path.append(path)"
   ]
  },
  {
   "cell_type": "code",
   "execution_count": 2,
   "id": "7e6145ba-050d-4c40-a58d-3054182552a2",
   "metadata": {},
   "outputs": [],
   "source": [
    "import seaborn as sns\n",
    "\n",
    "from datatype.dataset import Dataset\n",
    "from matplotlib import pyplot as plt"
   ]
  },
  {
   "cell_type": "code",
   "execution_count": 3,
   "id": "24095a63-57d5-41c8-8c44-f447a54aab2f",
   "metadata": {},
   "outputs": [],
   "source": [
    "dataset = Dataset('ignore')\n",
    "dataframe = dataset.load()"
   ]
  },
  {
   "cell_type": "code",
   "execution_count": 4,
   "id": "08061f7d-70d3-4912-9c3f-64e806f11ec1",
   "metadata": {},
   "outputs": [],
   "source": [
    "folders = dataframe.folder.unique()"
   ]
  },
  {
   "cell_type": "code",
   "execution_count": 5,
   "id": "30bb7178-9644-45cf-91f8-6cbc0ebace3b",
   "metadata": {},
   "outputs": [],
   "source": [
    "def get_exclusion_count(dataframe):\n",
    "    exclusions = []\n",
    "    \n",
    "    for folder in folders:\n",
    "        subset = dataframe[dataframe.folder == folder]\n",
    "\n",
    "        exclusions.append(\n",
    "            subset.exclude.sum()\n",
    "        )\n",
    "\n",
    "    return exclusions"
   ]
  },
  {
   "cell_type": "code",
   "execution_count": 6,
   "id": "4e2d0534-7a82-426b-b852-1bca851a2d9b",
   "metadata": {},
   "outputs": [],
   "source": [
    "def get_recording_count(dataframe):\n",
    "    recordings = []\n",
    "    \n",
    "    for folder in folders:\n",
    "        subset = dataframe[dataframe.folder == folder]\n",
    "\n",
    "        recordings.append(\n",
    "            len(\n",
    "                subset.filename.unique()\n",
    "            )\n",
    "        )\n",
    "\n",
    "    return recordings"
   ]
  },
  {
   "cell_type": "code",
   "execution_count": 7,
   "id": "cf331ee0-5ab1-43a9-986c-5919b3a57e21",
   "metadata": {},
   "outputs": [],
   "source": [
    "def get_segment_count(dataframe):\n",
    "    segments = []\n",
    "    \n",
    "    for folder in folders:\n",
    "        subset = dataframe[dataframe.folder == folder]\n",
    "        filename = subset.filename.value_counts().sum()\n",
    "        \n",
    "        segments.append(filename)\n",
    "\n",
    "    return segments"
   ]
  },
  {
   "cell_type": "code",
   "execution_count": 8,
   "id": "d0dd7f1e-eea3-4d60-b363-e5a4fdce293d",
   "metadata": {},
   "outputs": [],
   "source": [
    "def get_segment_mean_duration(dataframe):\n",
    "    durations = []\n",
    "    \n",
    "    for folder in folders:\n",
    "        subset = dataframe[dataframe.folder == folder]\n",
    "        duration = subset.duration.mean()\n",
    "        \n",
    "        durations.append(duration)\n",
    "\n",
    "    return durations"
   ]
  },
  {
   "cell_type": "code",
   "execution_count": 9,
   "id": "30a7c637-a0c4-41a0-ad11-46ee5547b01e",
   "metadata": {},
   "outputs": [],
   "source": [
    "def get_recording_mean_duration(dataframe):\n",
    "    durations = []\n",
    "    \n",
    "    for folder in folders:\n",
    "        subset = dataframe[dataframe.folder == folder]\n",
    "        \n",
    "        duration = (\n",
    "            subset\n",
    "            .groupby('filename')\n",
    "            .first()\n",
    "            .signal\n",
    "            .apply(lambda s: s.duration)\n",
    "            .to_numpy()\n",
    "            .mean()\n",
    "        )\n",
    "\n",
    "        durations.append(duration)\n",
    "\n",
    "    return durations"
   ]
  },
  {
   "cell_type": "code",
   "execution_count": 10,
   "id": "5ae2ff7d-ef12-40c3-8ec0-cbaddfe55322",
   "metadata": {},
   "outputs": [
    {
     "ename": "AttributeError",
     "evalue": "'DataFrame' object has no attribute 'exclude'",
     "output_type": "error",
     "traceback": [
      "\u001b[1;31m---------------------------------------------------------------------------\u001b[0m",
      "\u001b[1;31mAttributeError\u001b[0m                            Traceback (most recent call last)",
      "Cell \u001b[1;32mIn[10], line 1\u001b[0m\n\u001b[1;32m----> 1\u001b[0m exclusions \u001b[38;5;241m=\u001b[39m \u001b[43mget_exclusion_count\u001b[49m\u001b[43m(\u001b[49m\u001b[43mdataframe\u001b[49m\u001b[43m)\u001b[49m\n\u001b[0;32m      3\u001b[0m fig, ax \u001b[38;5;241m=\u001b[39m plt\u001b[38;5;241m.\u001b[39msubplots(\n\u001b[0;32m      4\u001b[0m     figsize\u001b[38;5;241m=\u001b[39m(\u001b[38;5;241m18\u001b[39m, \u001b[38;5;241m12\u001b[39m)\n\u001b[0;32m      5\u001b[0m )\n\u001b[0;32m      7\u001b[0m ax\u001b[38;5;241m.\u001b[39mset_title(\u001b[38;5;124m'\u001b[39m\u001b[38;5;124mSegment Exclusion per Individual\u001b[39m\u001b[38;5;124m'\u001b[39m)\n",
      "Cell \u001b[1;32mIn[5], line 8\u001b[0m, in \u001b[0;36mget_exclusion_count\u001b[1;34m(dataframe)\u001b[0m\n\u001b[0;32m      4\u001b[0m \u001b[38;5;28;01mfor\u001b[39;00m folder \u001b[38;5;129;01min\u001b[39;00m folders:\n\u001b[0;32m      5\u001b[0m     subset \u001b[38;5;241m=\u001b[39m dataframe[dataframe\u001b[38;5;241m.\u001b[39mfolder \u001b[38;5;241m==\u001b[39m folder]\n\u001b[0;32m      7\u001b[0m     exclusions\u001b[38;5;241m.\u001b[39mappend(\n\u001b[1;32m----> 8\u001b[0m         \u001b[43msubset\u001b[49m\u001b[38;5;241;43m.\u001b[39;49m\u001b[43mexclude\u001b[49m\u001b[38;5;241m.\u001b[39msum()\n\u001b[0;32m      9\u001b[0m     )\n\u001b[0;32m     11\u001b[0m \u001b[38;5;28;01mreturn\u001b[39;00m exclusions\n",
      "File \u001b[1;32mE:\\code\\personal\\warbler.py\\venv\\lib\\site-packages\\pandas\\core\\generic.py:5902\u001b[0m, in \u001b[0;36mNDFrame.__getattr__\u001b[1;34m(self, name)\u001b[0m\n\u001b[0;32m   5895\u001b[0m \u001b[38;5;28;01mif\u001b[39;00m (\n\u001b[0;32m   5896\u001b[0m     name \u001b[38;5;129;01mnot\u001b[39;00m \u001b[38;5;129;01min\u001b[39;00m \u001b[38;5;28mself\u001b[39m\u001b[38;5;241m.\u001b[39m_internal_names_set\n\u001b[0;32m   5897\u001b[0m     \u001b[38;5;129;01mand\u001b[39;00m name \u001b[38;5;129;01mnot\u001b[39;00m \u001b[38;5;129;01min\u001b[39;00m \u001b[38;5;28mself\u001b[39m\u001b[38;5;241m.\u001b[39m_metadata\n\u001b[0;32m   5898\u001b[0m     \u001b[38;5;129;01mand\u001b[39;00m name \u001b[38;5;129;01mnot\u001b[39;00m \u001b[38;5;129;01min\u001b[39;00m \u001b[38;5;28mself\u001b[39m\u001b[38;5;241m.\u001b[39m_accessors\n\u001b[0;32m   5899\u001b[0m     \u001b[38;5;129;01mand\u001b[39;00m \u001b[38;5;28mself\u001b[39m\u001b[38;5;241m.\u001b[39m_info_axis\u001b[38;5;241m.\u001b[39m_can_hold_identifiers_and_holds_name(name)\n\u001b[0;32m   5900\u001b[0m ):\n\u001b[0;32m   5901\u001b[0m     \u001b[38;5;28;01mreturn\u001b[39;00m \u001b[38;5;28mself\u001b[39m[name]\n\u001b[1;32m-> 5902\u001b[0m \u001b[38;5;28;01mreturn\u001b[39;00m \u001b[38;5;28;43mobject\u001b[39;49m\u001b[38;5;241;43m.\u001b[39;49m\u001b[38;5;21;43m__getattribute__\u001b[39;49m\u001b[43m(\u001b[49m\u001b[38;5;28;43mself\u001b[39;49m\u001b[43m,\u001b[49m\u001b[43m \u001b[49m\u001b[43mname\u001b[49m\u001b[43m)\u001b[49m\n",
      "\u001b[1;31mAttributeError\u001b[0m: 'DataFrame' object has no attribute 'exclude'"
     ]
    }
   ],
   "source": [
    "exclusions = get_exclusion_count(dataframe)\n",
    "\n",
    "fig, ax = plt.subplots(\n",
    "    figsize=(18, 12)\n",
    ")\n",
    "\n",
    "ax.set_title('Segment Exclusion per Individual')\n",
    "ax.set_xlabel('Exclusion')\n",
    "ax.set_ylabel('Individual')\n",
    "\n",
    "sns.barplot(x=exclusions, y=folders, orient='h')\n",
    "plt.show()\n",
    "plt.close()"
   ]
  },
  {
   "cell_type": "code",
   "execution_count": null,
   "id": "d5adc30c-cdb9-4af2-920b-1504c72ac2c7",
   "metadata": {},
   "outputs": [],
   "source": [
    "recordings = get_recording_count(dataframe)\n",
    "\n",
    "fig, ax = plt.subplots(\n",
    "    figsize=(18, 12)\n",
    ")\n",
    "\n",
    "ax.set_title('Recordings per Individual')\n",
    "ax.set_xlabel('Recordings')\n",
    "ax.set_ylabel('Individual')\n",
    "\n",
    "sns.barplot(x=recordings, y=folders, orient='h')\n",
    "plt.show()\n",
    "plt.close()"
   ]
  },
  {
   "cell_type": "code",
   "execution_count": null,
   "id": "c67eb410-cb1f-4feb-84a4-d6c7286a8775",
   "metadata": {},
   "outputs": [],
   "source": [
    "segments = get_segment_count(dataframe)\n",
    "\n",
    "fig, ax = plt.subplots(\n",
    "    figsize=(18, 12)\n",
    ")\n",
    "\n",
    "ax.set_title('Segments per Individual')\n",
    "ax.set_xlabel('Segments')\n",
    "ax.set_ylabel('Individual')\n",
    "\n",
    "sns.barplot(x=segments, y=folders, orient='h')\n",
    "plt.show()\n",
    "plt.close()"
   ]
  },
  {
   "cell_type": "code",
   "execution_count": null,
   "id": "c72be2d8-c445-4a9c-bede-b0ee4e6a305d",
   "metadata": {},
   "outputs": [],
   "source": [
    "durations = get_recording_mean_duration(dataframe)\n",
    "\n",
    "fig, ax = plt.subplots(\n",
    "    figsize=(18, 12)\n",
    ")\n",
    "\n",
    "ax.set_title('Mean Recording Duration per Individual')\n",
    "ax.set_xlabel('Mean Recording Duration (s)')\n",
    "ax.set_ylabel('Individual')\n",
    "\n",
    "sns.barplot(x=durations, y=folders, orient='h')\n",
    "plt.show()\n",
    "plt.close()"
   ]
  },
  {
   "cell_type": "code",
   "execution_count": null,
   "id": "555e03b8-3e9a-4e0f-a0e7-efc178ed647b",
   "metadata": {},
   "outputs": [],
   "source": [
    "durations = get_segment_mean_duration(dataframe)\n",
    "\n",
    "fig, ax = plt.subplots(\n",
    "    figsize=(18, 12)\n",
    ")\n",
    "\n",
    "ax.set_title('Mean Segment Duration per Individual')\n",
    "ax.set_xlabel('Mean Segment Duration (s)')\n",
    "ax.set_ylabel('Individual')\n",
    "\n",
    "sns.barplot(x=durations, y=folders, orient='h')\n",
    "plt.show()\n",
    "plt.close()"
   ]
  }
 ],
 "metadata": {
  "kernelspec": {
   "display_name": "warbler.py",
   "language": "python",
   "name": "warblerpy"
  },
  "language_info": {
   "codemirror_mode": {
    "name": "ipython",
    "version": 3
   },
   "file_extension": ".py",
   "mimetype": "text/x-python",
   "name": "python",
   "nbconvert_exporter": "python",
   "pygments_lexer": "ipython3",
   "version": "3.9.5"
  }
 },
 "nbformat": 4,
 "nbformat_minor": 5
}
