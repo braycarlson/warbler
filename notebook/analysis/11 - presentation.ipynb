{
 "cells": [
  {
   "cell_type": "markdown",
   "id": "76590601-fabe-483a-b75a-76711b068743",
   "metadata": {},
   "source": [
    "# Plot"
   ]
  },
  {
   "cell_type": "code",
   "execution_count": 1,
   "id": "a13047b5-3001-4d86-b568-0e9b45a71eb0",
   "metadata": {
    "tags": []
   },
   "outputs": [],
   "source": [
    "# Reload the notebook if an external file is updated\n",
    "%load_ext autoreload\n",
    "%autoreload 2\n",
    "\n",
    "import os\n",
    "import sys\n",
    "\n",
    "from pathlib import Path\n",
    "\n",
    "path = (\n",
    "    Path\n",
    "    .cwd()\n",
    "    .parent\n",
    "    .parent\n",
    "    .joinpath('warbler')\n",
    "    .as_posix()\n",
    ")\n",
    "\n",
    "os.chdir(path)\n",
    "sys.path.append(path)"
   ]
  },
  {
   "cell_type": "code",
   "execution_count": 2,
   "id": "431d002b-352a-48af-a73d-2b42d710e888",
   "metadata": {
    "tags": []
   },
   "outputs": [],
   "source": [
    "import matplotlib.colors\n",
    "import matplotlib.pyplot as plt\n",
    "import numpy as np\n",
    "import scienceplots\n",
    "import seaborn as sns\n",
    "\n",
    "from constant import PROJECTION\n",
    "from datatype.dataset import Dataset\n",
    "from datatype.imaging import to_numpy\n",
    "from datatype.spectrogram import compress\n",
    "from io import BytesIO\n",
    "from matplotlib import lines\n",
    "from matplotlib import gridspec\n",
    "from mpl_toolkits.axes_grid1.inset_locator import inset_axes\n",
    "from PIL import Image\n",
    "from scipy.spatial import cKDTree"
   ]
  },
  {
   "cell_type": "code",
   "execution_count": 3,
   "id": "c1fbc8ee-628e-4011-88ba-ea2d6aee1563",
   "metadata": {},
   "outputs": [],
   "source": [
    "plt.style.use('science')"
   ]
  },
  {
   "cell_type": "code",
   "execution_count": 4,
   "id": "d9eb97c2-9ac2-407b-9f7b-9c9761d03dd6",
   "metadata": {
    "tags": []
   },
   "outputs": [],
   "source": [
    "dataset = Dataset('segment')\n",
    "dataframe = dataset.load()"
   ]
  },
  {
   "cell_type": "code",
   "execution_count": 5,
   "id": "bfb3abe4-b4b6-4c44-9845-fdbc7e07941b",
   "metadata": {
    "tags": []
   },
   "outputs": [],
   "source": [
    "title = 'Dimensionality Reduction in Adelaide\\'s warbler'\n",
    "\n",
    "figsize = (15, 15)\n",
    "plt.figure(figsize=figsize)\n",
    "\n",
    "ax = sns.scatterplot(\n",
    "    dataframe, \n",
    "    x='umap_x_2d', \n",
    "    y='umap_y_2d',\n",
    "    alpha=0.50,\n",
    "    color='black',\n",
    "    s=100,\n",
    "    linewidth=0.1\n",
    ")\n",
    "\n",
    "ax.set(\n",
    "    title=title,\n",
    "    xlabel=None, \n",
    "    ylabel=None,\n",
    "    xticklabels=[],\n",
    "    yticklabels=[]\n",
    ")\n",
    "\n",
    "ax.tick_params(\n",
    "    bottom=False,\n",
    "    left=False\n",
    ")\n",
    "\n",
    "filename = f\"umap_projection.png\"\n",
    "path = PROJECTION.joinpath(filename)\n",
    "\n",
    "plt.savefig(\n",
    "    path,\n",
    "    bbox_inches='tight',\n",
    "    dpi=300,\n",
    "    format='png'\n",
    ")\n",
    "\n",
    "plt.close()"
   ]
  },
  {
   "cell_type": "code",
   "execution_count": 6,
   "id": "9489f97e-617e-45c9-a1de-a45d3c04c9b7",
   "metadata": {
    "tags": []
   },
   "outputs": [
    {
     "name": "stderr",
     "output_type": "stream",
     "text": [
      "C:\\Users\\Brayden\\AppData\\Local\\Temp\\ipykernel_4368\\2247394097.py:9: UserWarning: The palette list has more values (21) than needed (20), which may not be intended.\n",
      "  ax = sns.scatterplot(\n"
     ]
    }
   ],
   "source": [
    "title = 'Dimensionality Reduction in Adelaide\\'s warbler'\n",
    "\n",
    "figsize = (15, 15)\n",
    "plt.figure(figsize=figsize)\n",
    "\n",
    "palette = sns.color_palette('deep', 21)\n",
    "palette[0] = (0, 0, 0)\n",
    "\n",
    "ax = sns.scatterplot(\n",
    "    dataframe, \n",
    "    x='umap_x_2d', \n",
    "    y='umap_y_2d',\n",
    "    hue='hdbscan_label_2d',\n",
    "    alpha=0.75,\n",
    "    color='black',\n",
    "    palette=palette,\n",
    "    s=100,\n",
    "    linewidth=0.1\n",
    ")\n",
    "\n",
    "sns.move_legend(\n",
    "    ax, \n",
    "    'upper left', \n",
    "    bbox_to_anchor=(1, 1),\n",
    "    labelspacing=0.7,\n",
    "    title='HDBSCAN Label'\n",
    ")\n",
    "\n",
    "ax.set(\n",
    "    title=title,\n",
    "    xlabel=None, \n",
    "    ylabel=None,\n",
    "    xticklabels=[],\n",
    "    yticklabels=[]\n",
    ")\n",
    "\n",
    "ax.tick_params(\n",
    "    bottom=False,\n",
    "    left=False\n",
    ")\n",
    "\n",
    "filename = f\"hdbscan_projection.png\"\n",
    "path = PROJECTION.joinpath(filename)\n",
    "\n",
    "plt.savefig(\n",
    "    path,\n",
    "    bbox_inches='tight',\n",
    "    dpi=300,\n",
    "    format='png'\n",
    ")\n",
    "\n",
    "plt.close()"
   ]
  },
  {
   "cell_type": "code",
   "execution_count": 7,
   "id": "0da3d61e-97ba-48da-bf93-fa644dbd8490",
   "metadata": {
    "tags": []
   },
   "outputs": [],
   "source": [
    "title = 'Dimensionality Reduction in Adelaide\\'s warbler'\n",
    "\n",
    "figsize = (15, 15)\n",
    "plt.figure(figsize=figsize)\n",
    "\n",
    "cmap = sns.cubehelix_palette(as_cmap=True, light=1)\n",
    "\n",
    "ax = sns.kdeplot(\n",
    "    dataframe, \n",
    "    x='umap_x_2d', \n",
    "    y='umap_y_2d',\n",
    "    cmap=cmap, \n",
    "    fill=True\n",
    ")\n",
    "\n",
    "ax.set(\n",
    "    title=title,\n",
    "    xlabel=None, \n",
    "    ylabel=None,\n",
    "    xticklabels=[],\n",
    "    yticklabels=[]\n",
    ")\n",
    "\n",
    "ax.tick_params(\n",
    "    bottom=False,\n",
    "    left=False\n",
    ")\n",
    "\n",
    "filename = f\"kde_projection.png\"\n",
    "path = PROJECTION.joinpath(filename)\n",
    "\n",
    "plt.savefig(\n",
    "    path,\n",
    "    bbox_inches='tight',\n",
    "    dpi=300,\n",
    "    format='png'\n",
    ")\n",
    "\n",
    "plt.close()"
   ]
  }
 ],
 "metadata": {
  "kernelspec": {
   "display_name": "Python 3 (ipykernel)",
   "language": "python",
   "name": "python3"
  },
  "language_info": {
   "codemirror_mode": {
    "name": "ipython",
    "version": 3
   },
   "file_extension": ".py",
   "mimetype": "text/x-python",
   "name": "python",
   "nbconvert_exporter": "python",
   "pygments_lexer": "ipython3",
   "version": "3.11.2"
  }
 },
 "nbformat": 4,
 "nbformat_minor": 5
}
