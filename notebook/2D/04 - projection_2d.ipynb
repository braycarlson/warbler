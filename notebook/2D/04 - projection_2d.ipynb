{
 "cells": [
  {
   "cell_type": "markdown",
   "id": "2afcd846",
   "metadata": {},
   "source": [
    "# 2D Projection\n",
    "\n",
    "Description"
   ]
  },
  {
   "cell_type": "code",
   "execution_count": 1,
   "id": "c422b044",
   "metadata": {
    "tags": []
   },
   "outputs": [],
   "source": [
    "# Reload the notebook if an external file is updated\n",
    "%load_ext autoreload\n",
    "%autoreload 2\n",
    "\n",
    "import os\n",
    "import sys\n",
    "\n",
    "from pathlib import Path\n",
    "\n",
    "path = (\n",
    "    Path\n",
    "    .cwd()\n",
    "    .parent\n",
    "    .parent\n",
    "    .joinpath('warbler.py')\n",
    ")\n",
    "\n",
    "os.chdir(path)\n",
    "sys.path.append(path)"
   ]
  },
  {
   "cell_type": "code",
   "execution_count": 2,
   "id": "c9274221",
   "metadata": {},
   "outputs": [],
   "source": [
    "from constant import SETTINGS\n",
    "from datatype.dataset import Dataset\n",
    "from datatype.interactive import (\n",
    "    Interactive,\n",
    "    TwoDimensional\n",
    ")\n",
    "from datatype.settings import Settings\n",
    "from datatype.trace import (\n",
    "    CoordinateTrace,\n",
    "    DurationTrace,\n",
    "    FuzzyClusterTrace,\n",
    "    HDBScanTrace,\n",
    "    IndividualTrace,\n",
    "    MaximumFrequencyTrace,\n",
    "    MeanFrequencyTrace,\n",
    "    MinimumFrequencyTrace,\n",
    "    SequenceTrace,\n",
    "    SingleClusterTrace\n",
    ")\n",
    "from IPython.display import display"
   ]
  },
  {
   "cell_type": "code",
   "execution_count": 3,
   "id": "5ff3f9f9",
   "metadata": {},
   "outputs": [],
   "source": [
    "dataset = Dataset('segment')\n",
    "dataframe = dataset.load()"
   ]
  },
  {
   "cell_type": "code",
   "execution_count": 4,
   "id": "e02a0527-a75d-401d-af44-371e68f1c56b",
   "metadata": {},
   "outputs": [],
   "source": [
    "fcm = dataframe.fcm_label_2d.unique()\n",
    "hdbscan = dataframe.hdbscan_label_2d.unique()\n",
    "\n",
    "path = SETTINGS.joinpath('projection.json')\n",
    "settings = Settings.from_file(path)\n",
    "\n",
    "settings['fcm'] = fcm\n",
    "settings['hdbscan'] = hdbscan\n",
    "settings['marker']['opacity'] = 0.75\n",
    "settings['marker']['size'] = 5"
   ]
  },
  {
   "cell_type": "code",
   "execution_count": 5,
   "id": "055d8add-6000-4bbd-9ad7-7c860c85867b",
   "metadata": {
    "tags": []
   },
   "outputs": [
    {
     "data": {
      "application/vnd.jupyter.widget-view+json": {
       "model_id": "909b2e697fcc449c86687e996e07131c",
       "version_major": 2,
       "version_minor": 0
      },
      "text/plain": [
       "HTML(value='\\n            <style>\\n                .left {\\n                    width: 30% !important;\\n      …"
      ]
     },
     "metadata": {},
     "output_type": "display_data"
    },
    {
     "data": {
      "application/vnd.jupyter.widget-view+json": {
       "model_id": "e58f843387da4590b5e2a854ab17dd30",
       "version_major": 2,
       "version_minor": 0
      },
      "text/plain": [
       "VBox(children=(HBox(children=(VBox(children=(Image(value=b'\\x89PNG\\r\\n\\x1a\\n\\x00\\x00\\x00\\rIHDR\\x00\\x00\\x002\\x0…"
      ]
     },
     "metadata": {},
     "output_type": "display_data"
    }
   ],
   "source": [
    "trace = FuzzyClusterTrace()\n",
    "trace.settings = settings\n",
    "\n",
    "strategy = TwoDimensional()\n",
    "strategy.dataframe = dataframe\n",
    "strategy.trace = trace\n",
    "\n",
    "interactive = Interactive()\n",
    "interactive.dataframe = dataframe\n",
    "interactive.strategy = strategy\n",
    "\n",
    "widget = interactive.create()\n",
    "display(widget)"
   ]
  }
 ],
 "metadata": {
  "kernelspec": {
   "display_name": "Python 3 (ipykernel)",
   "language": "python",
   "name": "python3"
  },
  "language_info": {
   "codemirror_mode": {
    "name": "ipython",
    "version": 3
   },
   "file_extension": ".py",
   "mimetype": "text/x-python",
   "name": "python",
   "nbconvert_exporter": "python",
   "pygments_lexer": "ipython3",
   "version": "3.11.2"
  }
 },
 "nbformat": 4,
 "nbformat_minor": 5
}
