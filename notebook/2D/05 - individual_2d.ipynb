{
 "cells": [
  {
   "cell_type": "markdown",
   "id": "1e11dcef-c489-4d47-ba1b-ee82d25fbedb",
   "metadata": {},
   "source": [
    "# 2D Projection\n",
    "\n",
    "Description"
   ]
  },
  {
   "cell_type": "code",
   "execution_count": 1,
   "id": "bfff3714-0187-428a-8479-81c75fdd0c46",
   "metadata": {},
   "outputs": [],
   "source": [
    "# Reload the notebook if an external file is updated\n",
    "%load_ext autoreload\n",
    "%autoreload 2\n",
    "\n",
    "import sys\n",
    "\n",
    "from pathlib import Path\n",
    "\n",
    "path = str(Path.cwd().parent)\n",
    "sys.path.append(path)"
   ]
  },
  {
   "cell_type": "code",
   "execution_count": 2,
   "id": "f8532d4d-a644-4a74-81e2-3884b0479706",
   "metadata": {},
   "outputs": [],
   "source": [
    "from datatype.dataset import Dataset\n",
    "from datatype.gallery import Gallery\n",
    "from datatype.interactive import (\n",
    "    Interactive,\n",
    "    TwoDimensional\n",
    ")\n",
    "from datatype.settings import Settings\n",
    "from datatype.trace import (\n",
    "    CoordinateTrace,\n",
    "    DurationTrace,\n",
    "    FuzzyClusterTrace,\n",
    "    HDBScanTrace,\n",
    "    IndividualTrace,\n",
    "    SequenceTrace,\n",
    "    SingleClusterTrace\n",
    ")\n",
    "from IPython.display import display"
   ]
  },
  {
   "cell_type": "code",
   "execution_count": 3,
   "id": "91f77971-3dcd-4d78-b4c4-42b200c1c718",
   "metadata": {},
   "outputs": [],
   "source": [
    "dataset = Dataset('segment')\n",
    "dataframe = dataset.load()"
   ]
  },
  {
   "cell_type": "code",
   "execution_count": 4,
   "id": "d8fc344f-8f28-41d1-957b-fa1d733a5a2b",
   "metadata": {},
   "outputs": [],
   "source": [
    "fcm = dataframe.fcm_label_2d.unique()\n",
    "hdbscan = dataframe.hdbscan_label_2d.unique()\n",
    "\n",
    "settings = Settings.from_dict(\n",
    "    {\n",
    "        'fcm': fcm,\n",
    "        'hdbscan': hdbscan,\n",
    "        'marker': {\n",
    "            'opacity': 0.75,\n",
    "            'size': 5\n",
    "        }\n",
    "    }\n",
    ")"
   ]
  },
  {
   "cell_type": "code",
   "execution_count": 5,
   "id": "5df9c0e0-af1c-4870-b918-077fde90cabf",
   "metadata": {},
   "outputs": [],
   "source": [
    "unique = dataframe.folder.unique()\n",
    "\n",
    "collection = []\n",
    "\n",
    "for folder in unique:\n",
    "    individual = dataframe[dataframe.folder == folder]\n",
    "    individual.reset_index(inplace=True)\n",
    "    \n",
    "    trace = HDBScanTrace()\n",
    "    trace.settings = settings\n",
    "    \n",
    "    strategy = TwoDimensional()\n",
    "    strategy.dataframe = individual\n",
    "    strategy.trace = trace\n",
    "\n",
    "    interactive = Interactive()\n",
    "    interactive.dataframe = individual\n",
    "    interactive.strategy = strategy\n",
    "    \n",
    "    collection.append(interactive)"
   ]
  },
  {
   "cell_type": "code",
   "execution_count": 6,
   "id": "426b2f7c-7005-4919-8bd4-43c9c771de47",
   "metadata": {
    "tags": []
   },
   "outputs": [
    {
     "data": {
      "application/vnd.jupyter.widget-view+json": {
       "model_id": "f738accb329049279b090571b8d83c7e",
       "version_major": 2,
       "version_minor": 0
      },
      "text/plain": [
       "Output()"
      ]
     },
     "metadata": {},
     "output_type": "display_data"
    }
   ],
   "source": [
    "gallery = Gallery(collection)\n",
    "output = gallery.create()\n",
    "\n",
    "display(output)"
   ]
  }
 ],
 "metadata": {
  "kernelspec": {
   "display_name": "Python 3 (ipykernel)",
   "language": "python",
   "name": "python3"
  },
  "language_info": {
   "codemirror_mode": {
    "name": "ipython",
    "version": 3
   },
   "file_extension": ".py",
   "mimetype": "text/x-python",
   "name": "python",
   "nbconvert_exporter": "python",
   "pygments_lexer": "ipython3",
   "version": "3.11.2"
  }
 },
 "nbformat": 4,
 "nbformat_minor": 5
}
