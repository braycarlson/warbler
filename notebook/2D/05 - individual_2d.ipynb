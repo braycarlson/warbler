{
 "cells": [
  {
   "cell_type": "markdown",
   "id": "1e11dcef-c489-4d47-ba1b-ee82d25fbedb",
   "metadata": {},
   "source": [
    "# 2D Projection\n",
    "\n",
    "Description"
   ]
  },
  {
   "cell_type": "code",
   "execution_count": 1,
   "id": "bfff3714-0187-428a-8479-81c75fdd0c46",
   "metadata": {},
   "outputs": [],
   "source": [
    "# Reload the notebook if an external file is updated\n",
    "%load_ext autoreload\n",
    "%autoreload 2\n",
    "\n",
    "import sys\n",
    "\n",
    "from pathlib import Path\n",
    "\n",
    "path = str(Path.cwd().parent)\n",
    "sys.path.append(path)"
   ]
  },
  {
   "cell_type": "code",
   "execution_count": 2,
   "id": "f8532d4d-a644-4a74-81e2-3884b0479706",
   "metadata": {},
   "outputs": [],
   "source": [
    "from datatype.dataframe import Dataframe\n",
    "from datatype.gallery import Gallery\n",
    "from datatype.scatter import (\n",
    "    Scatter, \n",
    "    MultipleTrace,\n",
    "    SingleTrace,\n",
    "    ThreeDimensional, \n",
    "    TwoDimensional\n",
    ")"
   ]
  },
  {
   "cell_type": "code",
   "execution_count": 3,
   "id": "91f77971-3dcd-4d78-b4c4-42b200c1c718",
   "metadata": {},
   "outputs": [],
   "source": [
    "file = Dataframe()\n",
    "dataframe = file.load()"
   ]
  },
  {
   "cell_type": "code",
   "execution_count": 4,
   "id": "5df9c0e0-af1c-4870-b918-077fde90cabf",
   "metadata": {},
   "outputs": [],
   "source": [
    "unique = dataframe.folder.unique()\n",
    "\n",
    "collection = []\n",
    "\n",
    "for folder in unique:\n",
    "    individual = dataframe[dataframe.folder == folder]\n",
    "    \n",
    "    strategy = TwoDimensional(individual)\n",
    "    strategy.trace = MultipleTrace()\n",
    "\n",
    "    scatter = Scatter(individual)\n",
    "    scatter.strategy = strategy\n",
    "    \n",
    "    collection.append(scatter)"
   ]
  },
  {
   "cell_type": "code",
   "execution_count": 5,
   "id": "426b2f7c-7005-4919-8bd4-43c9c771de47",
   "metadata": {},
   "outputs": [
    {
     "data": {
      "application/vnd.jupyter.widget-view+json": {
       "model_id": "bdc72523ca964926b2effdfcc4115306",
       "version_major": 2,
       "version_minor": 0
      },
      "text/plain": [
       "Output()"
      ]
     },
     "metadata": {},
     "output_type": "display_data"
    }
   ],
   "source": [
    "gallery = Gallery(collection)\n",
    "output = gallery.create()\n",
    "\n",
    "display(output)"
   ]
  }
 ],
 "metadata": {
  "kernelspec": {
   "display_name": "warbler.py",
   "language": "python",
   "name": "warblerpy"
  },
  "language_info": {
   "codemirror_mode": {
    "name": "ipython",
    "version": 3
   },
   "file_extension": ".py",
   "mimetype": "text/x-python",
   "name": "python",
   "nbconvert_exporter": "python",
   "pygments_lexer": "ipython3",
   "version": "3.9.5"
  }
 },
 "nbformat": 4,
 "nbformat_minor": 5
}
