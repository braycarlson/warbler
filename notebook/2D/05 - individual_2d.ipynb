{
 "cells": [
  {
   "cell_type": "markdown",
   "id": "1e11dcef-c489-4d47-ba1b-ee82d25fbedb",
   "metadata": {},
   "source": [
    "$${\\Huge\\text{2D Projection}}$$"
   ]
  },
  {
   "cell_type": "code",
   "execution_count": 1,
   "id": "bfff3714-0187-428a-8479-81c75fdd0c46",
   "metadata": {},
   "outputs": [],
   "source": [
    "# Reload the notebook if an external file is updated\n",
    "%load_ext autoreload\n",
    "%autoreload 2\n",
    "\n",
    "import os\n",
    "import sys\n",
    "\n",
    "from pathlib import Path\n",
    "\n",
    "path = (\n",
    "    Path\n",
    "    .cwd()\n",
    "    .parent\n",
    "    .parent\n",
    "    .joinpath('warbler')\n",
    "    .as_posix()\n",
    ")\n",
    "\n",
    "os.chdir(path)\n",
    "sys.path.append(path)"
   ]
  },
  {
   "cell_type": "code",
   "execution_count": 2,
   "id": "f8532d4d-a644-4a74-81e2-3884b0479706",
   "metadata": {},
   "outputs": [],
   "source": [
    "from constant import SETTINGS\n",
    "from datatype.dataset import Dataset\n",
    "from datatype.gallery import Gallery\n",
    "from datatype.interactive import (\n",
    "    Builder,\n",
    "    Interactive,\n",
    "    TwoDimensional\n",
    ")\n",
    "from datatype.settings import Settings\n",
    "from datatype.signal import Signal\n",
    "from datatype.trace import (\n",
    "    CoordinateTrace,\n",
    "    DurationTrace,\n",
    "    FuzzyClusterTrace,\n",
    "    HDBScanTrace,\n",
    "    IndividualTrace,\n",
    "    SequenceTrace,\n",
    "    SingleClusterTrace\n",
    ")\n",
    "from IPython.display import display"
   ]
  },
  {
   "cell_type": "code",
   "execution_count": 3,
   "id": "91f77971-3dcd-4d78-b4c4-42b200c1c718",
   "metadata": {},
   "outputs": [],
   "source": [
    "dataset = Dataset('segment')\n",
    "dataframe = dataset.load()"
   ]
  },
  {
   "cell_type": "code",
   "execution_count": 4,
   "id": "d8fc344f-8f28-41d1-957b-fa1d733a5a2b",
   "metadata": {},
   "outputs": [],
   "source": [
    "fcm = dataframe.fcm_label_2d.unique()\n",
    "hdbscan = dataframe.hdbscan_label_2d.unique()\n",
    "\n",
    "path = SETTINGS.joinpath('projection.json')\n",
    "settings = Settings.from_file(path)\n",
    "\n",
    "settings['fcm'] = fcm\n",
    "settings['hdbscan'] = hdbscan\n",
    "settings['marker']['opacity'] = 0.75\n",
    "settings['marker']['size'] = 5"
   ]
  },
  {
   "cell_type": "code",
   "execution_count": 5,
   "id": "5df9c0e0-af1c-4870-b918-077fde90cabf",
   "metadata": {},
   "outputs": [],
   "source": [
    "unique = dataframe.folder.unique()\n",
    "\n",
    "collection = []\n",
    "\n",
    "for folder in unique:\n",
    "    individual = dataframe[dataframe.folder == folder]\n",
    "    individual.reset_index(inplace=True)\n",
    "\n",
    "    trace = FuzzyClusterTrace(settings=settings)\n",
    "    \n",
    "    strategy = TwoDimensional(\n",
    "        dataframe=individual, \n",
    "        trace=trace\n",
    "    )\n",
    "    \n",
    "    builder = Builder(\n",
    "        dataframe=individual, \n",
    "        strategy=strategy\n",
    "    )\n",
    "    \n",
    "    interactive = Interactive(builder)\n",
    "    \n",
    "    collection.append(interactive)"
   ]
  },
  {
   "cell_type": "code",
   "execution_count": 6,
   "id": "426b2f7c-7005-4919-8bd4-43c9c771de47",
   "metadata": {
    "tags": []
   },
   "outputs": [
    {
     "data": {
      "application/vnd.jupyter.widget-view+json": {
       "model_id": "16121a4665c94aacbb2c3592231e7494",
       "version_major": 2,
       "version_minor": 0
      },
      "text/plain": [
       "Output()"
      ]
     },
     "metadata": {},
     "output_type": "display_data"
    }
   ],
   "source": [
    "gallery = Gallery(collection)\n",
    "output = gallery.create()\n",
    "\n",
    "display(output)"
   ]
  }
 ],
 "metadata": {
  "kernelspec": {
   "display_name": "Python 3 (ipykernel)",
   "language": "python",
   "name": "python3"
  },
  "language_info": {
   "codemirror_mode": {
    "name": "ipython",
    "version": 3
   },
   "file_extension": ".py",
   "mimetype": "text/x-python",
   "name": "python",
   "nbconvert_exporter": "python",
   "pygments_lexer": "ipython3",
   "version": "3.11.2"
  }
 },
 "nbformat": 4,
 "nbformat_minor": 5
}
