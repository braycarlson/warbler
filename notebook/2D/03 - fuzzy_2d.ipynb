{
 "cells": [
  {
   "cell_type": "markdown",
   "id": "2afcd846",
   "metadata": {},
   "source": [
    "# 2D Fuzzy Clustering\n",
    "\n",
    "Description"
   ]
  },
  {
   "cell_type": "code",
   "execution_count": 1,
   "id": "c422b044",
   "metadata": {
    "tags": []
   },
   "outputs": [],
   "source": [
    "# Reload the notebook if an external file is updated\n",
    "%load_ext autoreload\n",
    "%autoreload 2\n",
    "\n",
    "import os\n",
    "import sys\n",
    "\n",
    "from pathlib import Path\n",
    "\n",
    "path = (\n",
    "    Path\n",
    "    .cwd()\n",
    "    .parent\n",
    "    .parent\n",
    "    .joinpath('warbler.py')\n",
    ")\n",
    "\n",
    "os.chdir(path)\n",
    "sys.path.append(path)"
   ]
  },
  {
   "cell_type": "code",
   "execution_count": 2,
   "id": "c9274221",
   "metadata": {},
   "outputs": [],
   "source": [
    "import numpy as np\n",
    "import pandas as pd\n",
    "\n",
    "from constant import OUTPUT\n",
    "from datatype.dataset import Dataset\n",
    "from fcmeans import FCM"
   ]
  },
  {
   "cell_type": "code",
   "execution_count": 3,
   "id": "5ff3f9f9",
   "metadata": {},
   "outputs": [],
   "source": [
    "dataset = Dataset('segment')\n",
    "dataframe = dataset.load()"
   ]
  },
  {
   "cell_type": "code",
   "execution_count": 4,
   "id": "4fc16da9-248f-4bbb-bfa7-41e5017007fb",
   "metadata": {},
   "outputs": [],
   "source": [
    "x = np.array(\n",
    "    [\n",
    "        dataframe.umap_x_2d,\n",
    "        dataframe.umap_y_2d\n",
    "    ]\n",
    ").transpose()"
   ]
  },
  {
   "cell_type": "code",
   "execution_count": 5,
   "id": "b1bd9bf8",
   "metadata": {},
   "outputs": [],
   "source": [
    "fcm = FCM(\n",
    "    m=2.9,\n",
    "    max_iter=200,\n",
    "    n_clusters=14,\n",
    "    random_state=42\n",
    ")\n",
    "\n",
    "fcm.fit(x)"
   ]
  },
  {
   "cell_type": "code",
   "execution_count": 6,
   "id": "14593876",
   "metadata": {},
   "outputs": [],
   "source": [
    "labels = fcm.predict(x)"
   ]
  },
  {
   "cell_type": "code",
   "execution_count": 7,
   "id": "11966300-cb19-4095-b053-259024591cf8",
   "metadata": {},
   "outputs": [],
   "source": [
    "dataframe['fcm_label_2d'] = labels"
   ]
  },
  {
   "cell_type": "code",
   "execution_count": 8,
   "id": "daa077eb-cb8d-46c0-a926-0d7eaa43e933",
   "metadata": {},
   "outputs": [],
   "source": [
    "columns = [\n",
    "    f\"Cluster {i}\"\n",
    "    for i in range(fcm.n_clusters)\n",
    "]\n",
    "\n",
    "membership = pd.DataFrame(fcm.u, columns=columns)\n",
    "\n",
    "path = OUTPUT.joinpath('fcm_membership_2d.csv')\n",
    "membership.to_csv(path)"
   ]
  },
  {
   "cell_type": "code",
   "execution_count": 9,
   "id": "92aceb9d-563b-4833-adfa-25d2385c9cf3",
   "metadata": {},
   "outputs": [],
   "source": [
    "dataset.save(dataframe)"
   ]
  }
 ],
 "metadata": {
  "kernelspec": {
   "display_name": "Python 3 (ipykernel)",
   "language": "python",
   "name": "python3"
  },
  "language_info": {
   "codemirror_mode": {
    "name": "ipython",
    "version": 3
   },
   "file_extension": ".py",
   "mimetype": "text/x-python",
   "name": "python",
   "nbconvert_exporter": "python",
   "pygments_lexer": "ipython3",
   "version": "3.11.2"
  }
 },
 "nbformat": 4,
 "nbformat_minor": 5
}
