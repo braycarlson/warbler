{
 "cells": [
  {
   "cell_type": "markdown",
   "id": "2afcd846",
   "metadata": {},
   "source": [
    "# 2D HDBScan\n",
    "\n",
    "Description"
   ]
  },
  {
   "cell_type": "code",
   "execution_count": 1,
   "id": "c422b044",
   "metadata": {},
   "outputs": [],
   "source": [
    "# Reload the notebook if an external file is updated\n",
    "%load_ext autoreload\n",
    "%autoreload 2\n",
    "\n",
    "import sys\n",
    "\n",
    "from pathlib import Path\n",
    "\n",
    "path = str(Path.cwd().parent)\n",
    "sys.path.append(path)"
   ]
  },
  {
   "cell_type": "code",
   "execution_count": 2,
   "id": "c9274221",
   "metadata": {},
   "outputs": [],
   "source": [
    "import hdbscan\n",
    "import numpy as np\n",
    "\n",
    "from datatype.dataset import Dataset\n",
    "from hdbscan import HDBSCAN"
   ]
  },
  {
   "cell_type": "code",
   "execution_count": 3,
   "id": "5ff3f9f9",
   "metadata": {},
   "outputs": [],
   "source": [
    "dataset = Dataset('segment')\n",
    "dataframe = dataset.load()"
   ]
  },
  {
   "cell_type": "code",
   "execution_count": 4,
   "id": "b8939644-91c1-4010-97fa-66c7fee8a8be",
   "metadata": {},
   "outputs": [],
   "source": [
    "coordinates = (\n",
    "    dataframe.umap_x_2d, \n",
    "    dataframe.umap_y_2d\n",
    ")\n",
    "\n",
    "embedding = np.column_stack(coordinates)"
   ]
  },
  {
   "cell_type": "code",
   "execution_count": 5,
   "id": "cddff76a-39a7-45d1-a6e2-177b85a30539",
   "metadata": {},
   "outputs": [],
   "source": [
    "length = len(embedding)\n",
    "min_cluster_size = int(length * 0.01)"
   ]
  },
  {
   "cell_type": "code",
   "execution_count": 6,
   "id": "b84f1669-40b3-4e9a-8400-f1970173ecd8",
   "metadata": {},
   "outputs": [],
   "source": [
    "cluster = HDBSCAN(\n",
    "    min_cluster_size=min_cluster_size,\n",
    "    cluster_selection_method='leaf',\n",
    "    gen_min_span_tree=True\n",
    ").fit(embedding)"
   ]
  },
  {
   "cell_type": "code",
   "execution_count": 7,
   "id": "367a21e4-8fc2-4a2e-b8c2-08b557853c48",
   "metadata": {},
   "outputs": [],
   "source": [
    "dataframe['hdbscan_label_2d'] = cluster.labels_"
   ]
  },
  {
   "cell_type": "code",
   "execution_count": 8,
   "id": "3a6e5c02-127e-4063-9047-ed53c121f2f5",
   "metadata": {},
   "outputs": [],
   "source": [
    "dataset.save(dataframe)"
   ]
  }
 ],
 "metadata": {
  "kernelspec": {
   "display_name": "warbler.py",
   "language": "python",
   "name": "warblerpy"
  },
  "language_info": {
   "codemirror_mode": {
    "name": "ipython",
    "version": 3
   },
   "file_extension": ".py",
   "mimetype": "text/x-python",
   "name": "python",
   "nbconvert_exporter": "python",
   "pygments_lexer": "ipython3",
   "version": "3.9.5"
  }
 },
 "nbformat": 4,
 "nbformat_minor": 5
}
