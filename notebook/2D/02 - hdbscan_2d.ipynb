{
 "cells": [
  {
   "cell_type": "markdown",
   "id": "2afcd846",
   "metadata": {},
   "source": [
    "# 2D HDBScan\n",
    "\n",
    "Description"
   ]
  },
  {
   "cell_type": "code",
   "execution_count": 1,
   "id": "c422b044",
   "metadata": {},
   "outputs": [],
   "source": [
    "# Reload the notebook if an external file is updated\n",
    "%load_ext autoreload\n",
    "%autoreload 2\n",
    "\n",
    "import os\n",
    "import sys\n",
    "\n",
    "from pathlib import Path\n",
    "\n",
    "path = (\n",
    "    Path\n",
    "    .cwd()\n",
    "    .parent\n",
    "    .parent\n",
    "    .joinpath('warbler')\n",
    "    .as_posix()\n",
    ")\n",
    "\n",
    "os.chdir(path)\n",
    "sys.path.append(path)"
   ]
  },
  {
   "cell_type": "code",
   "execution_count": 2,
   "id": "c9274221",
   "metadata": {},
   "outputs": [],
   "source": [
    "import matplotlib.pyplot as plt\n",
    "import numpy as np\n",
    "import seaborn as sns\n",
    "\n",
    "from constant import PROJECTION\n",
    "from datatype.dataset import Dataset\n",
    "from hdbscan import HDBSCAN"
   ]
  },
  {
   "cell_type": "code",
   "execution_count": 3,
   "id": "5ff3f9f9",
   "metadata": {},
   "outputs": [],
   "source": [
    "dataset = Dataset('segment')\n",
    "dataframe = dataset.load()"
   ]
  },
  {
   "cell_type": "code",
   "execution_count": 4,
   "id": "b8939644-91c1-4010-97fa-66c7fee8a8be",
   "metadata": {},
   "outputs": [],
   "source": [
    "coordinates = (\n",
    "    dataframe.umap_x_2d, \n",
    "    dataframe.umap_y_2d\n",
    ")\n",
    "\n",
    "embedding = np.column_stack(coordinates)"
   ]
  },
  {
   "cell_type": "code",
   "execution_count": 5,
   "id": "cddff76a-39a7-45d1-a6e2-177b85a30539",
   "metadata": {},
   "outputs": [],
   "source": [
    "length = len(embedding)\n",
    "\n",
    "# The smallest size we would expect a cluster to be\n",
    "min_cluster_size = int(length * 0.01)"
   ]
  },
  {
   "cell_type": "code",
   "execution_count": 6,
   "id": "b84f1669-40b3-4e9a-8400-f1970173ecd8",
   "metadata": {},
   "outputs": [],
   "source": [
    "np.random.seed(42)\n",
    "\n",
    "cluster = HDBSCAN(\n",
    "    cluster_selection_method='leaf',\n",
    "    gen_min_span_tree=True,\n",
    "    min_cluster_size=min_cluster_size\n",
    ").fit(embedding)"
   ]
  },
  {
   "cell_type": "code",
   "execution_count": 7,
   "id": "5f3a8a01-36b4-40d0-8bee-0495ac9db076",
   "metadata": {},
   "outputs": [],
   "source": [
    "# Condensed tree\n",
    "selection_palette = sns.color_palette('deep', min_cluster_size)\n",
    "\n",
    "cluster.condensed_tree_.plot(\n",
    "    select_clusters=True,\n",
    "    selection_palette=selection_palette\n",
    ")\n",
    "\n",
    "file = PROJECTION.joinpath('hdbscan_condensed_tree_2d.png')\n",
    "\n",
    "plt.title(\n",
    "    'HDBSCAN: Condensed Tree (2D)',\n",
    "    fontweight=600,\n",
    "    fontsize=12,\n",
    "    pad=25\n",
    ")\n",
    "\n",
    "plt.savefig(\n",
    "    file,\n",
    "    bbox_inches='tight',\n",
    "    dpi=300,\n",
    "    format='png'\n",
    ")\n",
    "\n",
    "plt.close()"
   ]
  },
  {
   "cell_type": "code",
   "execution_count": 8,
   "id": "fe317cea-a1f9-48e7-99fd-53b97a7911e1",
   "metadata": {},
   "outputs": [],
   "source": [
    "# Minimum spanning tree\n",
    "cluster.minimum_spanning_tree_.plot(\n",
    "    edge_alpha=0.6,\n",
    "    edge_cmap='viridis',\n",
    "    edge_linewidth=2,\n",
    "    node_alpha=0.1,\n",
    "    node_size=1.0\n",
    ")\n",
    "\n",
    "file = PROJECTION.joinpath('hdbscan_minimum_spanning_tree_2d.png')\n",
    "\n",
    "plt.title(\n",
    "    'HDBSCAN: Minimum Spanning Tree (2D)',\n",
    "    fontweight=600,\n",
    "    fontsize=12,\n",
    "    pad=25\n",
    ")\n",
    "\n",
    "plt.savefig(\n",
    "    file,\n",
    "    bbox_inches='tight',\n",
    "    dpi=300,\n",
    "    format='png'\n",
    ")\n",
    "\n",
    "plt.close()"
   ]
  },
  {
   "cell_type": "code",
   "execution_count": 9,
   "id": "29615285-2e34-417f-a3ae-a640ddea9a5f",
   "metadata": {},
   "outputs": [],
   "source": [
    "# # Single linkage tree\n",
    "# cluster.single_linkage_tree_.plot()\n",
    "\n",
    "# file = PROJECTION.joinpath('hdbscan_single_linkage_tree_2d.png')\n",
    "\n",
    "# plt.title(\n",
    "#     'HDBSCAN: Single Linkage Tree (2D)',\n",
    "#     fontweight=600,\n",
    "#     fontsize=12,\n",
    "#     pad=25\n",
    "# )\n",
    "\n",
    "# plt.savefig(\n",
    "#     file,\n",
    "#     bbox_inches='tight',\n",
    "#     dpi=300,\n",
    "#     format='png'\n",
    "# )\n",
    "\n",
    "# plt.close()"
   ]
  },
  {
   "cell_type": "code",
   "execution_count": 10,
   "id": "367a21e4-8fc2-4a2e-b8c2-08b557853c48",
   "metadata": {},
   "outputs": [],
   "source": [
    "dataframe['hdbscan_label_2d'] = cluster.labels_"
   ]
  },
  {
   "cell_type": "code",
   "execution_count": 11,
   "id": "3a6e5c02-127e-4063-9047-ed53c121f2f5",
   "metadata": {
    "tags": []
   },
   "outputs": [],
   "source": [
    "dataset.save(dataframe)"
   ]
  }
 ],
 "metadata": {
  "kernelspec": {
   "display_name": "Python 3 (ipykernel)",
   "language": "python",
   "name": "python3"
  },
  "language_info": {
   "codemirror_mode": {
    "name": "ipython",
    "version": 3
   },
   "file_extension": ".py",
   "mimetype": "text/x-python",
   "name": "python",
   "nbconvert_exporter": "python",
   "pygments_lexer": "ipython3",
   "version": "3.11.2"
  }
 },
 "nbformat": 4,
 "nbformat_minor": 5
}
