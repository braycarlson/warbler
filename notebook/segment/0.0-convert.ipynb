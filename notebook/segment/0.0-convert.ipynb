{
 "cells": [
  {
   "cell_type": "markdown",
   "id": "2afcd846",
   "metadata": {},
   "source": [
    "# Convert\n",
    "\n",
    "The following script will convert each \".aif\" file to a \".wav\" file.\n",
    "\n",
    "**Note:** You will need  [ffmpeg](https://www.ffmpeg.org/) for `pydub`."
   ]
  },
  {
   "cell_type": "code",
   "execution_count": 1,
   "id": "c422b044",
   "metadata": {},
   "outputs": [],
   "source": [
    "%load_ext autoreload\n",
    "%autoreload 2\n",
    "\n",
    "import sys\n",
    "from pathlib import Path\n",
    "\n",
    "path = str(Path.cwd().parent)\n",
    "sys.path.append(path)"
   ]
  },
  {
   "cell_type": "code",
   "execution_count": 2,
   "id": "c9274221",
   "metadata": {},
   "outputs": [],
   "source": [
    "import logging\n",
    "\n",
    "from logger import logger\n",
    "from path import bootstrap, DATA, DATASET, DIRECTORIES, INDIVIDUALS\n",
    "from pydub import AudioSegment"
   ]
  },
  {
   "cell_type": "code",
   "execution_count": 3,
   "id": "bff9b8b0",
   "metadata": {},
   "outputs": [],
   "source": [
    "log = logging.getLogger(__name__)"
   ]
  },
  {
   "cell_type": "code",
   "execution_count": 4,
   "id": "0cb06a29",
   "metadata": {},
   "outputs": [],
   "source": [
    "@bootstrap\n",
    "def main():\n",
    "    aif = list(DATASET.glob('*/*.aif'))\n",
    "    wav = list(DATA.glob('*/wav/*.wav'))\n",
    "\n",
    "    a = len(aif)\n",
    "    w = len(wav)\n",
    "\n",
    "    # Is each .aif is converted to .wav?\n",
    "    if a == w:\n",
    "        log.info(f\"{a} .aif files, {w} .wav files\")\n",
    "\n",
    "        return\n",
    "\n",
    "    for directory in DIRECTORIES:\n",
    "        for individual in INDIVIDUALS:\n",
    "            if individual.stem == directory.stem:\n",
    "                # Convert each .aif file to a .wav file\n",
    "                # Note: pydub uses ffmpeg\n",
    "                for file in directory.glob('*.aif'):\n",
    "                    wav = individual.joinpath('wav')\n",
    "                    audio = AudioSegment.from_file(file, format='aiff')\n",
    "\n",
    "                    filename = file.stem + '.wav'\n",
    "                    audio.export(wav.joinpath(filename), format='wav')"
   ]
  },
  {
   "cell_type": "code",
   "execution_count": 5,
   "id": "7f47dba1",
   "metadata": {},
   "outputs": [],
   "source": [
    "if __name__ == '__main__':\n",
    "    with logger():\n",
    "        main()"
   ]
  }
 ],
 "metadata": {
  "kernelspec": {
   "display_name": "Python 3 (ipykernel)",
   "language": "python",
   "name": "python3"
  },
  "language_info": {
   "codemirror_mode": {
    "name": "ipython",
    "version": 3
   },
   "file_extension": ".py",
   "mimetype": "text/x-python",
   "name": "python",
   "nbconvert_exporter": "python",
   "pygments_lexer": "ipython3",
   "version": "3.9.5"
  }
 },
 "nbformat": 4,
 "nbformat_minor": 5
}
