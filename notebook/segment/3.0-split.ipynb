{
 "cells": [
  {
   "cell_type": "markdown",
   "id": "2afcd846",
   "metadata": {},
   "source": [
    "# Split\n",
    "\n",
    "Description"
   ]
  },
  {
   "cell_type": "code",
   "execution_count": 1,
   "id": "c422b044",
   "metadata": {},
   "outputs": [],
   "source": [
    "%load_ext autoreload\n",
    "%autoreload 2\n",
    "\n",
    "import sys\n",
    "from pathlib import Path\n",
    "\n",
    "path = str(Path.cwd().parent)\n",
    "sys.path.append(path)"
   ]
  },
  {
   "cell_type": "code",
   "execution_count": 2,
   "id": "c9274221",
   "metadata": {},
   "outputs": [],
   "source": [
    "import json\n",
    "import logging\n",
    "import shutil\n",
    "\n",
    "from logger import logger\n",
    "from path import bootstrap, INDIVIDUALS, NOTES\n",
    "from pathlib import Path\n",
    "from pydub import AudioSegment"
   ]
  },
  {
   "cell_type": "code",
   "execution_count": 3,
   "id": "0cb06a29",
   "metadata": {},
   "outputs": [],
   "source": [
    "def copy():\n",
    "    for individual in INDIVIDUALS:\n",
    "        notes = [\n",
    "            file for file in individual.glob('notes/*.wav') if file.is_file()\n",
    "        ]\n",
    "\n",
    "        for note in notes:\n",
    "            try:\n",
    "                shutil.copy(\n",
    "                    note,\n",
    "                    NOTES\n",
    "                )\n",
    "            except OSError as e:\n",
    "                print(f\"Error: {e}\")"
   ]
  },
  {
   "cell_type": "code",
   "execution_count": null,
   "id": "5ff3f9f9",
   "metadata": {},
   "outputs": [],
   "source": [
    "@bootstrap\n",
    "def main():\n",
    "    for individual in INDIVIDUALS:\n",
    "        files = [\n",
    "            file for file in individual.joinpath('json').glob('*.json')\n",
    "        ]\n",
    "\n",
    "        directory = individual.joinpath('notes')\n",
    "\n",
    "        for file in files:\n",
    "            with open(file, 'r') as f:\n",
    "                data = json.load(f)\n",
    "\n",
    "                notes = (\n",
    "                    data\n",
    "                    .get('indvs')\n",
    "                    .get(individual.stem)\n",
    "                    .get('notes')\n",
    "                )\n",
    "\n",
    "                if notes is None:\n",
    "                    continue\n",
    "\n",
    "                wav = data.get('wav_loc')\n",
    "\n",
    "                start = notes.get('start_times')\n",
    "                end = notes.get('end_times')\n",
    "                wavs = notes.get('files')\n",
    "\n",
    "                for index, time in enumerate(zip(start, end), 0):\n",
    "                    # Pad zero\n",
    "                    index = str(index).zfill(2)\n",
    "                    filename = f\"{Path(wav).stem}_{index}.wav\"\n",
    "\n",
    "                    s, e = time\n",
    "\n",
    "                    # pydub uses milliseconds\n",
    "                    s = s * 1000\n",
    "                    e = e * 1000\n",
    "\n",
    "                    audio = AudioSegment.from_wav(wav)\n",
    "                    audio = audio[s:e]\n",
    "\n",
    "                    path = directory.joinpath(filename)\n",
    "\n",
    "                    audio.export(\n",
    "                        path,\n",
    "                        format='wav'\n",
    "                    )\n",
    "\n",
    "                    path = path.as_posix()\n",
    "                    wavs.append(path)\n",
    "\n",
    "            with open(file, 'w+') as f:\n",
    "                if len(start) == len(end) and len(start) == len(wavs):\n",
    "                    json.dump(data, f, indent=2)"
   ]
  },
  {
   "cell_type": "code",
   "execution_count": 4,
   "id": "7f47dba1",
   "metadata": {},
   "outputs": [],
   "source": [
    "if __name__ == '__main__':\n",
    "    with logger():\n",
    "        main()\n",
    "        copy()"
   ]
  }
 ],
 "metadata": {
  "kernelspec": {
   "display_name": "adelaideswarbler",
   "language": "python",
   "name": "adelaideswarbler"
  },
  "language_info": {
   "codemirror_mode": {
    "name": "ipython",
    "version": 3
   },
   "file_extension": ".py",
   "mimetype": "text/x-python",
   "name": "python",
   "nbconvert_exporter": "python",
   "pygments_lexer": "ipython3",
   "version": "3.9.5"
  }
 },
 "nbformat": 4,
 "nbformat_minor": 5
}
