{
 "cells": [
  {
   "cell_type": "markdown",
   "id": "2afcd846",
   "metadata": {},
   "source": [
    "# Convert\n",
    "\n",
    "The following script will convert each \".aif\" file to a \".wav\" file.\n",
    "\n",
    "**Note:** You will need  [ffmpeg](https://www.ffmpeg.org/) due to `pydub`."
   ]
  },
  {
   "cell_type": "code",
   "execution_count": 1,
   "id": "c422b044",
   "metadata": {},
   "outputs": [],
   "source": [
    "%load_ext autoreload\n",
    "%autoreload 2\n",
    "\n",
    "import sys\n",
    "from pathlib import Path\n",
    "from IPython.display import display\n",
    "\n",
    "path = str(Path.cwd().parent)\n",
    "sys.path.append(path)"
   ]
  },
  {
   "cell_type": "code",
   "execution_count": 2,
   "id": "c9274221",
   "metadata": {},
   "outputs": [],
   "source": [
    "from warbler.path import bootstrap, DATA, DATASET, DIRECTORIES, INDIVIDUALS\n",
    "from pydub import AudioSegment"
   ]
  },
  {
   "cell_type": "code",
   "execution_count": 3,
   "id": "0cb06a29",
   "metadata": {},
   "outputs": [],
   "source": [
    "def main():\n",
    "    a = list(DATASET.glob('*/*.aif'))\n",
    "    w = list(DATA.glob('*/wav/*.wav'))\n",
    "\n",
    "    # Is each .aif is converted to .wav?\n",
    "    if len(a) == len(w):\n",
    "        return\n",
    "\n",
    "    for directory in DIRECTORIES:\n",
    "        for individual in INDIVIDUALS:\n",
    "            if individual.stem == directory.stem:\n",
    "                for file in directory.glob('*.aif'):\n",
    "                    wav = individual.joinpath('wav')\n",
    "                    audio = AudioSegment.from_file(file, format='aiff')\n",
    "\n",
    "                    filename = file.stem + '.wav'\n",
    "                    audio.export(wav.joinpath(filename), format='wav')"
   ]
  },
  {
   "cell_type": "code",
   "execution_count": 4,
   "id": "7f47dba1",
   "metadata": {},
   "outputs": [],
   "source": [
    "if __name__ == '__main__':\n",
    "    bootstrap()\n",
    "    main()"
   ]
  }
 ],
 "metadata": {
  "kernelspec": {
   "display_name": "adelaideswarbler",
   "language": "python",
   "name": "adelaideswarbler"
  },
  "language_info": {
   "codemirror_mode": {
    "name": "ipython",
    "version": 3
   },
   "file_extension": ".py",
   "mimetype": "text/x-python",
   "name": "python",
   "nbconvert_exporter": "python",
   "pygments_lexer": "ipython3",
   "version": "3.9.5"
  }
 },
 "nbformat": 4,
 "nbformat_minor": 5
}
