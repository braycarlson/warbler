{
 "cells": [
  {
   "cell_type": "markdown",
   "id": "2afcd846",
   "metadata": {},
   "source": [
    "# CSV\n",
    "\n",
    "Description"
   ]
  },
  {
   "cell_type": "code",
   "execution_count": 1,
   "id": "c422b044",
   "metadata": {},
   "outputs": [],
   "source": [
    "%load_ext autoreload\n",
    "%autoreload 2\n",
    "\n",
    "import sys\n",
    "from pathlib import Path\n",
    "\n",
    "path = str(Path.cwd().parent)\n",
    "sys.path.append(path)"
   ]
  },
  {
   "cell_type": "code",
   "execution_count": 2,
   "id": "c9274221",
   "metadata": {},
   "outputs": [],
   "source": [
    "import csv\n",
    "import json\n",
    "import logging\n",
    "\n",
    "from logger import logger\n",
    "from path import bootstrap, DATA, INDIVIDUALS"
   ]
  },
  {
   "cell_type": "code",
   "execution_count": 3,
   "id": "0cb06a29",
   "metadata": {},
   "outputs": [],
   "source": [
    "@bootstrap\n",
    "def main():\n",
    "    with open(DATA.joinpath('info_file.csv'), mode='w+') as file:\n",
    "        writer = csv.writer(\n",
    "            file,\n",
    "            delimiter=';',\n",
    "            quotechar='\"',\n",
    "            quoting=csv.QUOTE_MINIMAL,\n",
    "            lineterminator='\\n',\n",
    "        )\n",
    "\n",
    "        writer.writerow([\n",
    "            # Metadata for the individual note\n",
    "            'filename',\n",
    "            'label',\n",
    "            'individual',\n",
    "            'start',\n",
    "            'end',\n",
    "\n",
    "            # Metadata for the original song\n",
    "            'common',\n",
    "            'scientific',\n",
    "            'song',\n",
    "            'sample_rate',\n",
    "            'song_duration',\n",
    "        ])\n",
    "\n",
    "        for individual in INDIVIDUALS:\n",
    "            files = [\n",
    "                file for file in individual.joinpath('json').glob('*.json')\n",
    "            ]\n",
    "\n",
    "            name = individual.stem.replace('_STE2017', '')\n",
    "\n",
    "            for file in files:\n",
    "                with open(file, 'r') as f:\n",
    "                    data = json.load(f)\n",
    "\n",
    "                    common = data.get('common_name')\n",
    "                    scientific = data.get('species')\n",
    "\n",
    "                    # The metadata for the original song\n",
    "                    wav = data.get('wav_loc')\n",
    "                    sample_rate = data.get('samplerate_hz')\n",
    "                    duration = data.get('length_s')\n",
    "\n",
    "                    notes = data.get('indvs').get(individual.stem).get('notes')\n",
    "\n",
    "                    # The metadata for the individual note\n",
    "                    start = notes.get('start_times')\n",
    "                    end = notes.get('end_times')\n",
    "                    label = notes.get('labels')\n",
    "                    sequence = notes.get('sequence_num')\n",
    "                    note = notes.get('files')\n",
    "\n",
    "                    for s, e, l, i, n in zip(start, end, label, sequence, note):\n",
    "                        writer.writerow([\n",
    "                            n,\n",
    "                            l,\n",
    "                            name,\n",
    "                            s,\n",
    "                            e,\n",
    "\n",
    "                            common,\n",
    "                            scientific,\n",
    "                            wav,\n",
    "                            sample_rate,\n",
    "                            duration\n",
    "                        ])"
   ]
  },
  {
   "cell_type": "code",
   "execution_count": 4,
   "id": "7f47dba1",
   "metadata": {},
   "outputs": [],
   "source": [
    "if __name__ == '__main__':\n",
    "    with logger():\n",
    "        main()"
   ]
  }
 ],
 "metadata": {
  "kernelspec": {
   "display_name": "adelaideswarbler",
   "language": "python",
   "name": "adelaideswarbler"
  },
  "language_info": {
   "codemirror_mode": {
    "name": "ipython",
    "version": 3
   },
   "file_extension": ".py",
   "mimetype": "text/x-python",
   "name": "python",
   "nbconvert_exporter": "python",
   "pygments_lexer": "ipython3",
   "version": "3.9.5"
  }
 },
 "nbformat": 4,
 "nbformat_minor": 5
}
