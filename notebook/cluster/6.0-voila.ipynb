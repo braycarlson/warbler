{
 "cells": [
  {
   "cell_type": "markdown",
   "id": "32c522c2",
   "metadata": {},
   "source": [
    "# Voila\n",
    "\n",
    "Description"
   ]
  },
  {
   "cell_type": "code",
   "execution_count": 1,
   "id": "c422b044",
   "metadata": {},
   "outputs": [],
   "source": [
    "%load_ext autoreload\n",
    "%autoreload 2\n",
    "\n",
    "import sys\n",
    "from pathlib import Path\n",
    "\n",
    "path = str(Path.cwd().parent)\n",
    "sys.path.append(path)"
   ]
  },
  {
   "cell_type": "code",
   "execution_count": 2,
   "id": "8af2d8b6",
   "metadata": {},
   "outputs": [],
   "source": [
    "import os\n",
    "import pandas as pd\n",
    "import pickle\n",
    "\n",
    "from IPython.display import Audio, display\n",
    "from ipywidgets import Image, HTML, Layout, Output, VBox, HBox\n",
    "from parameters import Parameters\n",
    "from path import CWD, DATA\n",
    "from pathlib import Path\n",
    "from plotly import graph_objs as go"
   ]
  },
  {
   "cell_type": "code",
   "execution_count": 3,
   "id": "c9274221",
   "metadata": {},
   "outputs": [],
   "source": [
    "# Dataframe\n",
    "file = CWD.joinpath('warbler.py/cluster/dataframe.json')\n",
    "dataframe = Parameters(file)\n",
    "\n",
    "# hover_details are those data that will\n",
    "# be provided in the info table when hovering\n",
    "# over the plot. Add any columns of df that you like.\n",
    "HOVER_COLUMN = [\n",
    "    dataframe.label_column,\n",
    "    dataframe.call_identifier_column\n",
    "]\n",
    "\n",
    "distinct_colors_20 = [\n",
    "    '#e6194b',\n",
    "    '#3cb44b',\n",
    "    '#ffe119',\n",
    "    '#4363d8',\n",
    "    '#f58231',\n",
    "    '#911eb4',\n",
    "    '#46f0f0',\n",
    "    '#f032e6',\n",
    "    '#bcf60c',\n",
    "    '#fabebe',\n",
    "    '#008080',\n",
    "    '#e6beff',\n",
    "    '#9a6324',\n",
    "    '#fffac8',\n",
    "    '#800000',\n",
    "    '#aaffc3',\n",
    "    '#808000',\n",
    "    '#ffd8b1',\n",
    "    '#000075',\n",
    "    '#808080',\n",
    "    '#ffffff',\n",
    "    '#000000'\n",
    "]"
   ]
  },
  {
   "cell_type": "code",
   "execution_count": 4,
   "id": "c8bb91bb",
   "metadata": {},
   "outputs": [],
   "source": [
    "# Load dataframe\n",
    "DF_NAME = DATA.joinpath('df_umap.pkl')\n",
    "df = pd.read_pickle(DF_NAME)\n",
    "\n",
    "# Load image data (deserialize)\n",
    "with open(DATA.joinpath('image_data.pkl'), 'rb') as handle:\n",
    "    image_data = pickle.load(handle)"
   ]
  },
  {
   "cell_type": "code",
   "execution_count": 5,
   "id": "6fc4cbd6",
   "metadata": {},
   "outputs": [],
   "source": [
    "if dataframe.call_identifier_column not in df.columns:\n",
    "    print(\"Missing identifier column: \", dataframe.call_identifier_column)\n",
    "    raise"
   ]
  },
  {
   "cell_type": "code",
   "execution_count": 6,
   "id": "324d9e87",
   "metadata": {},
   "outputs": [],
   "source": [
    "labeltypes = sorted(\n",
    "    list(\n",
    "        set(df[dataframe.label_column])\n",
    "    )\n",
    ")\n",
    "\n",
    "if len(labeltypes) <= len(distinct_colors_20):\n",
    "    color_dict = dict(\n",
    "        zip(\n",
    "            labeltypes,\n",
    "            distinct_colors_20[0:len(labeltypes)]\n",
    "        )\n",
    "    )\n",
    "else:\n",
    "    # if > 20 different labels, some will have the same color\n",
    "    distinct_colors = distinct_colors_20 * len(labeltypes)\n",
    "    color_dict = dict(\n",
    "        zip(\n",
    "            labeltypes,\n",
    "            distinct_colors[0:len(labeltypes)]\n",
    "        )\n",
    "    )"
   ]
  },
  {
   "cell_type": "code",
   "execution_count": 7,
   "id": "f26b8c68",
   "metadata": {},
   "outputs": [],
   "source": [
    "# hover_details are those data that will be provided in the info table when hovering\n",
    "# over datapoints\n",
    "\n",
    "hover_details = HOVER_COLUMN"
   ]
  },
  {
   "cell_type": "code",
   "execution_count": 8,
   "id": "27886e96",
   "metadata": {},
   "outputs": [],
   "source": [
    "# Everything here is separated by labeltype, so that all datapoints from one specific label have their own trace\n",
    "\n",
    "audio_dict = {} # dictionary that contains audio data for each labeltype\n",
    "sr_dict = {} # dictionary that contains samplerate data for each labeltype\n",
    "sub_df_dict = {} # dictionary that contains the dataframe for each labeltype\n",
    "\n",
    "# build dictionary\n",
    "for i, labeltype in enumerate(labeltypes):\n",
    "    sub_df = df.loc[df.label == labeltype, :]\n",
    "    sub_df_dict[i] = sub_df\n",
    "    audio_dict[i] = sub_df[dataframe.audio_column]\n",
    "    sr_dict[i] = sub_df['samplerate_hz']\n",
    "\n",
    "# build traces\n",
    "traces = []\n",
    "\n",
    "for i, labeltype in enumerate(labeltypes):\n",
    "    sub_df = sub_df_dict[i]\n",
    "    trace = go.Scatter3d(\n",
    "            x=sub_df.UMAP1,\n",
    "            y=sub_df.UMAP2,\n",
    "            z=sub_df.UMAP3,\n",
    "            mode='markers',\n",
    "            marker=dict(\n",
    "                size=4,\n",
    "                color=color_dict[labeltype],\n",
    "                opacity=0.8\n",
    "            ),\n",
    "            name=labeltype,\n",
    "            hovertemplate=[\n",
    "                x for x in sub_df[dataframe.label_column]\n",
    "            ]\n",
    "    )\n",
    "    traces.append(trace)\n",
    "\n",
    "layout = go.Layout(\n",
    "    scene=go.layout.Scene(\n",
    "            xaxis=go.layout.scene.XAxis(title='UMAP1'),\n",
    "            yaxis=go.layout.scene.YAxis(title='UMAP2'),\n",
    "            zaxis=go.layout.scene.ZAxis(title='UMAP3')\n",
    "    ),\n",
    "    height=1000,\n",
    "    width=1000\n",
    ")\n",
    "\n",
    "figure = go.Figure(data=traces, layout=layout)"
   ]
  },
  {
   "cell_type": "code",
   "execution_count": 9,
   "id": "107beb2e",
   "metadata": {},
   "outputs": [],
   "source": [
    "fig = go.FigureWidget(figure)"
   ]
  },
  {
   "cell_type": "code",
   "execution_count": 10,
   "id": "edea4a20",
   "metadata": {},
   "outputs": [],
   "source": [
    "# Initialize with any image (taking the first in the dictionary)\n",
    "\n",
    "image_widget = Image(\n",
    "    value=image_data[list(image_data.keys())[0]],\n",
    "    layout=Layout(height='189px', width='300px')\n",
    ")"
   ]
  },
  {
   "cell_type": "code",
   "execution_count": 11,
   "id": "b799118f",
   "metadata": {},
   "outputs": [],
   "source": [
    "details = HTML(\n",
    "    layout=Layout(width='20%')\n",
    ")"
   ]
  },
  {
   "cell_type": "code",
   "execution_count": 12,
   "id": "6fe8d932",
   "metadata": {},
   "outputs": [],
   "source": [
    "# define what happens when hovering over datapoint\n",
    "def hover_fn(trace, points, state):\n",
    "    if points.point_inds:\n",
    "        # get the index of the data point being hovered\n",
    "        trace_ind = points.trace_index\n",
    "        sub_df = sub_df_dict[trace_ind]\n",
    "        ind = points.point_inds[0]\n",
    "        # Update image widget\n",
    "        img_ind = sub_df.iloc[ind][dataframe.call_identifier_column]\n",
    "        image_widget.value = image_data[img_ind]\n",
    "\n",
    "        # Update details\n",
    "        details.value = sub_df.iloc[ind][hover_details].to_frame().to_html()\n",
    "\n",
    "\n",
    "for i in range(len(traces)):\n",
    "    fig.data[i].on_hover(hover_fn)"
   ]
  },
  {
   "cell_type": "code",
   "execution_count": 13,
   "id": "fc3998a9",
   "metadata": {},
   "outputs": [],
   "source": [
    "# audio-playback function\n",
    "def play_audio(ind, i):\n",
    "    data = audio_dict[i]\n",
    "    srs = sr_dict[i]\n",
    "    display(\n",
    "        Audio(\n",
    "            data.iloc[ind],\n",
    "            rate=srs.iloc[ind],\n",
    "            autoplay=True\n",
    "        )\n",
    "    )\n",
    "\n",
    "audio_widget = Output()\n",
    "audio_widget.layout.visibility = 'hidden'\n",
    "\n",
    "\n",
    "# define what happens when clicking on datapoint\n",
    "def click_fn(trace, points, selector):\n",
    "    if points.point_inds:\n",
    "\n",
    "        # get the index of the data point being hovered\n",
    "        trace_ind = points.trace_index\n",
    "        ind = points.point_inds[0]\n",
    "\n",
    "        # play audio\n",
    "        with audio_widget:\n",
    "            play_audio(ind, trace_ind)\n",
    "\n",
    "\n",
    "for i in range(len(traces)):\n",
    "    fig.data[i].on_click(click_fn)"
   ]
  },
  {
   "cell_type": "code",
   "execution_count": 14,
   "id": "edefe91a",
   "metadata": {},
   "outputs": [
    {
     "data": {
      "application/vnd.jupyter.widget-view+json": {
       "model_id": "2d1329f6956345e3887a9785ff2a4fb2",
       "version_major": 2,
       "version_minor": 0
      },
      "text/plain": [
       "VBox(children=(HTML(value='', layout=Layout(width='20%')), HBox(children=(Image(value=b'\\x89PNG\\r\\n\\x1a\\n\\x00\\…"
      ]
     },
     "metadata": {},
     "output_type": "display_data"
    }
   ],
   "source": [
    "# Put everything together.\n",
    "\n",
    "# This renders the plot within jupyter notebook. Install voila to convert the notebook into a standalone web app\n",
    "# (see https://voila.readthedocs.io/en/stable/using.html for details)\n",
    "# Once installed, navigate to the jupyter notebook file in your file system and run\n",
    "# > voila <path-to-02_viz_tool.ipynb>\n",
    "\n",
    "# adjust vertical (VBox) and horizontal (HBoxes) if readibility is not good.\n",
    "\n",
    "VBox([\n",
    "    details,\n",
    "    HBox(\n",
    "        [image_widget, fig],\n",
    "        layout=Layout(flex=\"none\")\n",
    "    ),\n",
    "    audio_widget\n",
    "])"
   ]
  }
 ],
 "metadata": {
  "kernelspec": {
   "display_name": "Python 3 (ipykernel)",
   "language": "python",
   "name": "python3"
  },
  "language_info": {
   "codemirror_mode": {
    "name": "ipython",
    "version": 3
   },
   "file_extension": ".py",
   "mimetype": "text/x-python",
   "name": "python",
   "nbconvert_exporter": "python",
   "pygments_lexer": "ipython3",
   "version": "3.9.5"
  }
 },
 "nbformat": 4,
 "nbformat_minor": 5
}
