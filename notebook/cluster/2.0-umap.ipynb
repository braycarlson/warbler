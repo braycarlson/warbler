{
 "cells": [
  {
   "cell_type": "markdown",
   "id": "88eabd12",
   "metadata": {},
   "source": [
    "# UMAP\n",
    "\n",
    "Description"
   ]
  },
  {
   "cell_type": "code",
   "execution_count": null,
   "id": "adddd6d3",
   "metadata": {},
   "outputs": [],
   "source": [
    "%load_ext autoreload\n",
    "%autoreload 2\n",
    "\n",
    "import sys\n",
    "from pathlib import Path\n",
    "\n",
    "path = str(Path.cwd().parent)\n",
    "sys.path.append(path)"
   ]
  },
  {
   "cell_type": "code",
   "execution_count": 1,
   "id": "c422b044",
   "metadata": {},
   "outputs": [],
   "source": [
    "import numpy as np\n",
    "import pandas as pd\n",
    "import umap\n",
    "\n",
    "from functions.preprocessing_functions import calc_zscore, pad_spectro\n",
    "from path import DATA"
   ]
  },
  {
   "cell_type": "code",
   "execution_count": null,
   "id": "80a1ca3e",
   "metadata": {},
   "outputs": [],
   "source": [
    "# Name of pickled dataframe with metadata and spectrograms\n",
    "DF_NAME = DATA.joinpath('df.pkl')\n",
    "\n",
    "# column that is used for UMAP\n",
    "# Could also choose 'denoised_spectrograms' or 'stretched_spectrograms', etc...\n",
    "INPUT_COL = 'spectrograms'\n",
    "\n",
    "# Distance metric used in UMAP. Check UMAP documentation for other options\n",
    "# e.g. 'euclidean', correlation', 'cosine', 'manhattan' ...\n",
    "METRIC_TYPE = 'euclidean'\n",
    "\n",
    "# Number of dimensions desired in latent space\n",
    "N_COMP = 3\n",
    "\n",
    "\n",
    "df = pd.read_pickle(DF_NAME)"
   ]
  },
  {
   "cell_type": "code",
   "execution_count": null,
   "id": "b3594d40",
   "metadata": {},
   "outputs": [],
   "source": [
    "# Basic pipeline\n",
    "# No time-shift allowed, spectrograms should be aligned at the start.\n",
    "# All spectrograms are zero-padded to equal length\n",
    "\n",
    "# Choose spectrogram column\n",
    "specs = df[INPUT_COL]\n",
    "\n",
    "# z-transform each spectrogram\n",
    "specs = [calc_zscore(s) for s in specs]\n",
    "\n",
    "# Find maximal length in dataset\n",
    "maxlen = np.max([spec.shape[1] for spec in specs])\n",
    "\n",
    "# Pad all specs to maxlen, then row-wise concatenate (flatten)\n",
    "flattened_specs = [pad_spectro(spec, maxlen).flatten() for spec in specs]\n",
    "\n",
    "# data is the final input data for UMAP\n",
    "data = np.asarray(flattened_specs)\n",
    "\n",
    "\n",
    "reducer = umap.UMAP(\n",
    "    n_components=N_COMP,\n",
    "    # Specify parameters of UMAP reducer\n",
    "    metric=METRIC_TYPE,\n",
    "    min_dist=0,\n",
    "    random_state=2204\n",
    ")\n",
    "\n",
    "# Embedding contains the new coordinates of datapoints in 3D space\n",
    "embedding = reducer.fit_transform(data)\n",
    "\n",
    "# Add UMAP coordinates to dataframe\n",
    "for i in range(N_COMP):\n",
    "    df['UMAP' + str(i + 1)] = embedding[:, i]\n",
    "\n",
    "# Save dataframe\n",
    "df_umap = DATA.joinpath('df_umap.pkl')\n",
    "df.to_pickle(df_umap)"
   ]
  }
 ],
 "metadata": {
  "kernelspec": {
   "display_name": "Python 3 (ipykernel)",
   "language": "python",
   "name": "python3"
  },
  "language_info": {
   "codemirror_mode": {
    "name": "ipython",
    "version": 3
   },
   "file_extension": ".py",
   "mimetype": "text/x-python",
   "name": "python",
   "nbconvert_exporter": "python",
   "pygments_lexer": "ipython3",
   "version": "3.9.5"
  }
 },
 "nbformat": 4,
 "nbformat_minor": 5
}
