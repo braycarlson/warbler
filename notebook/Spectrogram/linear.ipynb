{
 "cells": [
  {
   "cell_type": "code",
   "execution_count": 1,
   "id": "2e9ee777-b050-4e21-a839-78f397329e0f",
   "metadata": {},
   "outputs": [],
   "source": [
    "# Reload the notebook if an external file is updated\n",
    "%load_ext autoreload\n",
    "%autoreload 2\n",
    "\n",
    "import sys\n",
    "\n",
    "from pathlib import Path\n",
    "\n",
    "path = str(Path.cwd().parent)\n",
    "sys.path.append(path)"
   ]
  },
  {
   "cell_type": "code",
   "execution_count": 2,
   "id": "06f63642-d08a-4a1d-a2cd-744a6d657214",
   "metadata": {},
   "outputs": [],
   "source": [
    "import librosa.display\n",
    "import matplotlib.pyplot as plt\n",
    "import numpy as np\n",
    "\n",
    "from constant import DATASET, SETTINGS\n",
    "from datatype.axes import SpectrogramAxes\n",
    "from datatype.dataset import Dataset\n",
    "from datatype.settings import Settings\n",
    "from datatype.signal import Signal\n",
    "from datatype.spectrogram import Linear, Mel, Spectrogram\n",
    "from io import BytesIO\n",
    "from IPython.display import display\n",
    "from PIL import Image, ImageDraw, ImageEnhance, ImageFilter, ImageFont, ImageOps\n",
    "from plot import (\n",
    "    CutoffSpectrogram,\n",
    "    GenericSpectrogram,\n",
    "    LusciniaSpectrogram\n",
    ")\n",
    "from wand.image import Image as ImageMagick"
   ]
  },
  {
   "cell_type": "code",
   "execution_count": 3,
   "id": "f3b5acd1-ce0a-4a2d-806c-a6f4fe44e8eb",
   "metadata": {},
   "outputs": [],
   "source": [
    "def create_image(buffer):\n",
    "    if isinstance(buffer, np.ndarray):\n",
    "        image = Image.fromarray(buffer)\n",
    "    else:\n",
    "        image = Image.open(buffer)\n",
    "    \n",
    "    return image"
   ]
  },
  {
   "cell_type": "code",
   "execution_count": 4,
   "id": "1adde591-9b79-4c13-a066-4d7d18c14ef2",
   "metadata": {},
   "outputs": [],
   "source": [
    "def preprocess_image(spectrogram):\n",
    "    with ImageMagick.from_array(~spectrogram) as image:\n",
    "        image.despeckle()\n",
    "\n",
    "        image.opaque_paint(\n",
    "            target='white',\n",
    "            fill='white',\n",
    "            fuzz=0.30 * image.quantum_range,\n",
    "            invert=False\n",
    "        )\n",
    "\n",
    "        image.gamma(0.6)\n",
    "\n",
    "        blob = image.make_blob(format='png')\n",
    "\n",
    "        buffer = BytesIO(blob)\n",
    "        return buffer.getvalue()"
   ]
  },
  {
   "cell_type": "code",
   "execution_count": 5,
   "id": "22707dd6-c30f-49d5-9365-16f349cbd369",
   "metadata": {},
   "outputs": [],
   "source": [
    "path = SETTINGS.joinpath('spectrogram.json')\n",
    "settings = Settings.from_file(path)"
   ]
  },
  {
   "cell_type": "code",
   "execution_count": 6,
   "id": "1cf8ee71-53d3-4df0-b97f-7e1bee4d1c04",
   "metadata": {},
   "outputs": [],
   "source": [
    "path = SETTINGS.joinpath('dereverberate.json')\n",
    "dereverberate = Settings.from_file(path)"
   ]
  },
  {
   "cell_type": "code",
   "execution_count": 7,
   "id": "1a61f240-801f-4134-9ab0-6a99d1d5d073",
   "metadata": {},
   "outputs": [],
   "source": [
    "path = DATASET.joinpath('DbWY_STE2017/recordings/STE02_DbWY2017.wav')\n",
    "signal = Signal(path)\n",
    "\n",
    "# signal.normalize()\n",
    "# signal.dereverberate(dereverberate)"
   ]
  },
  {
   "cell_type": "code",
   "execution_count": 8,
   "id": "efa74bf4-bcac-4899-a18a-1976b22ee83c",
   "metadata": {},
   "outputs": [
    {
     "data": {
      "text/plain": [
       "<matplotlib.collections.QuadMesh at 0x19481375e80>"
      ]
     },
     "execution_count": 8,
     "metadata": {},
     "output_type": "execute_result"
    },
    {
     "data": {
      "image/png": "[encoded data removed]",
      "text/plain": [
       "<Figure size 640x480 with 1 Axes>"
      ]
     },
     "metadata": {},
     "output_type": "display_data"
    }
   ],
   "source": [
    "spectrogram = Spectrogram()\n",
    "strategy = Mel(signal, settings)\n",
    "spectrogram.strategy = strategy\n",
    "spectrogram = spectrogram.generate()\n",
    "\n",
    "# Librosa\n",
    "librosa.display.specshow(\n",
    "    spectrogram,\n",
    "    sr=signal.rate, \n",
    "    y_axis='mel', \n",
    "    x_axis='s', \n",
    "    fmax=signal.rate / 2\n",
    ")\n",
    "\n",
    "\n",
    "# # Matplotlib\n",
    "# plot = LusciniaSpectrogram(signal, spectrogram)\n",
    "# plot.create()\n",
    "\n",
    "# plt.show()\n",
    "# plt.close()\n",
    "\n",
    "\n",
    "# # Image\n",
    "# image = preprocess_image(spectrogram)\n",
    "\n",
    "# buffer = BytesIO(image)\n",
    "# image = create_image(buffer)\n",
    "# flip = ImageOps.flip(image)\n",
    "# display(flip)"
   ]
  }
 ],
 "metadata": {
  "kernelspec": {
   "display_name": "warbler.py",
   "language": "python",
   "name": "warblerpy"
  },
  "language_info": {
   "codemirror_mode": {
    "name": "ipython",
    "version": 3
   },
   "file_extension": ".py",
   "mimetype": "text/x-python",
   "name": "python",
   "nbconvert_exporter": "python",
   "pygments_lexer": "ipython3",
   "version": "3.9.5"
  }
 },
 "nbformat": 4,
 "nbformat_minor": 5
}
