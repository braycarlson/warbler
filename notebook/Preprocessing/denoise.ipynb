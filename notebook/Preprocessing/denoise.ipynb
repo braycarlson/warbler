{
 "cells": [
  {
   "cell_type": "code",
   "execution_count": null,
   "id": "2e9ee777-b050-4e21-a839-78f397329e0f",
   "metadata": {},
   "outputs": [],
   "source": [
    "# Reload the notebook if an external file is updated\n",
    "%load_ext autoreload\n",
    "%autoreload 2\n",
    "\n",
    "import sys\n",
    "\n",
    "from pathlib import Path\n",
    "\n",
    "path = str(Path.cwd().parent)\n",
    "sys.path.append(path)"
   ]
  },
  {
   "cell_type": "code",
   "execution_count": null,
   "id": "06f63642-d08a-4a1d-a2cd-744a6d657214",
   "metadata": {},
   "outputs": [],
   "source": [
    "import numpy as np\n",
    "\n",
    "from constant import SETTINGS\n",
    "from copy import deepcopy\n",
    "from datatype.dataset import Dataset\n",
    "from datatype.settings import Settings\n",
    "from datatype.spectrogram import Linear, Mel, Spectrogram\n",
    "from io import BytesIO\n",
    "from itertools import permutations\n",
    "from math import sqrt\n",
    "from PIL import Image, ImageDraw, ImageEnhance, ImageFilter, ImageFont, ImageOps\n",
    "from wand.image import Image as ImageMagick"
   ]
  },
  {
   "cell_type": "code",
   "execution_count": null,
   "id": "899d8390-f769-469a-9806-ac2ba3f9f5b9",
   "metadata": {},
   "outputs": [],
   "source": [
    "def create_grid(collection, method):\n",
    "    length = len(collection)\n",
    "    root = sqrt(length)\n",
    "    root = int(root)\n",
    "    \n",
    "    column = row = root\n",
    "    \n",
    "    width, height = np.vectorize(lambda x: x.size)(collection)\n",
    "    width = np.amax(width)\n",
    "    height = np.amax(height)\n",
    "\n",
    "    border = 50\n",
    "    offset = 10\n",
    "    \n",
    "    grid = Image.new(\n",
    "        'L', \n",
    "        color='white',\n",
    "        size=(\n",
    "            (column * width) + offset, \n",
    "            (row * height) + (offset * 2)\n",
    "        )\n",
    "    )\n",
    "    \n",
    "    for index, image in enumerate(collection, 0):\n",
    "        grid.paste(\n",
    "            image, \n",
    "            box=(\n",
    "                (index % column * width) + offset, \n",
    "                (index // column * height) + (offset * 2)\n",
    "            )\n",
    "        )\n",
    "        \n",
    "    grid = ImageOps.expand(\n",
    "        grid, \n",
    "        border=border, \n",
    "        fill=(255)\n",
    "    )\n",
    "    \n",
    "    draw = ImageDraw.Draw(grid)\n",
    "    font = ImageFont.truetype(\"FONTS/arial.ttf\", 24)\n",
    "    \n",
    "    w, h = grid.size\n",
    "\n",
    "    draw.text(\n",
    "        (w // 2, 10),\n",
    "        method,\n",
    "        (0),\n",
    "        font=font\n",
    "    )\n",
    "    \n",
    "    return grid"
   ]
  },
  {
   "cell_type": "code",
   "execution_count": null,
   "id": "f3b5acd1-ce0a-4a2d-806c-a6f4fe44e8eb",
   "metadata": {},
   "outputs": [],
   "source": [
    "def create_image(buffer):\n",
    "    if isinstance(buffer, np.ndarray):\n",
    "        image = Image.fromarray(~buffer)\n",
    "    else:\n",
    "        image = Image.open(buffer)\n",
    "    \n",
    "    return image"
   ]
  },
  {
   "cell_type": "code",
   "execution_count": null,
   "id": "0a133f0d-e8fc-4d53-bee3-39082693f697",
   "metadata": {},
   "outputs": [],
   "source": [
    "def preprocess_image(spectrogram):\n",
    "    with ImageMagick.from_array(~spectrogram) as image:\n",
    "        image.despeckle()\n",
    "        \n",
    "        image.opaque_paint(\n",
    "            target='white',\n",
    "            fill='white',\n",
    "            fuzz=0.30 * image.quantum_range,\n",
    "            invert=False\n",
    "        )\n",
    "\n",
    "        image.gamma(0.6)\n",
    "\n",
    "        blob = image.make_blob(format='png')\n",
    "\n",
    "        buffer = BytesIO(blob)\n",
    "        return buffer"
   ]
  },
  {
   "cell_type": "code",
   "execution_count": null,
   "id": "7baedf9b-362e-4914-baac-4c24c10dc3b2",
   "metadata": {},
   "outputs": [],
   "source": [
    "dataset = Dataset('segment')\n",
    "dataframe = dataset.load()"
   ]
  },
  {
   "cell_type": "code",
   "execution_count": null,
   "id": "5bc3b4e1-dfc7-40a4-b165-a1d349a696c2",
   "metadata": {},
   "outputs": [],
   "source": [
    "# minimum = 10\n",
    "# maximum = minimum + 10\n",
    "\n",
    "# subset = dataframe.iloc[minimum:maximum]\n",
    "subset = dataframe.sample(25)"
   ]
  },
  {
   "cell_type": "code",
   "execution_count": null,
   "id": "c6a08a1a-3ce3-4f49-b88d-461fdecc15b6",
   "metadata": {},
   "outputs": [],
   "source": [
    "image = deepcopy(\n",
    "    subset.spectrogram.to_numpy()\n",
    ")\n",
    "\n",
    "image = np.frompyfunc(\n",
    "    lambda x: create_image(x),\n",
    "    1,\n",
    "    1\n",
    ")(image)\n",
    "\n",
    "grid = create_grid(image, 'Before')\n",
    "grid.show()\n",
    "\n",
    "# grid.save('before.png', format='png')"
   ]
  },
  {
   "cell_type": "code",
   "execution_count": null,
   "id": "344bcf02-082c-42ee-8bb8-cf6936b7c69c",
   "metadata": {},
   "outputs": [],
   "source": [
    "image = deepcopy(\n",
    "    subset.spectrogram.to_numpy()\n",
    ")\n",
    "image = np.frompyfunc(\n",
    "    lambda x: preprocess_image(x),\n",
    "    1,\n",
    "    1\n",
    ")(image)\n",
    "\n",
    "image = np.frompyfunc(\n",
    "    lambda x: create_image(x),\n",
    "    1,\n",
    "    1\n",
    ")(image)\n",
    "\n",
    "grid = create_grid(image, 'After')\n",
    "grid.show()\n",
    "\n",
    "# grid.save('after.png', format='png')"
   ]
  }
 ],
 "metadata": {
  "kernelspec": {
   "display_name": "warbler.py",
   "language": "python",
   "name": "warblerpy"
  },
  "language_info": {
   "codemirror_mode": {
    "name": "ipython",
    "version": 3
   },
   "file_extension": ".py",
   "mimetype": "text/x-python",
   "name": "python",
   "nbconvert_exporter": "python",
   "pygments_lexer": "ipython3",
   "version": "3.9.5"
  }
 },
 "nbformat": 4,
 "nbformat_minor": 5
}
