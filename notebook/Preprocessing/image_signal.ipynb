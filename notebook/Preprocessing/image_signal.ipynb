{
 "cells": [
  {
   "cell_type": "code",
   "execution_count": 1,
   "id": "2e9ee777-b050-4e21-a839-78f397329e0f",
   "metadata": {},
   "outputs": [],
   "source": [
    "# Reload the notebook if an external file is updated\n",
    "%load_ext autoreload\n",
    "%autoreload 2\n",
    "\n",
    "import sys\n",
    "\n",
    "from pathlib import Path\n",
    "\n",
    "path = str(Path.cwd().parent)\n",
    "sys.path.append(path)"
   ]
  },
  {
   "cell_type": "code",
   "execution_count": 2,
   "id": "06f63642-d08a-4a1d-a2cd-744a6d657214",
   "metadata": {},
   "outputs": [],
   "source": [
    "import numpy as np\n",
    "\n",
    "from constant import CWD, SETTINGS\n",
    "from copy import deepcopy\n",
    "from datatype.dataset import Dataset\n",
    "from datatype.settings import resolve, Settings\n",
    "from datatype.spectrogram import Linear, Mel, Spectrogram\n",
    "from io import BytesIO\n",
    "from itertools import permutations\n",
    "from PIL import Image, ImageDraw, ImageEnhance, ImageFilter, ImageFont, ImageOps"
   ]
  },
  {
   "cell_type": "code",
   "execution_count": 3,
   "id": "00980ec7-ab4f-44ed-9683-65fc78967095",
   "metadata": {},
   "outputs": [],
   "source": [
    "def create_grid(collection, name):\n",
    "    row = len(collection)\n",
    "    column = 1\n",
    "    \n",
    "    width, height = np.vectorize(lambda x: x.size)(collection)\n",
    "    width = np.amax(width)\n",
    "    height = np.amax(height)\n",
    "\n",
    "    border = offset = 20\n",
    "    \n",
    "    grid = Image.new(\n",
    "        'L', \n",
    "        color='white',\n",
    "        size=(\n",
    "            (column * width) + offset, \n",
    "            (row * height) + (offset * 2)\n",
    "        )\n",
    "    )\n",
    "    \n",
    "    for index, image in enumerate(collection, 0):\n",
    "        grid.paste(\n",
    "            image, \n",
    "            box=(\n",
    "                (index % column * width) + offset, \n",
    "                (index // column * height) + (offset * 2)\n",
    "            )\n",
    "        )\n",
    "\n",
    "    grid = ImageOps.expand(\n",
    "        grid, \n",
    "        border=border, \n",
    "        fill=(255)\n",
    "    )\n",
    "    \n",
    "    draw = ImageDraw.Draw(grid)\n",
    "    font = ImageFont.truetype('fonts/arial.ttf', 36)\n",
    "    \n",
    "    w, h = grid.size\n",
    "\n",
    "    draw.text(\n",
    "        (w // 2, 10),\n",
    "        name,\n",
    "        (0),\n",
    "        font=font\n",
    "    )\n",
    "    \n",
    "    return grid"
   ]
  },
  {
   "cell_type": "code",
   "execution_count": 4,
   "id": "e0b07061-fb01-42cf-8ad3-b853f3319564",
   "metadata": {},
   "outputs": [],
   "source": [
    "def create_image(spectrogram):\n",
    "    buffer = BytesIO()\n",
    "    image = Image.fromarray(~spectrogram)\n",
    "\n",
    "    return image"
   ]
  },
  {
   "cell_type": "code",
   "execution_count": 5,
   "id": "3034126b-13dd-470f-b408-1aada905ba18",
   "metadata": {},
   "outputs": [],
   "source": [
    "def create_spectrogram(signal, settings):\n",
    "    spectrogram = Spectrogram()\n",
    "    strategy = Mel(signal, settings)\n",
    "    spectrogram.strategy = strategy\n",
    "\n",
    "    return spectrogram.generate()"
   ]
  },
  {
   "cell_type": "code",
   "execution_count": 6,
   "id": "7baedf9b-362e-4914-baac-4c24c10dc3b2",
   "metadata": {},
   "outputs": [],
   "source": [
    "dataset = Dataset('signal')\n",
    "dataframe = dataset.load()"
   ]
  },
  {
   "cell_type": "code",
   "execution_count": 7,
   "id": "f75c59b1-3597-41d5-8683-192d42c2d2d8",
   "metadata": {},
   "outputs": [],
   "source": [
    "path = SETTINGS.joinpath('dereverberate.json')\n",
    "dereverberate = Settings.from_file(path)"
   ]
  },
  {
   "cell_type": "code",
   "execution_count": 8,
   "id": "577a4de5-9be6-4d54-afba-88328b988c61",
   "metadata": {},
   "outputs": [],
   "source": [
    "path = SETTINGS.joinpath('spectrogram.json')\n",
    "settings = Settings.from_file(path)"
   ]
  },
  {
   "cell_type": "code",
   "execution_count": 9,
   "id": "5bc3b4e1-dfc7-40a4-b165-a1d349a696c2",
   "metadata": {},
   "outputs": [],
   "source": [
    "minimum = 10\n",
    "maximum = minimum + 5\n",
    "\n",
    "subset = dataframe.iloc[minimum:maximum]"
   ]
  },
  {
   "cell_type": "code",
   "execution_count": 10,
   "id": "ffa19ceb-6a06-40c9-a7b0-bc44eccf6263",
   "metadata": {},
   "outputs": [],
   "source": [
    "filename = subset.filename.to_numpy()\n",
    "signal = subset.signal.to_numpy()\n",
    "segmentation = subset.segmentation.to_numpy()"
   ]
  },
  {
   "cell_type": "code",
   "execution_count": 11,
   "id": "2c748ee7-e9a9-4e18-a159-608f244af320",
   "metadata": {},
   "outputs": [],
   "source": [
    "%%capture\n",
    "\n",
    "np.frompyfunc(\n",
    "    lambda x: x.normalize(),\n",
    "    1,\n",
    "    1\n",
    ")(signal)"
   ]
  },
  {
   "cell_type": "code",
   "execution_count": 13,
   "id": "e443a60f-5895-4464-a8fe-828ede169b08",
   "metadata": {},
   "outputs": [],
   "source": [
    "# %%capture\n",
    "\n",
    "# np.frompyfunc(\n",
    "#     lambda x: x.dereverberate(dereverberate),\n",
    "#     1,\n",
    "#     0\n",
    "# )(signal)"
   ]
  },
  {
   "cell_type": "code",
   "execution_count": 14,
   "id": "3dd59b58-7f74-4cfb-8eec-4ebab584f1bd",
   "metadata": {},
   "outputs": [],
   "source": [
    "spectrogram = np.frompyfunc(\n",
    "    lambda x, y: create_spectrogram(x, y),\n",
    "    2,\n",
    "    1\n",
    ")(signal, settings)"
   ]
  },
  {
   "cell_type": "code",
   "execution_count": 15,
   "id": "b655090e-809b-4455-81b1-1fc2e333622a",
   "metadata": {},
   "outputs": [],
   "source": [
    "import librosa\n",
    "import librosa.display\n",
    "import matplotlib.pyplot as plt\n",
    "import cv2\n",
    "import scipy.ndimage\n",
    "\n",
    "from datatype.signal import Signal\n",
    "from scipy import ndimage as ndi\n",
    "from skimage import color, data, feature, filters, img_as_float, morphology\n",
    "from skimage.data import camera\n",
    "from skimage.feature import peak_local_max\n",
    "from skimage.morphology import disk, binary_dilation\n",
    "from skimage.restoration import inpaint, unwrap_phase\n",
    "from skimage.segmentation import chan_vese\n",
    "from skimage.util import compare_images, random_noise"
   ]
  },
  {
   "cell_type": "code",
   "execution_count": 16,
   "id": "9df3f13e-3e06-487d-9c95-05928b1d67ab",
   "metadata": {},
   "outputs": [
    {
     "name": "stderr",
     "output_type": "stream",
     "text": [
      "E:\\code\\personal\\warbler.py\\venv\\lib\\site-packages\\numpy\\lib\\function_base.py:2360: FutureWarning: The input object of type 'Image' is an array-like implementing one of the corresponding protocols (`__array__`, `__array_interface__` or `__array_struct__`); but not a sequence (or 0-D). In the future, this object will be coerced as if it was first converted using `np.array(obj)`. To retain the old behaviour, you have to either modify the type 'Image', or assign to an empty array created with `np.empty(correct_shape, dtype=object)`.\n",
      "  args = [asarray(arg) for arg in args]\n",
      "E:\\code\\personal\\warbler.py\\venv\\lib\\site-packages\\numpy\\lib\\function_base.py:2360: VisibleDeprecationWarning: Creating an ndarray from ragged nested sequences (which is a list-or-tuple of lists-or-tuples-or ndarrays with different lengths or shapes) is deprecated. If you meant to do this, you must specify 'dtype=object' when creating the ndarray.\n",
      "  args = [asarray(arg) for arg in args]\n",
      "E:\\code\\personal\\warbler.py\\venv\\lib\\site-packages\\numpy\\lib\\function_base.py:2409: FutureWarning: The input object of type 'Image' is an array-like implementing one of the corresponding protocols (`__array__`, `__array_interface__` or `__array_struct__`); but not a sequence (or 0-D). In the future, this object will be coerced as if it was first converted using `np.array(obj)`. To retain the old behaviour, you have to either modify the type 'Image', or assign to an empty array created with `np.empty(correct_shape, dtype=object)`.\n",
      "  inputs = [asanyarray(a, dtype=object) for a in args]\n"
     ]
    }
   ],
   "source": [
    "index = 3\n",
    "\n",
    "sample = deepcopy(spectrogram[index])\n",
    "name = deepcopy(filename[index])\n",
    "\n",
    "# Original\n",
    "original = create_image(sample)\n",
    "\n",
    "# Denoise\n",
    "sample = cv2.medianBlur(sample, 3)\n",
    "sample = cv2.fastNlMeansDenoising(sample, None, 50, 7, 21)\n",
    "\n",
    "# Minimum\n",
    "minimum = sample < 50\n",
    "sample[np.where(minimum)] = 0\n",
    "\n",
    "# # Maximum\n",
    "# maximum = sample > 0\n",
    "# sample[np.where(maximum)] = 255\n",
    "\n",
    "sample = create_image(sample)\n",
    "\n",
    "collection = [original, sample]\n",
    "grid = create_grid(collection, name)\n",
    "\n",
    "grid.show()"
   ]
  }
 ],
 "metadata": {
  "kernelspec": {
   "display_name": "warbler.py",
   "language": "python",
   "name": "warblerpy"
  },
  "language_info": {
   "codemirror_mode": {
    "name": "ipython",
    "version": 3
   },
   "file_extension": ".py",
   "mimetype": "text/x-python",
   "name": "python",
   "nbconvert_exporter": "python",
   "pygments_lexer": "ipython3",
   "version": "3.9.5"
  }
 },
 "nbformat": 4,
 "nbformat_minor": 5
}
