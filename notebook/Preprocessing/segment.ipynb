{
 "cells": [
  {
   "cell_type": "code",
   "execution_count": 1,
   "id": "2e9ee777-b050-4e21-a839-78f397329e0f",
   "metadata": {},
   "outputs": [],
   "source": [
    "# Reload the notebook if an external file is updated\n",
    "%load_ext autoreload\n",
    "%autoreload 2\n",
    "\n",
    "import sys\n",
    "\n",
    "from pathlib import Path\n",
    "\n",
    "path = str(Path.cwd().parent)\n",
    "sys.path.append(path)"
   ]
  },
  {
   "cell_type": "code",
   "execution_count": 2,
   "id": "06f63642-d08a-4a1d-a2cd-744a6d657214",
   "metadata": {},
   "outputs": [],
   "source": [
    "import numpy as np\n",
    "\n",
    "from constant import SETTINGS\n",
    "from copy import deepcopy\n",
    "from datatype.dataset import Dataset\n",
    "from datatype.settings import Settings\n",
    "from datatype.spectrogram import Linear, Mel, Spectrogram\n",
    "from io import BytesIO\n",
    "from itertools import permutations\n",
    "from math import sqrt\n",
    "from PIL import Image, ImageDraw, ImageEnhance, ImageFilter, ImageFont, ImageOps"
   ]
  },
  {
   "cell_type": "code",
   "execution_count": 3,
   "id": "899d8390-f769-469a-9806-ac2ba3f9f5b9",
   "metadata": {},
   "outputs": [],
   "source": [
    "def create_grid(collection, method):\n",
    "    length = len(collection)\n",
    "    root = sqrt(length)\n",
    "    root = int(root)\n",
    "    \n",
    "    column = row = root\n",
    "    \n",
    "    width, height = np.vectorize(lambda x: x.size)(collection)\n",
    "    width = np.amax(width)\n",
    "    height = np.amax(height)\n",
    "\n",
    "    border = 50\n",
    "    offset = 10\n",
    "    \n",
    "    grid = Image.new(\n",
    "        'L', \n",
    "        color='white',\n",
    "        size=(\n",
    "            (column * width) + offset, \n",
    "            (row * height) + (offset * 2)\n",
    "        )\n",
    "    )\n",
    "    \n",
    "    for index, image in enumerate(collection, 0):\n",
    "        grid.paste(\n",
    "            image, \n",
    "            box=(\n",
    "                (index % column * width) + offset, \n",
    "                (index // column * height) + (offset * 2)\n",
    "            )\n",
    "        )\n",
    "        \n",
    "    grid = ImageOps.expand(\n",
    "        grid, \n",
    "        border=border, \n",
    "        fill=(255)\n",
    "    )\n",
    "    \n",
    "    draw = ImageDraw.Draw(grid)\n",
    "    font = ImageFont.truetype(\"FONTS/arial.ttf\", 24)\n",
    "    \n",
    "    w, h = grid.size\n",
    "\n",
    "    draw.text(\n",
    "        (w // 2, 10),\n",
    "        method,\n",
    "        (0),\n",
    "        font=font\n",
    "    )\n",
    "    \n",
    "    return grid"
   ]
  },
  {
   "cell_type": "code",
   "execution_count": 4,
   "id": "dc22fff9-e632-49a8-9b83-cfe358c8cf66",
   "metadata": {},
   "outputs": [],
   "source": [
    "def create_image(spectrogram):\n",
    "    # spectrogram[\n",
    "    #     np.where(spectrogram > [100])\n",
    "    # ] = [255]\n",
    "        \n",
    "    buffer = BytesIO()\n",
    "    image = Image.fromarray(~spectrogram)\n",
    "    \n",
    "    # median = ImageFilter.MaxFilter(size=3)\n",
    "    # image = image.filter(median)\n",
    "\n",
    "    return image"
   ]
  },
  {
   "cell_type": "code",
   "execution_count": 5,
   "id": "3034126b-13dd-470f-b408-1aada905ba18",
   "metadata": {},
   "outputs": [],
   "source": [
    "def create_spectrogram(signal, settings):\n",
    "    spectrogram = Spectrogram()\n",
    "    strategy = Mel(signal, settings)\n",
    "    spectrogram.strategy = strategy\n",
    "\n",
    "    return spectrogram.generate()"
   ]
  },
  {
   "cell_type": "code",
   "execution_count": 6,
   "id": "7baedf9b-362e-4914-baac-4c24c10dc3b2",
   "metadata": {},
   "outputs": [],
   "source": [
    "dataset = Dataset('segment')\n",
    "dataframe = dataset.load()"
   ]
  },
  {
   "cell_type": "code",
   "execution_count": 7,
   "id": "f75c59b1-3597-41d5-8683-192d42c2d2d8",
   "metadata": {},
   "outputs": [],
   "source": [
    "path = SETTINGS.joinpath('dereverberate.json')\n",
    "dereverberate = Settings.from_file(path)"
   ]
  },
  {
   "cell_type": "code",
   "execution_count": 8,
   "id": "577a4de5-9be6-4d54-afba-88328b988c61",
   "metadata": {},
   "outputs": [],
   "source": [
    "path = SETTINGS.joinpath('spectrogram.json')\n",
    "settings = Settings.from_file(path)"
   ]
  },
  {
   "cell_type": "code",
   "execution_count": 9,
   "id": "5bc3b4e1-dfc7-40a4-b165-a1d349a696c2",
   "metadata": {},
   "outputs": [],
   "source": [
    "# minimum = 10\n",
    "# maximum = minimum + 10\n",
    "\n",
    "# subset = dataframe.iloc[minimum:maximum]\n",
    "subset = dataframe.sample(200)"
   ]
  },
  {
   "cell_type": "code",
   "execution_count": 10,
   "id": "6e6273a1-4236-4002-bd79-4daca3710262",
   "metadata": {},
   "outputs": [],
   "source": [
    "callback = {\n",
    "    'dereverberate': np.frompyfunc(\n",
    "        lambda x: x.dereverberate(dereverberate),\n",
    "        1,\n",
    "        0\n",
    "    ),\n",
    "    \n",
    "    'normalize': np.frompyfunc(\n",
    "        lambda x: x.normalize(),\n",
    "        1,\n",
    "        0\n",
    "    ),\n",
    "    \n",
    "    'reduce': np.frompyfunc(\n",
    "        lambda x: x.reduce(),\n",
    "        1,\n",
    "        0\n",
    "    )\n",
    "}"
   ]
  },
  {
   "cell_type": "code",
   "execution_count": 13,
   "id": "e6082217-e095-4e74-80c5-d4a5aad658cd",
   "metadata": {},
   "outputs": [
    {
     "data": {
      "text/plain": [
       "15"
      ]
     },
     "execution_count": 13,
     "metadata": {},
     "output_type": "execute_result"
    }
   ],
   "source": [
    "keys = [*callback]\n",
    "\n",
    "methods = []\n",
    "\n",
    "for i in range(0, len(keys) + 1):\n",
    "    for permutation in permutations(keys, i):\n",
    "        if permutation:\n",
    "            methods.append(permutation)\n",
    "            \n",
    "len(list(methods))"
   ]
  },
  {
   "cell_type": "code",
   "execution_count": null,
   "id": "c7605ec8-87ef-4846-bbba-13b689e7f910",
   "metadata": {},
   "outputs": [],
   "source": [
    "for index, method in enumerate(methods, 0):\n",
    "    index = str(index).zfill(2)\n",
    "    base = '_'.join(method)\n",
    "    filename = f\"{index}_{base}.png\"\n",
    "    \n",
    "    segment = deepcopy(\n",
    "        subset.segment.to_numpy()\n",
    "    )\n",
    "    \n",
    "    for function in method:        \n",
    "        callback[function](segment)\n",
    "\n",
    "    spectrogram = np.frompyfunc(\n",
    "        lambda x, y: create_spectrogram(x, y),\n",
    "        2,\n",
    "        1\n",
    "    )(segment, settings)\n",
    "\n",
    "    image = np.frompyfunc(\n",
    "        lambda x: create_image(x),\n",
    "        1,\n",
    "        1\n",
    "    )(spectrogram)\n",
    "\n",
    "    grid = create_grid(image, base)\n",
    "    grid.save(filename, format='png')"
   ]
  }
 ],
 "metadata": {
  "kernelspec": {
   "display_name": "warbler.py",
   "language": "python",
   "name": "warblerpy"
  },
  "language_info": {
   "codemirror_mode": {
    "name": "ipython",
    "version": 3
   },
   "file_extension": ".py",
   "mimetype": "text/x-python",
   "name": "python",
   "nbconvert_exporter": "python",
   "pygments_lexer": "ipython3",
   "version": "3.9.5"
  }
 },
 "nbformat": 4,
 "nbformat_minor": 5
}
