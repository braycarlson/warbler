{
 "cells": [
  {
   "cell_type": "code",
   "execution_count": 1,
   "id": "2e9ee777-b050-4e21-a839-78f397329e0f",
   "metadata": {},
   "outputs": [],
   "source": [
    "# Reload the notebook if an external file is updated\n",
    "%load_ext autoreload\n",
    "%autoreload 2\n",
    "\n",
    "import sys\n",
    "\n",
    "from pathlib import Path\n",
    "\n",
    "path = str(Path.cwd().parent)\n",
    "sys.path.append(path)"
   ]
  },
  {
   "cell_type": "code",
   "execution_count": 2,
   "id": "06f63642-d08a-4a1d-a2cd-744a6d657214",
   "metadata": {},
   "outputs": [],
   "source": [
    "import numpy as np\n",
    "\n",
    "from constant import SETTINGS\n",
    "from copy import deepcopy\n",
    "from datatype.dataset import Dataset\n",
    "from datatype.settings import Settings\n",
    "from datatype.spectrogram import Linear, Mel, Spectrogram\n",
    "from io import BytesIO\n",
    "from math import sqrt\n",
    "from PIL import Image, ImageEnhance, ImageFilter, ImageOps"
   ]
  },
  {
   "cell_type": "code",
   "execution_count": 3,
   "id": "899d8390-f769-469a-9806-ac2ba3f9f5b9",
   "metadata": {},
   "outputs": [],
   "source": [
    "def create_grid(collection):\n",
    "    length = len(collection)\n",
    "    root = sqrt(length)\n",
    "    root = int(root)\n",
    "    \n",
    "    column = row = root\n",
    "    \n",
    "    width, height = np.vectorize(lambda x: x.size)(collection)\n",
    "    width = np.amax(width)\n",
    "    height = np.amax(height)\n",
    "\n",
    "    offset = 10\n",
    "    \n",
    "    grid = Image.new(\n",
    "        'L', \n",
    "        color='white',\n",
    "        size=(\n",
    "            (column * width) + offset, \n",
    "            (row * height) + (offset * 2)\n",
    "        )\n",
    "    )\n",
    "    \n",
    "    for index, image in enumerate(collection, 0):\n",
    "        grid.paste(\n",
    "            image, \n",
    "            box=(\n",
    "                (index % column * width) + offset, \n",
    "                (index // column * height) + (offset * 2)\n",
    "            )\n",
    "        )\n",
    "        \n",
    "    return grid"
   ]
  },
  {
   "cell_type": "code",
   "execution_count": 4,
   "id": "3034126b-13dd-470f-b408-1aada905ba18",
   "metadata": {},
   "outputs": [],
   "source": [
    "def create_spectrogram(signal, settings):\n",
    "    spectrogram = Spectrogram()\n",
    "    strategy = Mel(signal, settings)\n",
    "    spectrogram.strategy = strategy\n",
    "    \n",
    "    return spectrogram.generate()"
   ]
  },
  {
   "cell_type": "code",
   "execution_count": 5,
   "id": "c6afd1fe-64e5-4242-86c4-6f0e52928231",
   "metadata": {},
   "outputs": [],
   "source": [
    "def create_image(spectrogram):\n",
    "    # spectrogram[\n",
    "    #     np.where(spectrogram > [100])\n",
    "    # ] = [255]\n",
    "        \n",
    "    buffer = BytesIO()\n",
    "    image = Image.fromarray(~spectrogram)\n",
    "    \n",
    "    # median = ImageFilter.MaxFilter(size=3)\n",
    "    # image = image.filter(median)\n",
    "\n",
    "    return image"
   ]
  },
  {
   "cell_type": "code",
   "execution_count": 6,
   "id": "7baedf9b-362e-4914-baac-4c24c10dc3b2",
   "metadata": {},
   "outputs": [],
   "source": [
    "dataset = Dataset('segment')\n",
    "dataframe = dataset.load()"
   ]
  },
  {
   "cell_type": "code",
   "execution_count": 7,
   "id": "f75c59b1-3597-41d5-8683-192d42c2d2d8",
   "metadata": {},
   "outputs": [],
   "source": [
    "path = SETTINGS.joinpath('dereverberate.json')\n",
    "dereverberate = Settings.from_file(path)"
   ]
  },
  {
   "cell_type": "code",
   "execution_count": 8,
   "id": "577a4de5-9be6-4d54-afba-88328b988c61",
   "metadata": {},
   "outputs": [],
   "source": [
    "path = SETTINGS.joinpath('spectrogram.json')\n",
    "settings = Settings.from_file(path)"
   ]
  },
  {
   "cell_type": "code",
   "execution_count": 9,
   "id": "5bc3b4e1-dfc7-40a4-b165-a1d349a696c2",
   "metadata": {},
   "outputs": [],
   "source": [
    "minimum = 10\n",
    "maximum = minimum + 10\n",
    "\n",
    "subset = dataframe.iloc[minimum:maximum]\n",
    "# subset = dataframe.sample(100)"
   ]
  },
  {
   "cell_type": "code",
   "execution_count": 10,
   "id": "02856e6a-1088-4d03-860f-766e9ecf8c51",
   "metadata": {},
   "outputs": [],
   "source": [
    "segment = subset.segment.to_numpy()"
   ]
  },
  {
   "cell_type": "code",
   "execution_count": 11,
   "id": "890bc1b0-f526-456a-9cf9-58a20a9b9c3e",
   "metadata": {},
   "outputs": [],
   "source": [
    "%%capture\n",
    "\n",
    "np.frompyfunc(\n",
    "    lambda x: x.normalize(),\n",
    "    1,\n",
    "    0\n",
    ")(segment)"
   ]
  },
  {
   "cell_type": "code",
   "execution_count": 12,
   "id": "d7ef79ed-bbfb-4088-967b-68177ee99b58",
   "metadata": {},
   "outputs": [],
   "source": [
    "%%capture\n",
    "\n",
    "np.frompyfunc(\n",
    "    lambda x: x.reduce(),\n",
    "    1,\n",
    "    0\n",
    ")(segment)"
   ]
  },
  {
   "cell_type": "code",
   "execution_count": 13,
   "id": "14666f5f-6387-493d-8c4f-9387619966ad",
   "metadata": {},
   "outputs": [],
   "source": [
    "%%capture\n",
    "\n",
    "np.frompyfunc(\n",
    "    lambda x: x.dereverberate(dereverberate),\n",
    "    1,\n",
    "    0\n",
    ")(segment)"
   ]
  },
  {
   "cell_type": "code",
   "execution_count": 14,
   "id": "f6dcf347-f08b-44d4-840a-2f32a330ef29",
   "metadata": {},
   "outputs": [],
   "source": [
    "%%capture\n",
    "\n",
    "spectrogram = np.frompyfunc(\n",
    "    lambda x, y: create_spectrogram(x, y),\n",
    "    2,\n",
    "    1\n",
    ")(segment, settings)"
   ]
  },
  {
   "cell_type": "code",
   "execution_count": 15,
   "id": "95a576dc-1d37-456f-8ce0-5ce16ca3f510",
   "metadata": {},
   "outputs": [],
   "source": [
    "image = np.frompyfunc(\n",
    "    lambda x: create_image(x),\n",
    "    1,\n",
    "    1\n",
    ")(spectrogram)"
   ]
  },
  {
   "cell_type": "code",
   "execution_count": 16,
   "id": "0f45b099-bccb-407e-92f6-316e175fb44d",
   "metadata": {},
   "outputs": [],
   "source": [
    "grid = create_grid(image)\n",
    "grid.show()"
   ]
  }
 ],
 "metadata": {
  "kernelspec": {
   "display_name": "warbler.py",
   "language": "python",
   "name": "warblerpy"
  },
  "language_info": {
   "codemirror_mode": {
    "name": "ipython",
    "version": 3
   },
   "file_extension": ".py",
   "mimetype": "text/x-python",
   "name": "python",
   "nbconvert_exporter": "python",
   "pygments_lexer": "ipython3",
   "version": "3.9.5"
  }
 },
 "nbformat": 4,
 "nbformat_minor": 5
}
