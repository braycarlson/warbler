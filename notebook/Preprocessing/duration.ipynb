{
 "cells": [
  {
   "cell_type": "code",
   "execution_count": 1,
   "id": "2e9ee777-b050-4e21-a839-78f397329e0f",
   "metadata": {},
   "outputs": [],
   "source": [
    "# Reload the notebook if an external file is updated\n",
    "%load_ext autoreload\n",
    "%autoreload 2\n",
    "\n",
    "import sys\n",
    "\n",
    "from pathlib import Path\n",
    "\n",
    "path = str(Path.cwd().parent)\n",
    "sys.path.append(path)"
   ]
  },
  {
   "cell_type": "code",
   "execution_count": 2,
   "id": "06f63642-d08a-4a1d-a2cd-744a6d657214",
   "metadata": {},
   "outputs": [],
   "source": [
    "import numpy as np\n",
    "\n",
    "from constant import SETTINGS\n",
    "from copy import deepcopy\n",
    "from datatype.dataset import Dataset\n",
    "from datatype.settings import Settings\n",
    "from datatype.spectrogram import Linear, Mel, Spectrogram\n",
    "from io import BytesIO\n",
    "from itertools import permutations\n",
    "from math import sqrt\n",
    "from PIL import Image, ImageDraw, ImageEnhance, ImageFilter, ImageFont, ImageOps\n",
    "from wand.image import Image as ImageMagick"
   ]
  },
  {
   "cell_type": "code",
   "execution_count": 3,
   "id": "d2d91e03-abae-4d4c-b3ad-e4ae6d8c1b70",
   "metadata": {},
   "outputs": [],
   "source": [
    "def create_grid(collection, text):\n",
    "    column = 5\n",
    "    padding = 10\n",
    "\n",
    "    row = len(collection) // column\n",
    "\n",
    "    if len(collection) % column:\n",
    "        row = row + 1\n",
    "\n",
    "    width, height = np.vectorize(lambda x: x.size)(collection)\n",
    "    maximum_width = np.amax(width) + 10\n",
    "    maximum_height = np.amax(height) + 10\n",
    "\n",
    "    if maximum_width < 500:\n",
    "        maximum_width = 500\n",
    "\n",
    "    page_width = maximum_width * column + (padding * column) - padding\n",
    "    page_height = maximum_height * row + (padding * row) - padding\n",
    "\n",
    "    grid = Image.new(\n",
    "        'L',\n",
    "        color='white',\n",
    "        size=(page_width, page_height),\n",
    "    )\n",
    "\n",
    "    x = 0\n",
    "    y = 0\n",
    "\n",
    "    for index, (image, duration) in enumerate(zip(collection, text), 0):\n",
    "        x_offset = int(\n",
    "            (maximum_width - image.width) / 2\n",
    "        )\n",
    "\n",
    "        y_offset = int(\n",
    "            (maximum_height - image.height) / 2\n",
    "        )\n",
    "        \n",
    "#         draw = ImageDraw.Draw(image)\n",
    "#         font = ImageFont.truetype('fonts/arial.ttf', 32)\n",
    "#         text_width = draw.textlength(str(duration), font=font)\n",
    "\n",
    "#         size = (\n",
    "#             (image.width - text_width) // 2,\n",
    "#             y_offset\n",
    "#         )\n",
    "\n",
    "#         draw.text(\n",
    "#             size,\n",
    "#             str(duration),\n",
    "#             (0),\n",
    "#             font=font\n",
    "#         )\n",
    "\n",
    "        grid.paste(\n",
    "            image,\n",
    "            (x + x_offset, y + y_offset)\n",
    "        )\n",
    "\n",
    "        x = x + maximum_width + padding\n",
    "\n",
    "        if (index + 1) % column == 0:\n",
    "            y = y + maximum_height + padding\n",
    "            x = 0\n",
    "\n",
    "    grid = ImageOps.expand(\n",
    "        grid,\n",
    "        border=(20, 100),\n",
    "        fill=(255)\n",
    "    )\n",
    "\n",
    "    return grid"
   ]
  },
  {
   "cell_type": "code",
   "execution_count": 4,
   "id": "a4a1e205-9968-4e5a-9231-ad6dc9a8742a",
   "metadata": {},
   "outputs": [],
   "source": [
    "def create_image(spectrogram):\n",
    "    buffer = BytesIO()\n",
    "    image = Image.fromarray(~spectrogram)\n",
    "    \n",
    "    return image"
   ]
  },
  {
   "cell_type": "code",
   "execution_count": 5,
   "id": "874aad48-0966-4ff5-a1e0-f156e92e8906",
   "metadata": {},
   "outputs": [],
   "source": [
    "def create_spectrogram(signal, settings):\n",
    "    spectrogram = Spectrogram()\n",
    "    strategy = Mel(signal, settings)\n",
    "    spectrogram.strategy = strategy\n",
    "\n",
    "    return spectrogram.generate()"
   ]
  },
  {
   "cell_type": "code",
   "execution_count": 6,
   "id": "7baedf9b-362e-4914-baac-4c24c10dc3b2",
   "metadata": {},
   "outputs": [],
   "source": [
    "dataset = Dataset('segment')\n",
    "dataframe = dataset.load()\n",
    "\n",
    "dataframe = dataframe[~dataframe.exclude]"
   ]
  },
  {
   "cell_type": "code",
   "execution_count": 7,
   "id": "b7a1d342-6c51-4d6e-aaa9-9df60e010880",
   "metadata": {},
   "outputs": [],
   "source": [
    "path = SETTINGS.joinpath('spectrogram.json')\n",
    "settings = Settings.from_file(path)"
   ]
  },
  {
   "cell_type": "code",
   "execution_count": 12,
   "id": "ed7c0c8d-ec03-4612-a4e6-361273a388b6",
   "metadata": {},
   "outputs": [],
   "source": [
    "dataframe['duration'] = dataframe['duration'].astype(float)\n",
    "# subset = dataframe.nlargest(100, 'duration')\n",
    "subset = dataframe.nsmallest(200, 'duration')"
   ]
  },
  {
   "cell_type": "code",
   "execution_count": 15,
   "id": "4858213a-4663-4ec4-87ff-f059fa100167",
   "metadata": {},
   "outputs": [
    {
     "data": {
      "text/plain": [
       "17764    0.000998\n",
       "17777    0.000998\n",
       "17790    0.000998\n",
       "17795    0.000998\n",
       "17798    0.000998\n",
       "           ...   \n",
       "8888     0.011973\n",
       "8896     0.011973\n",
       "9245     0.011973\n",
       "9524     0.011973\n",
       "9531     0.011973\n",
       "Name: duration, Length: 200, dtype: float64"
      ]
     },
     "execution_count": 15,
     "metadata": {},
     "output_type": "execute_result"
    }
   ],
   "source": [
    "subset.duration"
   ]
  },
  {
   "cell_type": "code",
   "execution_count": 14,
   "id": "0298ae18-e523-4194-b556-e8a3d7efd46d",
   "metadata": {},
   "outputs": [
    {
     "name": "stderr",
     "output_type": "stream",
     "text": [
      "E:\\code\\personal\\warbler.py\\venv\\lib\\site-packages\\librosa\\util\\decorators.py:88: UserWarning: n_fft=512 is too small for input signal of length=44\n",
      "  return f(*args, **kwargs)\n",
      "e:\\code\\personal\\warbler.py\\warbler.py\\datatype\\spectrogram.py:66: RuntimeWarning: invalid value encountered in divide\n",
      "  data = (self.data - minimum) / (maximum - minimum)\n",
      "E:\\code\\personal\\warbler.py\\venv\\lib\\site-packages\\librosa\\util\\decorators.py:88: UserWarning: n_fft=512 is too small for input signal of length=45\n",
      "  return f(*args, **kwargs)\n",
      "E:\\code\\personal\\warbler.py\\venv\\lib\\site-packages\\librosa\\util\\decorators.py:88: UserWarning: n_fft=512 is too small for input signal of length=88\n",
      "  return f(*args, **kwargs)\n",
      "E:\\code\\personal\\warbler.py\\venv\\lib\\site-packages\\librosa\\util\\decorators.py:88: UserWarning: n_fft=512 is too small for input signal of length=132\n",
      "  return f(*args, **kwargs)\n",
      "E:\\code\\personal\\warbler.py\\venv\\lib\\site-packages\\librosa\\util\\decorators.py:88: UserWarning: n_fft=512 is too small for input signal of length=176\n",
      "  return f(*args, **kwargs)\n",
      "E:\\code\\personal\\warbler.py\\venv\\lib\\site-packages\\librosa\\util\\decorators.py:88: UserWarning: n_fft=512 is too small for input signal of length=220\n",
      "  return f(*args, **kwargs)\n",
      "E:\\code\\personal\\warbler.py\\venv\\lib\\site-packages\\librosa\\util\\decorators.py:88: UserWarning: n_fft=512 is too small for input signal of length=264\n",
      "  return f(*args, **kwargs)\n",
      "E:\\code\\personal\\warbler.py\\venv\\lib\\site-packages\\librosa\\util\\decorators.py:88: UserWarning: n_fft=512 is too small for input signal of length=308\n",
      "  return f(*args, **kwargs)\n",
      "E:\\code\\personal\\warbler.py\\venv\\lib\\site-packages\\librosa\\util\\decorators.py:88: UserWarning: n_fft=512 is too small for input signal of length=352\n",
      "  return f(*args, **kwargs)\n",
      "E:\\code\\personal\\warbler.py\\venv\\lib\\site-packages\\librosa\\util\\decorators.py:88: UserWarning: n_fft=512 is too small for input signal of length=396\n",
      "  return f(*args, **kwargs)\n",
      "E:\\code\\personal\\warbler.py\\venv\\lib\\site-packages\\librosa\\util\\decorators.py:88: UserWarning: n_fft=512 is too small for input signal of length=440\n",
      "  return f(*args, **kwargs)\n",
      "E:\\code\\personal\\warbler.py\\venv\\lib\\site-packages\\librosa\\util\\decorators.py:88: UserWarning: n_fft=512 is too small for input signal of length=484\n",
      "  return f(*args, **kwargs)\n",
      "E:\\code\\personal\\warbler.py\\venv\\lib\\site-packages\\librosa\\util\\decorators.py:88: UserWarning: n_fft=512 is too small for input signal of length=485\n",
      "  return f(*args, **kwargs)\n",
      "C:\\Users\\Brayden\\AppData\\Local\\Temp\\ipykernel_8992\\2133785172.py:5: RuntimeWarning: invalid value encountered in <lambda> (vectorized)\n",
      "  spectrogram = np.frompyfunc(\n"
     ]
    }
   ],
   "source": [
    "segment = subset.segment.to_numpy()\n",
    "duration = subset.duration.to_numpy()\n",
    "duration = np.around(duration, decimals=4)\n",
    "\n",
    "spectrogram = np.frompyfunc(\n",
    "    lambda x, y: create_spectrogram(x, y),\n",
    "    2,\n",
    "    1\n",
    ")(segment, settings)\n",
    "\n",
    "image = np.frompyfunc(\n",
    "    lambda x: create_image(x),\n",
    "    1,\n",
    "    1\n",
    ")(spectrogram)\n",
    "\n",
    "grid = create_grid(image, duration)\n",
    "grid.show()"
   ]
  }
 ],
 "metadata": {
  "kernelspec": {
   "display_name": "warbler.py",
   "language": "python",
   "name": "warblerpy"
  },
  "language_info": {
   "codemirror_mode": {
    "name": "ipython",
    "version": 3
   },
   "file_extension": ".py",
   "mimetype": "text/x-python",
   "name": "python",
   "nbconvert_exporter": "python",
   "pygments_lexer": "ipython3",
   "version": "3.9.5"
  }
 },
 "nbformat": 4,
 "nbformat_minor": 5
}
