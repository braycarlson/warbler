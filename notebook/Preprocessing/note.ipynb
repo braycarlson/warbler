{
 "cells": [
  {
   "cell_type": "code",
   "execution_count": 1,
   "id": "2e9ee777-b050-4e21-a839-78f397329e0f",
   "metadata": {},
   "outputs": [],
   "source": [
    "# Reload the notebook if an external file is updated\n",
    "%load_ext autoreload\n",
    "%autoreload 2\n",
    "\n",
    "import sys\n",
    "\n",
    "from pathlib import Path\n",
    "\n",
    "path = str(Path.cwd().parent)\n",
    "sys.path.append(path)"
   ]
  },
  {
   "cell_type": "code",
   "execution_count": 2,
   "id": "06f63642-d08a-4a1d-a2cd-744a6d657214",
   "metadata": {},
   "outputs": [],
   "source": [
    "import numpy as np\n",
    "\n",
    "from constant import SETTINGS\n",
    "from copy import deepcopy\n",
    "from datatype.dataset import Dataset\n",
    "from datatype.settings import Settings\n",
    "from datatype.spectrogram import Linear, Mel, Spectrogram\n",
    "from io import BytesIO\n",
    "from IPython.display import display as inline\n",
    "from PIL import Image, ImageDraw, ImageEnhance, ImageFilter, ImageFont, ImageOps\n",
    "from wand.image import Image as ImageMagick\n",
    "from wand.display import display"
   ]
  },
  {
   "cell_type": "code",
   "execution_count": 3,
   "id": "dc22fff9-e632-49a8-9b83-cfe358c8cf66",
   "metadata": {},
   "outputs": [],
   "source": [
    "def create_image(spectrogram):\n",
    "    buffer = BytesIO()\n",
    "    image = Image.fromarray(~spectrogram)\n",
    "    \n",
    "    return image"
   ]
  },
  {
   "cell_type": "code",
   "execution_count": 4,
   "id": "3034126b-13dd-470f-b408-1aada905ba18",
   "metadata": {},
   "outputs": [],
   "source": [
    "def create_spectrogram(signal, settings):\n",
    "    spectrogram = Spectrogram()\n",
    "    strategy = Mel(signal, settings)\n",
    "    spectrogram.strategy = strategy\n",
    "\n",
    "    return spectrogram.generate()"
   ]
  },
  {
   "cell_type": "code",
   "execution_count": 5,
   "id": "7baedf9b-362e-4914-baac-4c24c10dc3b2",
   "metadata": {},
   "outputs": [],
   "source": [
    "dataset = Dataset('segment')\n",
    "dataframe = dataset.load()"
   ]
  },
  {
   "cell_type": "code",
   "execution_count": 6,
   "id": "f75c59b1-3597-41d5-8683-192d42c2d2d8",
   "metadata": {},
   "outputs": [],
   "source": [
    "path = SETTINGS.joinpath('dereverberate.json')\n",
    "dereverberate = Settings.from_file(path)"
   ]
  },
  {
   "cell_type": "code",
   "execution_count": 7,
   "id": "577a4de5-9be6-4d54-afba-88328b988c61",
   "metadata": {},
   "outputs": [],
   "source": [
    "path = SETTINGS.joinpath('spectrogram.json')\n",
    "settings = Settings.from_file(path)"
   ]
  },
  {
   "cell_type": "code",
   "execution_count": 8,
   "id": "5bc3b4e1-dfc7-40a4-b165-a1d349a696c2",
   "metadata": {},
   "outputs": [],
   "source": [
    "segment = dataframe.at[45, 'spectrogram']\n",
    "\n",
    "with ImageMagick.from_array(~segment) as image:\n",
    "    image.despeckle()\n",
    "    \n",
    "    image.opaque_paint(\n",
    "        target='white', \n",
    "        fill='white', \n",
    "        fuzz=0.20 * image.quantum_range, \n",
    "        invert=False\n",
    "    )\n",
    "    \n",
    "    image.gamma(0.6)\n",
    "    \n",
    "    blob = image.make_blob(format='png')\n",
    "    \n",
    "    buffer = BytesIO(blob)\n",
    "    note = Image.open(buffer)\n",
    "    note.show()"
   ]
  }
 ],
 "metadata": {
  "kernelspec": {
   "display_name": "warbler.py",
   "language": "python",
   "name": "warblerpy"
  },
  "language_info": {
   "codemirror_mode": {
    "name": "ipython",
    "version": 3
   },
   "file_extension": ".py",
   "mimetype": "text/x-python",
   "name": "python",
   "nbconvert_exporter": "python",
   "pygments_lexer": "ipython3",
   "version": "3.9.5"
  }
 },
 "nbformat": 4,
 "nbformat_minor": 5
}
