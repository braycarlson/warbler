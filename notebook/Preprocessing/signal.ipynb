{
 "cells": [
  {
   "cell_type": "code",
   "execution_count": null,
   "id": "2e9ee777-b050-4e21-a839-78f397329e0f",
   "metadata": {},
   "outputs": [],
   "source": [
    "# Reload the notebook if an external file is updated\n",
    "%load_ext autoreload\n",
    "%autoreload 2\n",
    "\n",
    "import sys\n",
    "\n",
    "from pathlib import Path\n",
    "\n",
    "path = str(Path.cwd().parent)\n",
    "sys.path.append(path)"
   ]
  },
  {
   "cell_type": "code",
   "execution_count": null,
   "id": "06f63642-d08a-4a1d-a2cd-744a6d657214",
   "metadata": {},
   "outputs": [],
   "source": [
    "import numpy as np\n",
    "\n",
    "from constant import CWD, SETTINGS\n",
    "from copy import deepcopy\n",
    "from datatype.dataset import Dataset\n",
    "from datatype.settings import resolve, Settings\n",
    "from datatype.spectrogram import Linear, Mel, Spectrogram\n",
    "from io import BytesIO\n",
    "from itertools import permutations\n",
    "from PIL import Image, ImageDraw, ImageEnhance, ImageFilter, ImageFont, ImageOps"
   ]
  },
  {
   "cell_type": "code",
   "execution_count": null,
   "id": "899d8390-f769-469a-9806-ac2ba3f9f5b9",
   "metadata": {},
   "outputs": [],
   "source": [
    "def create_grid(collection, method):\n",
    "    row = len(collection)\n",
    "    column = 1\n",
    "    \n",
    "    width, height = np.vectorize(lambda x: x.size)(collection)\n",
    "    width = np.amax(width)\n",
    "    height = np.amax(height)\n",
    "\n",
    "    border = 75\n",
    "    offset = 10\n",
    "    \n",
    "    grid = Image.new(\n",
    "        'L', \n",
    "        color='white',\n",
    "        size=(\n",
    "            (column * width) + offset, \n",
    "            (row * height) + (offset * 2)\n",
    "        )\n",
    "    )\n",
    "    \n",
    "    for index, image in enumerate(collection, 0):\n",
    "        grid.paste(\n",
    "            image, \n",
    "            box=(\n",
    "                (index % column * width) + offset, \n",
    "                (index // column * height) + (offset * 2)\n",
    "            )\n",
    "        )\n",
    "\n",
    "    grid = ImageOps.expand(\n",
    "        grid, \n",
    "        border=border, \n",
    "        fill=(255)\n",
    "    )\n",
    "    \n",
    "    draw = ImageDraw.Draw(grid)\n",
    "    font = ImageFont.truetype(\"FONTS/arial.ttf\", 36)\n",
    "    \n",
    "    w, h = grid.size\n",
    "\n",
    "    draw.text(\n",
    "        (w // 2, 10),\n",
    "        method,\n",
    "        (0),\n",
    "        font=font\n",
    "    )\n",
    "    \n",
    "    return grid"
   ]
  },
  {
   "cell_type": "code",
   "execution_count": null,
   "id": "e0b07061-fb01-42cf-8ad3-b853f3319564",
   "metadata": {},
   "outputs": [],
   "source": [
    "def create_image(spectrogram):\n",
    "    # spectrogram[\n",
    "    #     np.where(spectrogram > [100])\n",
    "    # ] = [255]\n",
    "        \n",
    "    buffer = BytesIO()\n",
    "    image = Image.fromarray(~spectrogram)\n",
    "    \n",
    "    # median = ImageFilter.MaxFilter(size=3)\n",
    "    # image = image.filter(median)\n",
    "\n",
    "    return image"
   ]
  },
  {
   "cell_type": "code",
   "execution_count": null,
   "id": "3034126b-13dd-470f-b408-1aada905ba18",
   "metadata": {},
   "outputs": [],
   "source": [
    "def create_spectrogram(signal, settings):\n",
    "    spectrogram = Spectrogram()\n",
    "    strategy = Mel(signal, settings)\n",
    "    spectrogram.strategy = strategy\n",
    "\n",
    "    return spectrogram.generate()"
   ]
  },
  {
   "cell_type": "code",
   "execution_count": null,
   "id": "7baedf9b-362e-4914-baac-4c24c10dc3b2",
   "metadata": {},
   "outputs": [],
   "source": [
    "dataset = Dataset('signal')\n",
    "dataframe = dataset.load()"
   ]
  },
  {
   "cell_type": "code",
   "execution_count": null,
   "id": "f75c59b1-3597-41d5-8683-192d42c2d2d8",
   "metadata": {},
   "outputs": [],
   "source": [
    "path = SETTINGS.joinpath('dereverberate.json')\n",
    "dereverberate = Settings.from_file(path)"
   ]
  },
  {
   "cell_type": "code",
   "execution_count": null,
   "id": "577a4de5-9be6-4d54-afba-88328b988c61",
   "metadata": {},
   "outputs": [],
   "source": [
    "path = SETTINGS.joinpath('spectrogram.json')\n",
    "settings = Settings.from_file(path)"
   ]
  },
  {
   "cell_type": "code",
   "execution_count": null,
   "id": "5bc3b4e1-dfc7-40a4-b165-a1d349a696c2",
   "metadata": {},
   "outputs": [],
   "source": [
    "minimum = 10\n",
    "maximum = minimum + 10\n",
    "\n",
    "subset = dataframe.iloc[minimum:maximum]\n",
    "# subset = dataframe.sample(100)"
   ]
  },
  {
   "cell_type": "code",
   "execution_count": null,
   "id": "ffa19ceb-6a06-40c9-a7b0-bc44eccf6263",
   "metadata": {},
   "outputs": [],
   "source": [
    "segmentation = subset.segmentation.to_numpy()"
   ]
  },
  {
   "cell_type": "code",
   "execution_count": null,
   "id": "22b98a76-44f7-44d6-ae57-95ef9deeafdd",
   "metadata": {},
   "outputs": [],
   "source": [
    "segmentation = np.frompyfunc(\n",
    "    lambda x: resolve(x),\n",
    "    1,\n",
    "    1\n",
    ")(segmentation)"
   ]
  },
  {
   "cell_type": "code",
   "execution_count": null,
   "id": "6e6273a1-4236-4002-bd79-4daca3710262",
   "metadata": {},
   "outputs": [],
   "source": [
    "callback = {\n",
    "    'dereverberate': np.frompyfunc(\n",
    "        lambda x: x.dereverberate(dereverberate),\n",
    "        1,\n",
    "        0\n",
    "    ),\n",
    "    \n",
    "    'filter': np.frompyfunc(\n",
    "        lambda x, y: x.filter(\n",
    "            y.butter_lowcut,\n",
    "            y.butter_highcut\n",
    "        ),\n",
    "        2,\n",
    "        0\n",
    "    ),\n",
    "    \n",
    "    'normalize': np.frompyfunc(\n",
    "        lambda x: x.normalize(),\n",
    "        1,\n",
    "        0\n",
    "    ),\n",
    "    \n",
    "    # 'reduce': np.frompyfunc(\n",
    "    #     lambda x: x.reduce(),\n",
    "    #     1,\n",
    "    #     0\n",
    "    # )\n",
    "}"
   ]
  },
  {
   "cell_type": "code",
   "execution_count": null,
   "id": "e6082217-e095-4e74-80c5-d4a5aad658cd",
   "metadata": {},
   "outputs": [],
   "source": [
    "keys = [*callback]\n",
    "\n",
    "methods = []\n",
    "\n",
    "for i in range(0, len(keys) + 1):\n",
    "    for permutation in permutations(keys, i):\n",
    "        if permutation:\n",
    "            methods.append(permutation)"
   ]
  },
  {
   "cell_type": "code",
   "execution_count": null,
   "id": "1629de3b-92de-4d2b-be10-ac74d66e0fdc",
   "metadata": {},
   "outputs": [],
   "source": [
    "for index, method in enumerate(methods, 0):\n",
    "    index = str(index).zfill(2)\n",
    "    base = '_'.join(method)\n",
    "    filename = f\"{index}_{base}.png\"\n",
    "    \n",
    "    signal = deepcopy(\n",
    "        subset.signal.to_numpy()\n",
    "    )\n",
    "\n",
    "    for function in method:\n",
    "        if function == 'filter':\n",
    "            callback[function](signal, segmentation)\n",
    "        else:\n",
    "            callback[function](signal)\n",
    "            \n",
    "    spectrogram = np.frompyfunc(\n",
    "        lambda x, y: create_spectrogram(x, y),\n",
    "        2,\n",
    "        1\n",
    "    )(signal, settings)\n",
    "\n",
    "    image = np.frompyfunc(\n",
    "        lambda x: create_image(x),\n",
    "        1,\n",
    "        1\n",
    "    )(spectrogram)\n",
    "\n",
    "    grid = create_grid(image, base)\n",
    "    grid.save(filename, format='png')"
   ]
  }
 ],
 "metadata": {
  "kernelspec": {
   "display_name": "warbler.py",
   "language": "python",
   "name": "warblerpy"
  },
  "language_info": {
   "codemirror_mode": {
    "name": "ipython",
    "version": 3
   },
   "file_extension": ".py",
   "mimetype": "text/x-python",
   "name": "python",
   "nbconvert_exporter": "python",
   "pygments_lexer": "ipython3",
   "version": "3.9.5"
  }
 },
 "nbformat": 4,
 "nbformat_minor": 5
}
