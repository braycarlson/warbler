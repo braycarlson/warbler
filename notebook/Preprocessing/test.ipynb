{
 "cells": [
  {
   "cell_type": "code",
   "execution_count": 1,
   "id": "2e9ee777-b050-4e21-a839-78f397329e0f",
   "metadata": {},
   "outputs": [],
   "source": [
    "# Reload the notebook if an external file is updated\n",
    "%load_ext autoreload\n",
    "%autoreload 2\n",
    "\n",
    "import sys\n",
    "\n",
    "from pathlib import Path\n",
    "\n",
    "path = str(Path.cwd().parent)\n",
    "sys.path.append(path)"
   ]
  },
  {
   "cell_type": "code",
   "execution_count": 2,
   "id": "06f63642-d08a-4a1d-a2cd-744a6d657214",
   "metadata": {},
   "outputs": [],
   "source": [
    "import cv2\n",
    "import logging\n",
    "import numpy as np\n",
    "import swifter\n",
    "import warnings\n",
    "\n",
    "from bootstrap import bootstrap\n",
    "from constant import SETTINGS\n",
    "from datatype.dataset import Dataset\n",
    "from datatype.settings import Settings\n",
    "from datatype.spectrogram import (\n",
    "    pad,\n",
    "    Linear,\n",
    "    Mel,\n",
    "    Spectrogram\n",
    ")\n",
    "from io import BytesIO\n",
    "from logger import logger\n",
    "from PIL import Image, ImageOps\n",
    "from skimage import filters"
   ]
  },
  {
   "cell_type": "code",
   "execution_count": 3,
   "id": "2242523c-2d66-48d6-b228-8f2a44d6d229",
   "metadata": {},
   "outputs": [],
   "source": [
    "warnings.filterwarnings('ignore')"
   ]
  },
  {
   "cell_type": "code",
   "execution_count": 4,
   "id": "ff78a26f-dfd0-466d-9135-a8952f70b09c",
   "metadata": {},
   "outputs": [],
   "source": [
    "def create_spectrogram(segment, settings):\n",
    "    spectrogram = Spectrogram()\n",
    "    spectrogram.strategy = Mel(segment, settings)\n",
    "    return spectrogram.generate()"
   ]
  },
  {
   "cell_type": "code",
   "execution_count": 5,
   "id": "4d4502d3-6ac7-4eb6-837e-168b8d7a91f9",
   "metadata": {},
   "outputs": [],
   "source": [
    "def create_image(spectrogram):\n",
    "    buffer = BytesIO()\n",
    "    image = Image.fromarray(~spectrogram)\n",
    "\n",
    "    # flip = ImageOps.flip(image)\n",
    "    # flip.save(buffer, format='png')\n",
    "\n",
    "    image.save(buffer, format='png')\n",
    "    \n",
    "    return buffer.getvalue()"
   ]
  },
  {
   "cell_type": "code",
   "execution_count": 6,
   "id": "abbae61f-df5a-4a72-be57-9dcd75744b38",
   "metadata": {},
   "outputs": [],
   "source": [
    "def crop_image(image):\n",
    "    wrapper = BytesIO(image)\n",
    "    image = Image.open(wrapper)\n",
    "\n",
    "    x = image.width\n",
    "\n",
    "    area = (x / 3.5, 100, x / 3.5, 0)\n",
    "    crop = ImageOps.crop(image, area)\n",
    "\n",
    "    buffer = BytesIO()\n",
    "    crop.save(buffer, format='png')\n",
    "\n",
    "    return buffer.getvalue()"
   ]
  },
  {
   "cell_type": "code",
   "execution_count": 7,
   "id": "2c453156-735b-4e26-b1d9-aff25e33d112",
   "metadata": {},
   "outputs": [],
   "source": [
    "def resize_spectrogram(spectrogram, factor=10):\n",
    "    x, y = np.shape(spectrogram)\n",
    "    shape = [int(np.log(y) * factor), x]\n",
    "\n",
    "    return np.array(\n",
    "        Image\n",
    "        .fromarray(spectrogram)\n",
    "        .resize(shape, Image.Resampling.LANCZOS)\n",
    "    )"
   ]
  },
  {
   "cell_type": "code",
   "execution_count": 8,
   "id": "7baedf9b-362e-4914-baac-4c24c10dc3b2",
   "metadata": {},
   "outputs": [],
   "source": [
    "dataset = Dataset('segment')\n",
    "dataframe = dataset.load()"
   ]
  },
  {
   "cell_type": "code",
   "execution_count": 9,
   "id": "b7a1d342-6c51-4d6e-aaa9-9df60e010880",
   "metadata": {},
   "outputs": [],
   "source": [
    "path = SETTINGS.joinpath('spectrogram.json')\n",
    "settings = Settings.from_file(path)"
   ]
  },
  {
   "cell_type": "code",
   "execution_count": 10,
   "id": "ed7c0c8d-ec03-4612-a4e6-361273a388b6",
   "metadata": {},
   "outputs": [],
   "source": [
    "minimum = 10\n",
    "maximum = minimum + 10\n",
    "\n",
    "subset = dataframe.iloc[minimum:maximum]\n",
    "# subset = dataframe.sample(40)"
   ]
  },
  {
   "cell_type": "code",
   "execution_count": 11,
   "id": "69856cc9-994c-4e2d-9855-01844afbec0b",
   "metadata": {},
   "outputs": [
    {
     "data": {
      "application/vnd.jupyter.widget-view+json": {
       "model_id": "e397037dbfe64967ac27e41472741cca",
       "version_major": 2,
       "version_minor": 0
      },
      "text/plain": [
       "Pandas Apply:   0%|          | 0/10 [00:00<?, ?it/s]"
      ]
     },
     "metadata": {},
     "output_type": "display_data"
    }
   ],
   "source": [
    "subset['spectrogram'] = (\n",
    "    subset['segment']\n",
    "    .swifter\n",
    "    .apply(\n",
    "        lambda x: create_spectrogram(x, settings)\n",
    "    )\n",
    ")"
   ]
  },
  {
   "cell_type": "code",
   "execution_count": 12,
   "id": "9ecdd477-4d57-41ed-bdb8-081b336c01a1",
   "metadata": {},
   "outputs": [],
   "source": [
    "# subset['spectrogram'] = (\n",
    "#     subset['spectrogram']\n",
    "#     .swifter\n",
    "#     .apply(\n",
    "#         lambda x: resize_spectrogram(x)\n",
    "#     )\n",
    "# )"
   ]
  },
  {
   "cell_type": "code",
   "execution_count": 13,
   "id": "a231053d-07fe-46b3-aa29-2d44ad25f0a5",
   "metadata": {},
   "outputs": [
    {
     "data": {
      "application/vnd.jupyter.widget-view+json": {
       "model_id": "54dd9c9a39984e2cbdaadc65b80c608c",
       "version_major": 2,
       "version_minor": 0
      },
      "text/plain": [
       "Pandas Apply:   0%|          | 0/10 [00:00<?, ?it/s]"
      ]
     },
     "metadata": {},
     "output_type": "display_data"
    }
   ],
   "source": [
    "subset['image'] = (\n",
    "    subset['spectrogram']\n",
    "    .swifter\n",
    "    .apply(\n",
    "        lambda x: create_image(x)\n",
    "    )\n",
    ")"
   ]
  },
  {
   "cell_type": "code",
   "execution_count": 19,
   "id": "ed358a74-0429-4a1f-b96e-8d4cc1d9eee5",
   "metadata": {},
   "outputs": [
    {
     "data": {
      "image/png": "[encoded data removed]",
      "text/plain": [
       "<PIL.PngImagePlugin.PngImageFile image mode=L size=47x64>"
      ]
     },
     "metadata": {},
     "output_type": "display_data"
    }
   ],
   "source": [
    "sample = subset.image.iloc[9]\n",
    "image = Image.open(BytesIO(sample))\n",
    "\n",
    "display(image)"
   ]
  }
 ],
 "metadata": {
  "kernelspec": {
   "display_name": "warbler.py",
   "language": "python",
   "name": "warblerpy"
  },
  "language_info": {
   "codemirror_mode": {
    "name": "ipython",
    "version": 3
   },
   "file_extension": ".py",
   "mimetype": "text/x-python",
   "name": "python",
   "nbconvert_exporter": "python",
   "pygments_lexer": "ipython3",
   "version": "3.9.5"
  }
 },
 "nbformat": 4,
 "nbformat_minor": 5
}
