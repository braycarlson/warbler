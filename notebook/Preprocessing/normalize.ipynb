{
 "cells": [
  {
   "cell_type": "code",
   "execution_count": 1,
   "id": "2e9ee777-b050-4e21-a839-78f397329e0f",
   "metadata": {},
   "outputs": [],
   "source": [
    "# Reload the notebook if an external file is updated\n",
    "%load_ext autoreload\n",
    "%autoreload 2\n",
    "\n",
    "import sys\n",
    "\n",
    "from pathlib import Path\n",
    "\n",
    "path = str(Path.cwd().parent)\n",
    "sys.path.append(path)"
   ]
  },
  {
   "cell_type": "code",
   "execution_count": 2,
   "id": "06f63642-d08a-4a1d-a2cd-744a6d657214",
   "metadata": {},
   "outputs": [],
   "source": [
    "import numpy as np\n",
    "\n",
    "from constant import SETTINGS\n",
    "from copy import deepcopy\n",
    "from datatype.dataset import Dataset\n",
    "from datatype.settings import resolve, Settings\n",
    "from datatype.spectrogram import Linear, Mel, Spectrogram\n",
    "from io import BytesIO\n",
    "from IPython.display import Audio, display\n",
    "from PIL import Image, ImageDraw, ImageEnhance, ImageFilter, ImageFont, ImageOps"
   ]
  },
  {
   "cell_type": "code",
   "execution_count": 3,
   "id": "3034126b-13dd-470f-b408-1aada905ba18",
   "metadata": {},
   "outputs": [],
   "source": [
    "def create_spectrogram(signal, settings):\n",
    "    spectrogram = Spectrogram()\n",
    "    strategy = Mel(signal, settings)\n",
    "    spectrogram.strategy = strategy\n",
    "\n",
    "    return spectrogram.generate()"
   ]
  },
  {
   "cell_type": "code",
   "execution_count": 5,
   "id": "7baedf9b-362e-4914-baac-4c24c10dc3b2",
   "metadata": {},
   "outputs": [],
   "source": [
    "dataset = Dataset('signal')\n",
    "dataframe = dataset.load()"
   ]
  },
  {
   "cell_type": "code",
   "execution_count": 6,
   "id": "a5a0b772-7e52-4cc0-aab6-8b089dbf1a8d",
   "metadata": {},
   "outputs": [],
   "source": [
    "path = SETTINGS.joinpath('spectrogram.json')\n",
    "ss = Settings.from_file(path)"
   ]
  },
  {
   "cell_type": "code",
   "execution_count": 7,
   "id": "bf329d7c-0325-4b7c-bcba-677a7bad7d60",
   "metadata": {},
   "outputs": [],
   "source": [
    "path = SETTINGS.joinpath('dereverberate.json')\n",
    "ds = Settings.from_file(path)"
   ]
  },
  {
   "cell_type": "code",
   "execution_count": 8,
   "id": "2e0bb8c5-b653-46ec-ae9b-bc8f63a5f61b",
   "metadata": {},
   "outputs": [],
   "source": [
    "signal = deepcopy(\n",
    "    dataframe.at[0, 'signal']\n",
    ")\n",
    "\n",
    "signal.filter(\n",
    "    ss.butter_lowcut,\n",
    "    ss.butter_highcut\n",
    ")\n",
    "\n",
    "signal.normalize()\n",
    "\n",
    "signal.dereverberate(ds)\n",
    "\n",
    "spectrogram = np.frompyfunc(\n",
    "    lambda x, y: create_spectrogram(x, y),\n",
    "    2,\n",
    "    1\n",
    ")(signal, ss)\n",
    "\n",
    "image = Image.fromarray(~spectrogram)\n",
    "image.save('test.png', format='png')\n",
    "# image.show()\n",
    "# display(image)\n",
    "\n",
    "# audio = Audio(\n",
    "#     data=signal.data,\n",
    "#     rate=signal.rate,\n",
    "#     autoplay=False\n",
    "# )\n",
    "\n",
    "# display(audio)"
   ]
  }
 ],
 "metadata": {
  "kernelspec": {
   "display_name": "warbler.py",
   "language": "python",
   "name": "warblerpy"
  },
  "language_info": {
   "codemirror_mode": {
    "name": "ipython",
    "version": 3
   },
   "file_extension": ".py",
   "mimetype": "text/x-python",
   "name": "python",
   "nbconvert_exporter": "python",
   "pygments_lexer": "ipython3",
   "version": "3.9.5"
  }
 },
 "nbformat": 4,
 "nbformat_minor": 5
}
