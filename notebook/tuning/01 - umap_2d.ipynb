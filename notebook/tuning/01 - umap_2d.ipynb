{
 "cells": [
  {
   "cell_type": "markdown",
   "id": "2afcd846",
   "metadata": {},
   "source": [
    "# 2D UMAP\n",
    "\n",
    "Description"
   ]
  },
  {
   "cell_type": "code",
   "execution_count": 1,
   "id": "c422b044",
   "metadata": {},
   "outputs": [],
   "source": [
    "# Reload the notebook if an external file is updated\n",
    "%load_ext autoreload\n",
    "%autoreload 2\n",
    "\n",
    "import sys\n",
    "\n",
    "from pathlib import Path\n",
    "\n",
    "path = str(Path.cwd().parent)\n",
    "sys.path.append(path)"
   ]
  },
  {
   "cell_type": "code",
   "execution_count": 2,
   "id": "c9274221",
   "metadata": {},
   "outputs": [],
   "source": [
    "from datatype.dataset import Dataset\n",
    "from datatype.spectrogram import flatten\n",
    "from umap import UMAP, validation"
   ]
  },
  {
   "cell_type": "code",
   "execution_count": 3,
   "id": "5ff3f9f9",
   "metadata": {},
   "outputs": [],
   "source": [
    "dataset = Dataset('segment')\n",
    "dataframe = dataset.load()"
   ]
  },
  {
   "cell_type": "code",
   "execution_count": 4,
   "id": "d871d114",
   "metadata": {},
   "outputs": [],
   "source": [
    "spectrogram = dataframe['scale'].tolist()\n",
    "flattened = flatten(spectrogram)"
   ]
  },
  {
   "cell_type": "code",
   "execution_count": 5,
   "id": "4054f6cd",
   "metadata": {},
   "outputs": [],
   "source": [
    "um = UMAP(\n",
    "    low_memory=True,\n",
    "    metric='euclidean',\n",
    "    min_dist=0.0,\n",
    "    n_neighbors=5,\n",
    "    n_components=2,\n",
    "    n_jobs=-1\n",
    ")"
   ]
  },
  {
   "cell_type": "code",
   "execution_count": 6,
   "id": "fefa3ff0",
   "metadata": {},
   "outputs": [],
   "source": [
    "embedding = um.fit_transform(flattened)"
   ]
  },
  {
   "cell_type": "code",
   "execution_count": 7,
   "id": "306c024b-c380-432f-9d8c-86bd2f69975e",
   "metadata": {},
   "outputs": [],
   "source": [
    "trustworthiness = validation.trustworthiness_vector(\n",
    "    source=um._raw_data,\n",
    "    embedding=um.embedding_,\n",
    "    max_k=30\n",
    ")\n",
    "\n",
    "plt.plot(trustworthiness)\n",
    "plt.ylabel('Value of k')\n",
    "plt.xlabel('Trustworthiness score')\n",
    "plt.title('Trustworthiness')\n",
    "\n",
    "plt.show()\n",
    "plt.close()"
   ]
  }
 ],
 "metadata": {
  "kernelspec": {
   "display_name": "Python 3 (ipykernel)",
   "language": "python",
   "name": "python3"
  },
  "language_info": {
   "codemirror_mode": {
    "name": "ipython",
    "version": 3
   },
   "file_extension": ".py",
   "mimetype": "text/x-python",
   "name": "python",
   "nbconvert_exporter": "python",
   "pygments_lexer": "ipython3",
   "version": "3.9.5"
  }
 },
 "nbformat": 4,
 "nbformat_minor": 5
}
