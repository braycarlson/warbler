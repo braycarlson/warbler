{
 "cells": [
  {
   "cell_type": "markdown",
   "id": "2afcd846",
   "metadata": {},
   "source": [
    "# 2D Hyperparameter Tuning for Fuzzy C-Means\n",
    "\n",
    "Description"
   ]
  },
  {
   "cell_type": "code",
   "execution_count": 1,
   "id": "c422b044",
   "metadata": {
    "tags": []
   },
   "outputs": [],
   "source": [
    "# Reload the notebook if an external file is updated\n",
    "%load_ext autoreload\n",
    "%autoreload 2\n",
    "\n",
    "import os\n",
    "import sys\n",
    "\n",
    "from pathlib import Path\n",
    "\n",
    "path = (\n",
    "    Path\n",
    "    .cwd()\n",
    "    .parent\n",
    "    .parent\n",
    "    .joinpath('warbler')\n",
    "    .as_posix()\n",
    ")\n",
    "\n",
    "os.chdir(path)\n",
    "sys.path.append(path)"
   ]
  },
  {
   "cell_type": "code",
   "execution_count": 2,
   "id": "c9274221",
   "metadata": {},
   "outputs": [],
   "source": [
    "import matplotlib.pyplot as plt\n",
    "import numpy as np\n",
    "import pickle\n",
    "import scienceplots\n",
    "\n",
    "from constant import SETTINGS\n",
    "from copy import deepcopy\n",
    "from datatype.dataset import Dataset\n",
    "from datatype.scorer import (\n",
    "    CalinskiHarabaszScore,\n",
    "    DaviesBouldinIndex,\n",
    "    FukuyamaSugenoIndex,\n",
    "    PartitionCoefficient,\n",
    "    PartitionEntropyCoefficient,\n",
    "    Scorer,\n",
    "    SilhouetteScore,\n",
    "    SumOfSquaredErrors,\n",
    "    XieBeniIndex\n",
    ")\n",
    "from datatype.search import GridSearch\n",
    "from datatype.settings import Settings\n",
    "from datatype.voronoi import Builder, VoronoiFCM\n",
    "from fcmeans import FCM"
   ]
  },
  {
   "cell_type": "code",
   "execution_count": 3,
   "id": "6e4356d6-0dff-4564-bda8-cc9bedbd7301",
   "metadata": {},
   "outputs": [],
   "source": [
    "plt.style.use('science')"
   ]
  },
  {
   "cell_type": "code",
   "execution_count": 4,
   "id": "5ff3f9f9",
   "metadata": {},
   "outputs": [],
   "source": [
    "dataset = Dataset('segment')\n",
    "dataframe = dataset.load()\n",
    "\n",
    "dataframe['original_array'] = dataframe['original_array'].apply(\n",
    "    lambda x: pickle.loads(\n",
    "        bytes.fromhex(x)\n",
    "    )\n",
    ")"
   ]
  },
  {
   "cell_type": "code",
   "execution_count": 5,
   "id": "7aee14d9",
   "metadata": {},
   "outputs": [],
   "source": [
    "x = np.array(\n",
    "    [\n",
    "        dataframe.umap_x_2d,\n",
    "        dataframe.umap_y_2d\n",
    "    ]\n",
    ").transpose()"
   ]
  },
  {
   "cell_type": "code",
   "execution_count": 6,
   "id": "80d60bed-fe2c-4f90-8879-f59034e794c4",
   "metadata": {},
   "outputs": [],
   "source": [
    "grid = {\n",
    "    'm': np.arange(1.5, 2.5, 0.1),\n",
    "    'max_iter': np.arange(50, 200, 50),\n",
    "    'n_clusters': np.arange(2, 20)\n",
    "}\n",
    "\n",
    "metrics = [\n",
    "    CalinskiHarabaszScore,\n",
    "    DaviesBouldinIndex,\n",
    "    FukuyamaSugenoIndex,\n",
    "    PartitionCoefficient,\n",
    "    PartitionEntropyCoefficient,\n",
    "    SilhouetteScore,\n",
    "    SumOfSquaredErrors,\n",
    "    XieBeniIndex\n",
    "]"
   ]
  },
  {
   "cell_type": "code",
   "execution_count": 7,
   "id": "11d047a6-35d8-45e8-95fc-2f9c12d392d6",
   "metadata": {},
   "outputs": [
    {
     "name": "stderr",
     "output_type": "stream",
     "text": [
      "100%|█████████████████████████████████████████████████████████████████████████████| 540/540 [00:56<00:00,  9.61it/s]\n"
     ]
    }
   ],
   "source": [
    "for metric in metrics:\n",
    "    instance = metric()\n",
    "    \n",
    "    name = str(instance)\n",
    "\n",
    "    metric = metric(estimator=None, x=x)\n",
    "    scorer = Scorer(metric=metric)\n",
    "   \n",
    "    search = GridSearch(\n",
    "        grid=grid, \n",
    "        scorer=scorer\n",
    "    )\n",
    "\n",
    "    data = deepcopy(x)\n",
    "    search.fit(data)\n",
    "\n",
    "    filename = repr(instance)\n",
    "    search.export(filename)\n",
    "\n",
    "    parameters, score = search.best(instance)\n",
    "    \n",
    "    fcm = FCM(**parameters)\n",
    "    fcm.fit(data)\n",
    "\n",
    "    label = fcm.predict(data)\n",
    "    dataframe['fcm_label_2d'] = label\n",
    "\n",
    "    # Load default settings\n",
    "    path = SETTINGS.joinpath('voronoi.json')\n",
    "    settings = Settings.from_file(path)\n",
    "    settings.name = name\n",
    "\n",
    "    unique = dataframe.fcm_label_2d.unique()\n",
    "\n",
    "    by = ['duration']\n",
    "\n",
    "    ascending = [False]\n",
    "\n",
    "    dataframe = dataframe.sort_values(\n",
    "        ascending=ascending,\n",
    "        by=by\n",
    "    )\n",
    "\n",
    "    coordinates = [\n",
    "        dataframe.umap_x_2d,\n",
    "        dataframe.umap_y_2d\n",
    "    ]\n",
    "\n",
    "    embedding = np.column_stack(coordinates)\n",
    "\n",
    "    spectrogram = dataframe.original_array.to_numpy()\n",
    "    label = dataframe.fcm_label_2d.to_numpy()\n",
    "\n",
    "    builder = Builder(\n",
    "        embedding=embedding,\n",
    "        label=label,\n",
    "        spectrogram=~spectrogram,\n",
    "        settings=settings,\n",
    "        unique=unique\n",
    "    )\n",
    "\n",
    "    voronoi = VoronoiFCM(builder=builder)\n",
    "\n",
    "    component = voronoi.build()\n",
    "\n",
    "    figure = component.get('figure')\n",
    "    filename = filename + '.png'\n",
    "\n",
    "    voronoi.save(\n",
    "        figure=figure,\n",
    "        filename=filename\n",
    "    )"
   ]
  }
 ],
 "metadata": {
  "kernelspec": {
   "display_name": "Python 3 (ipykernel)",
   "language": "python",
   "name": "python3"
  },
  "language_info": {
   "codemirror_mode": {
    "name": "ipython",
    "version": 3
   },
   "file_extension": ".py",
   "mimetype": "text/x-python",
   "name": "python",
   "nbconvert_exporter": "python",
   "pygments_lexer": "ipython3",
   "version": "3.11.2"
  }
 },
 "nbformat": 4,
 "nbformat_minor": 5
}
