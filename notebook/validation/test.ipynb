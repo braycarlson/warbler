{
 "cells": [
  {
   "cell_type": "markdown",
   "id": "2afcd846",
   "metadata": {},
   "source": [
    "# Subset\n",
    "\n",
    "Description"
   ]
  },
  {
   "cell_type": "code",
   "execution_count": 1,
   "id": "c422b044",
   "metadata": {
    "tags": []
   },
   "outputs": [],
   "source": [
    "# Reload the notebook if an external file is updated\n",
    "%load_ext autoreload\n",
    "%autoreload 2\n",
    "\n",
    "import os\n",
    "import sys\n",
    "\n",
    "from pathlib import Path\n",
    "\n",
    "path = (\n",
    "    Path\n",
    "    .cwd()\n",
    "    .parent\n",
    "    .parent\n",
    "    .joinpath('warbler.py')\n",
    ")\n",
    "\n",
    "os.chdir(path)\n",
    "sys.path.append(path)"
   ]
  },
  {
   "cell_type": "code",
   "execution_count": 2,
   "id": "c9274221",
   "metadata": {},
   "outputs": [],
   "source": [
    "import matplotlib.pyplot as plt\n",
    "import numpy as np\n",
    "import pandas as pd\n",
    "\n",
    "from constant import PICKLE, SETTINGS\n",
    "from datatype.dataset import Dataset\n",
    "from datatype.settings import Settings\n",
    "from datatype.validation import (\n",
    "    jaccard_coefficient, \n",
    "    rand_index,\n",
    "    variation_of_information\n",
    ")\n",
    "from datatype.voronoi import Builder, VoronoiFCM\n",
    "from fcmeans import FCM\n",
    "from sklearn.metrics import (\n",
    "    adjusted_rand_score, \n",
    "    jaccard_score,\n",
    "    mutual_info_score,\n",
    "    silhouette_score,\n",
    "    rand_score\n",
    ")\n",
    "from sklearn.utils import resample\n",
    "from textwrap import dedent"
   ]
  },
  {
   "cell_type": "code",
   "execution_count": 3,
   "id": "aade1c55-6b89-49dc-87ba-c6732b738fea",
   "metadata": {},
   "outputs": [],
   "source": [
    "pd.set_option('display.max_colwidth', None)"
   ]
  },
  {
   "cell_type": "code",
   "execution_count": 4,
   "id": "5ff3f9f9",
   "metadata": {},
   "outputs": [],
   "source": [
    "dataset = Dataset('segment')\n",
    "dataframe = dataset.load()"
   ]
  },
  {
   "cell_type": "code",
   "execution_count": 5,
   "id": "8df0dca0-b06a-4160-8bfb-f761e91ba998",
   "metadata": {},
   "outputs": [],
   "source": [
    "x = np.concatenate(\n",
    "    (\n",
    "        [dataframe.umap_x_2d],\n",
    "        [dataframe.umap_y_2d]\n",
    "    )\n",
    ")\n",
    "\n",
    "x = x.transpose()"
   ]
  },
  {
   "cell_type": "code",
   "execution_count": 6,
   "id": "aa58dd8b-26ef-4c3f-ad28-e3a886a561a7",
   "metadata": {},
   "outputs": [],
   "source": [
    "fcm = FCM(\n",
    "    m=1.5,\n",
    "    max_iter=150,\n",
    "    n_clusters=19\n",
    ")\n",
    "\n",
    "fcm.fit(x)"
   ]
  },
  {
   "cell_type": "code",
   "execution_count": 7,
   "id": "baab68f0-0330-495b-9390-5d74b277c3b2",
   "metadata": {},
   "outputs": [],
   "source": [
    "labels = fcm.predict(x)"
   ]
  },
  {
   "cell_type": "code",
   "execution_count": 10,
   "id": "c523ea2f-8edb-4c5d-868a-569659dd77e7",
   "metadata": {},
   "outputs": [
    {
     "name": "stdout",
     "output_type": "stream",
     "text": [
      "0\n",
      "13192\n",
      "13192\n",
      "1\n",
      "13192\n",
      "13192\n"
     ]
    },
    {
     "ename": "KeyboardInterrupt",
     "evalue": "",
     "output_type": "error",
     "traceback": [
      "\u001b[1;31m---------------------------------------------------------------------------\u001b[0m",
      "\u001b[1;31mKeyboardInterrupt\u001b[0m                         Traceback (most recent call last)",
      "Cell \u001b[1;32mIn[10], line 14\u001b[0m\n\u001b[0;32m     11\u001b[0m \u001b[38;5;28mprint\u001b[39m(\u001b[38;5;28mlen\u001b[39m(labels_resampled))\n\u001b[0;32m     13\u001b[0m \u001b[38;5;66;03m# Run KMeans on the resampled data\u001b[39;00m\n\u001b[1;32m---> 14\u001b[0m \u001b[43mfcm\u001b[49m\u001b[38;5;241;43m.\u001b[39;49m\u001b[43mfit\u001b[49m\u001b[43m(\u001b[49m\u001b[43mx_resampled\u001b[49m\u001b[43m)\u001b[49m\n\u001b[0;32m     15\u001b[0m labels_new \u001b[38;5;241m=\u001b[39m fcm\u001b[38;5;241m.\u001b[39mpredict(x)\n\u001b[0;32m     17\u001b[0m \u001b[38;5;66;03m# Calculate stability\u001b[39;00m\n",
      "File \u001b[1;32mE:\\code\\personal\\warbler.py\\venv\\Lib\\site-packages\\pydantic\\decorator.py:40\u001b[0m, in \u001b[0;36mpydantic.decorator.validate_arguments.validate.wrapper_function\u001b[1;34m()\u001b[0m\n",
      "File \u001b[1;32mE:\\code\\personal\\warbler.py\\venv\\Lib\\site-packages\\pydantic\\decorator.py:134\u001b[0m, in \u001b[0;36mpydantic.decorator.ValidatedFunction.call\u001b[1;34m()\u001b[0m\n",
      "File \u001b[1;32mE:\\code\\personal\\warbler.py\\venv\\Lib\\site-packages\\pydantic\\decorator.py:206\u001b[0m, in \u001b[0;36mpydantic.decorator.ValidatedFunction.execute\u001b[1;34m()\u001b[0m\n",
      "File \u001b[1;32mE:\\code\\personal\\warbler.py\\venv\\Lib\\site-packages\\fcmeans\\main.py:73\u001b[0m, in \u001b[0;36mFCM.fit\u001b[1;34m(self, X)\u001b[0m\n\u001b[0;32m     71\u001b[0m u_old \u001b[38;5;241m=\u001b[39m \u001b[38;5;28mself\u001b[39m\u001b[38;5;241m.\u001b[39mu\u001b[38;5;241m.\u001b[39mcopy()\n\u001b[0;32m     72\u001b[0m \u001b[38;5;28mself\u001b[39m\u001b[38;5;241m.\u001b[39m_centers \u001b[38;5;241m=\u001b[39m FCM\u001b[38;5;241m.\u001b[39m_next_centers(X, \u001b[38;5;28mself\u001b[39m\u001b[38;5;241m.\u001b[39mu, \u001b[38;5;28mself\u001b[39m\u001b[38;5;241m.\u001b[39mm)\n\u001b[1;32m---> 73\u001b[0m \u001b[38;5;28mself\u001b[39m\u001b[38;5;241m.\u001b[39mu \u001b[38;5;241m=\u001b[39m \u001b[38;5;28;43mself\u001b[39;49m\u001b[38;5;241;43m.\u001b[39;49m\u001b[43msoft_predict\u001b[49m\u001b[43m(\u001b[49m\u001b[43mX\u001b[49m\u001b[43m)\u001b[49m\n\u001b[0;32m     74\u001b[0m \u001b[38;5;66;03m# Stopping rule\u001b[39;00m\n\u001b[0;32m     75\u001b[0m \u001b[38;5;28;01mif\u001b[39;00m np\u001b[38;5;241m.\u001b[39mlinalg\u001b[38;5;241m.\u001b[39mnorm(\u001b[38;5;28mself\u001b[39m\u001b[38;5;241m.\u001b[39mu \u001b[38;5;241m-\u001b[39m u_old) \u001b[38;5;241m<\u001b[39m \u001b[38;5;28mself\u001b[39m\u001b[38;5;241m.\u001b[39merror:\n",
      "File \u001b[1;32mE:\\code\\personal\\warbler.py\\venv\\Lib\\site-packages\\pydantic\\decorator.py:40\u001b[0m, in \u001b[0;36mpydantic.decorator.validate_arguments.validate.wrapper_function\u001b[1;34m()\u001b[0m\n",
      "File \u001b[1;32mE:\\code\\personal\\warbler.py\\venv\\Lib\\site-packages\\pydantic\\decorator.py:134\u001b[0m, in \u001b[0;36mpydantic.decorator.ValidatedFunction.call\u001b[1;34m()\u001b[0m\n",
      "File \u001b[1;32mE:\\code\\personal\\warbler.py\\venv\\Lib\\site-packages\\pydantic\\decorator.py:206\u001b[0m, in \u001b[0;36mpydantic.decorator.ValidatedFunction.execute\u001b[1;34m()\u001b[0m\n",
      "File \u001b[1;32mE:\\code\\personal\\warbler.py\\venv\\Lib\\site-packages\\fcmeans\\main.py:95\u001b[0m, in \u001b[0;36mFCM.soft_predict\u001b[1;34m(self, X)\u001b[0m\n\u001b[0;32m     90\u001b[0m temp \u001b[38;5;241m=\u001b[39m FCM\u001b[38;5;241m.\u001b[39m_dist(X, \u001b[38;5;28mself\u001b[39m\u001b[38;5;241m.\u001b[39m_centers, \u001b[38;5;28mself\u001b[39m\u001b[38;5;241m.\u001b[39mdistance, \u001b[38;5;28mself\u001b[39m\u001b[38;5;241m.\u001b[39mdistance_params) \u001b[38;5;241m*\u001b[39m\u001b[38;5;241m*\u001b[39m (\u001b[38;5;241m2\u001b[39m \u001b[38;5;241m/\u001b[39m (\u001b[38;5;28mself\u001b[39m\u001b[38;5;241m.\u001b[39mm \u001b[38;5;241m-\u001b[39m \u001b[38;5;241m1\u001b[39m))\n\u001b[0;32m     91\u001b[0m u_dist \u001b[38;5;241m=\u001b[39m Parallel(n_jobs\u001b[38;5;241m=\u001b[39m\u001b[38;5;28mself\u001b[39m\u001b[38;5;241m.\u001b[39mn_jobs)(\n\u001b[0;32m     92\u001b[0m     delayed(\u001b[38;5;28;01mlambda\u001b[39;00m data, col: (data[:, col] \u001b[38;5;241m/\u001b[39m data\u001b[38;5;241m.\u001b[39mT)\u001b[38;5;241m.\u001b[39msum(\u001b[38;5;241m0\u001b[39m))(temp, col)\n\u001b[0;32m     93\u001b[0m     \u001b[38;5;28;01mfor\u001b[39;00m col \u001b[38;5;129;01min\u001b[39;00m \u001b[38;5;28mrange\u001b[39m(temp\u001b[38;5;241m.\u001b[39mshape[\u001b[38;5;241m1\u001b[39m])\n\u001b[0;32m     94\u001b[0m )\n\u001b[1;32m---> 95\u001b[0m u_dist \u001b[38;5;241m=\u001b[39m \u001b[43mnp\u001b[49m\u001b[38;5;241;43m.\u001b[39;49m\u001b[43mvstack\u001b[49m\u001b[43m(\u001b[49m\u001b[43mu_dist\u001b[49m\u001b[43m)\u001b[49m\u001b[38;5;241m.\u001b[39mT\n\u001b[0;32m     96\u001b[0m \u001b[38;5;28;01mreturn\u001b[39;00m \u001b[38;5;241m1\u001b[39m \u001b[38;5;241m/\u001b[39m u_dist\n",
      "File \u001b[1;32m<__array_function__ internals>:180\u001b[0m, in \u001b[0;36mvstack\u001b[1;34m(*args, **kwargs)\u001b[0m\n",
      "File \u001b[1;32mE:\\code\\personal\\warbler.py\\venv\\Lib\\site-packages\\numpy\\core\\shape_base.py:282\u001b[0m, in \u001b[0;36mvstack\u001b[1;34m(tup)\u001b[0m\n\u001b[0;32m    280\u001b[0m \u001b[38;5;28;01mif\u001b[39;00m \u001b[38;5;129;01mnot\u001b[39;00m \u001b[38;5;28misinstance\u001b[39m(arrs, \u001b[38;5;28mlist\u001b[39m):\n\u001b[0;32m    281\u001b[0m     arrs \u001b[38;5;241m=\u001b[39m [arrs]\n\u001b[1;32m--> 282\u001b[0m \u001b[38;5;28;01mreturn\u001b[39;00m \u001b[43m_nx\u001b[49m\u001b[38;5;241;43m.\u001b[39;49m\u001b[43mconcatenate\u001b[49m\u001b[43m(\u001b[49m\u001b[43marrs\u001b[49m\u001b[43m,\u001b[49m\u001b[43m \u001b[49m\u001b[38;5;241;43m0\u001b[39;49m\u001b[43m)\u001b[49m\n",
      "File \u001b[1;32m<__array_function__ internals>:180\u001b[0m, in \u001b[0;36mconcatenate\u001b[1;34m(*args, **kwargs)\u001b[0m\n",
      "\u001b[1;31mKeyboardInterrupt\u001b[0m: "
     ]
    }
   ],
   "source": [
    "# Bootstrap Stability\n",
    "n_iterations = 10\n",
    "stability_scores = []\n",
    "\n",
    "for iteration in range(n_iterations):\n",
    "    print(iteration)\n",
    "    \n",
    "    # Bootstrap resample\n",
    "    x_resampled, labels_resampled = resample(x, labels)\n",
    "    print(len(x_resampled))\n",
    "    print(len(labels_resampled))\n",
    "    \n",
    "    # Run KMeans on the resampled data\n",
    "    fcm.fit(x_resampled)\n",
    "    labels_new = fcm.predict(x)\n",
    "    \n",
    "    # Calculate stability\n",
    "    stability = np.sum(labels_resampled == labels_new) / len(labels_resampled)\n",
    "    stability_scores.append(stability)\n",
    "\n",
    "print(f\"Average Stability Score: {np.mean(stability_scores)}\")"
   ]
  }
 ],
 "metadata": {
  "kernelspec": {
   "display_name": "Python 3 (ipykernel)",
   "language": "python",
   "name": "python3"
  },
  "language_info": {
   "codemirror_mode": {
    "name": "ipython",
    "version": 3
   },
   "file_extension": ".py",
   "mimetype": "text/x-python",
   "name": "python",
   "nbconvert_exporter": "python",
   "pygments_lexer": "ipython3",
   "version": "3.11.2"
  }
 },
 "nbformat": 4,
 "nbformat_minor": 5
}
