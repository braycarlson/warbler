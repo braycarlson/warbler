{
 "cells": [
  {
   "cell_type": "markdown",
   "id": "2afcd846",
   "metadata": {},
   "source": [
    "# Subset"
   ]
  },
  {
   "cell_type": "code",
   "execution_count": null,
   "id": "c422b044",
   "metadata": {
    "tags": []
   },
   "outputs": [],
   "source": [
    "# Reload the notebook if an external file is updated\n",
    "%load_ext autoreload\n",
    "%autoreload 2\n",
    "\n",
    "import os\n",
    "import sys\n",
    "\n",
    "from pathlib import Path\n",
    "\n",
    "path = (\n",
    "    Path\n",
    "    .cwd()\n",
    "    .parent\n",
    "    .parent\n",
    "    .joinpath('warbler')\n",
    "    .as_posix()\n",
    ")\n",
    "\n",
    "os.chdir(path)\n",
    "sys.path.append(path)"
   ]
  },
  {
   "cell_type": "code",
   "execution_count": null,
   "id": "c9274221",
   "metadata": {},
   "outputs": [],
   "source": [
    "import matplotlib.pyplot as plt\n",
    "import numpy as np\n",
    "import pandas as pd\n",
    "import scienceplots\n",
    "\n",
    "from constant import PICKLE, SETTINGS\n",
    "from datatype.dataset import Dataset\n",
    "from datatype.settings import Settings\n",
    "from datatype.validation import (\n",
    "    jaccard_coefficient, \n",
    "    rand_index,\n",
    "    variation_of_information\n",
    ")\n",
    "from datatype.voronoi import Builder, VoronoiFCM\n",
    "from fcmeans import FCM\n",
    "from sklearn.metrics import (\n",
    "    adjusted_rand_score, \n",
    "    jaccard_score,\n",
    "    mutual_info_score,\n",
    "    silhouette_score,\n",
    "    rand_score\n",
    ")\n",
    "from textwrap import dedent"
   ]
  },
  {
   "cell_type": "code",
   "execution_count": null,
   "id": "2d210216-bbdf-4544-a823-6d11abaa6042",
   "metadata": {},
   "outputs": [],
   "source": [
    "plt.style.use('science')"
   ]
  },
  {
   "cell_type": "code",
   "execution_count": null,
   "id": "aade1c55-6b89-49dc-87ba-c6732b738fea",
   "metadata": {},
   "outputs": [],
   "source": [
    "pd.set_option('display.max_colwidth', None)"
   ]
  },
  {
   "cell_type": "code",
   "execution_count": null,
   "id": "5ff3f9f9",
   "metadata": {},
   "outputs": [],
   "source": [
    "dataset = Dataset('segment')\n",
    "dataframe = dataset.load()"
   ]
  },
  {
   "cell_type": "code",
   "execution_count": null,
   "id": "9d7aeda8-7cde-410b-a94a-de090ff2e293",
   "metadata": {},
   "outputs": [],
   "source": [
    "x = np.array(\n",
    "    [\n",
    "        dataframe.umap_x_2d,\n",
    "        dataframe.umap_y_2d\n",
    "    ]\n",
    ").transpose()"
   ]
  },
  {
   "cell_type": "code",
   "execution_count": null,
   "id": "6c1f2a7c-bae3-4746-bbbd-8ba2a42d1330",
   "metadata": {},
   "outputs": [],
   "source": [
    "strategies = [\n",
    "    CalinskiHarabaszScore(),\n",
    "    DaviesBouldinIndex(),\n",
    "    PartitionCoefficient(),\n",
    "    PartitionEntropyCoefficient(),\n",
    "    SilhouetteScore(),\n",
    "    SumOfSquaredErrors(),\n",
    "    XieBeniIndex()\n",
    "]"
   ]
  },
  {
   "cell_type": "code",
   "execution_count": null,
   "id": "87ee797a-3657-49d0-b6f9-d86ee2744912",
   "metadata": {},
   "outputs": [],
   "source": [
    "def score(i):\n",
    "    if i == 42:\n",
    "        return None\n",
    "    \n",
    "    sample = resample(x, replace=True)\n",
    "\n",
    "    fcm = FCM(\n",
    "        m=2.9,\n",
    "        max_iter=200,\n",
    "        n_clusters=14,\n",
    "        random_state=42\n",
    "    )\n",
    "    \n",
    "    fcm.fit(sample)\n",
    "\n",
    "    label = np.argmax(fcm.u, axis=1)\n",
    "\n",
    "    scoring = {}\n",
    "    \n",
    "    for strategy in strategies:\n",
    "        scorer = Scorer()\n",
    "        scorer.strategy = strategy\n",
    "        scorer.estimator = fcm\n",
    "        scorer.label = label\n",
    "        scorer.x = sample\n",
    "        \n",
    "        k = repr(scorer)\n",
    "        v = scorer()\n",
    "        \n",
    "        scoring[k] = v\n",
    "\n",
    "    return scoring"
   ]
  },
  {
   "cell_type": "code",
   "execution_count": null,
   "id": "92270d72-f70f-47eb-9ece-54c3ab3ac42e",
   "metadata": {},
   "outputs": [],
   "source": [
    "scoring = {\n",
    "    repr(strategy): [] \n",
    "    for strategy in strategies\n",
    "}"
   ]
  },
  {
   "cell_type": "code",
   "execution_count": null,
   "id": "fea794c7-6af4-4912-b7ea-be74dcbf996f",
   "metadata": {},
   "outputs": [],
   "source": [
    "iteration = 10"
   ]
  },
  {
   "cell_type": "code",
   "execution_count": null,
   "id": "23eab278-e0c6-44b9-8fad-8c1ecd8fba3a",
   "metadata": {},
   "outputs": [],
   "source": [
    "results = Parallel(n_jobs=2)(\n",
    "    delayed(score)(i) \n",
    "    for i in tqdm(range(iteration), desc='Processing')\n",
    ")"
   ]
  },
  {
   "cell_type": "code",
   "execution_count": null,
   "id": "f78057d4-6589-4842-a38b-cb0d3b57907e",
   "metadata": {},
   "outputs": [],
   "source": [
    "for local in results:\n",
    "    if local is not None:\n",
    "        for k, v in local.items():\n",
    "            s = v[k]\n",
    "            scoring[k].append(s)"
   ]
  },
  {
   "cell_type": "code",
   "execution_count": null,
   "id": "ba562f72-a0aa-4e6f-9d58-4bc4f3798227",
   "metadata": {},
   "outputs": [],
   "source": [
    "score = pd.DataFrame.from_dict(scoring)"
   ]
  },
  {
   "cell_type": "code",
   "execution_count": null,
   "id": "39c4a2cf-e343-4878-b9d0-e52f995ff6df",
   "metadata": {},
   "outputs": [],
   "source": [
    "path = TUNING.joinpath('subset.csv')\n",
    "score.to_csv(path, index_label='id')"
   ]
  },
  {
   "cell_type": "code",
   "execution_count": null,
   "id": "f07e3a11-6562-4942-a879-9d327ea1b874",
   "metadata": {},
   "outputs": [],
   "source": [
    "score.mean().to_frame()"
   ]
  },
  {
   "cell_type": "code",
   "execution_count": null,
   "id": "87f97f64-7537-4b22-b576-ad4a400cb97b",
   "metadata": {},
   "outputs": [],
   "source": [
    "score.std().to_frame()"
   ]
  },
  {
   "cell_type": "code",
   "execution_count": null,
   "id": "9676b5a3-ec58-4df8-917a-eef8ac3f5051",
   "metadata": {},
   "outputs": [],
   "source": [
    "figsize = (18, 9)\n",
    "\n",
    "for strategy in strategies:\n",
    "    column = repr(strategy)\n",
    "    title, ylabel = str(strategy), str(strategy)\n",
    "\n",
    "    s = score[column].tolist()\n",
    "\n",
    "    plt.figure(figsize=figsize)\n",
    "    \n",
    "    plt.plot(s, marker='o')\n",
    "    \n",
    "    plt.xlabel('Iteration')\n",
    "    plt.ylabel(ylabel)\n",
    "    \n",
    "    ax = plt.gca()\n",
    "    \n",
    "    locator = ticker.MaxNLocator(integer=True)\n",
    "    ax.xaxis.set_major_locator(locator)\n",
    "    \n",
    "    plt.title(title)\n",
    "\n",
    "    plt.grid(True)\n",
    "    plt.show()"
   ]
  },
  {
   "cell_type": "code",
   "execution_count": null,
   "id": "9e269c9b-81ab-4678-adb1-05a76538c930",
   "metadata": {},
   "outputs": [],
   "source": [
    "n = 200\n",
    "small = []\n",
    "\n",
    "for label in unique:\n",
    "    filename = f\"sample{label}\"\n",
    "    \n",
    "    subset = dataframe[dataframe.fcm_label_2d == label]\n",
    "    length = len(subset)\n",
    "\n",
    "    print(f\"{n} samples from a total of {length} for cluster {label}\")\n",
    "    \n",
    "    sample = subset.sample(n=n)\n",
    "    small.append(sample)"
   ]
  }
 ],
 "metadata": {
  "kernelspec": {
   "display_name": "Python 3 (ipykernel)",
   "language": "python",
   "name": "python3"
  },
  "language_info": {
   "codemirror_mode": {
    "name": "ipython",
    "version": 3
   },
   "file_extension": ".py",
   "mimetype": "text/x-python",
   "name": "python",
   "nbconvert_exporter": "python",
   "pygments_lexer": "ipython3",
   "version": "3.11.2"
  }
 },
 "nbformat": 4,
 "nbformat_minor": 5
}
