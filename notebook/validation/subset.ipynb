{
 "cells": [
  {
   "cell_type": "markdown",
   "id": "2afcd846",
   "metadata": {},
   "source": [
    "# Subset\n",
    "\n",
    "Description"
   ]
  },
  {
   "cell_type": "code",
   "execution_count": 1,
   "id": "c422b044",
   "metadata": {
    "tags": []
   },
   "outputs": [],
   "source": [
    "# Reload the notebook if an external file is updated\n",
    "%load_ext autoreload\n",
    "%autoreload 2\n",
    "\n",
    "import os\n",
    "import sys\n",
    "\n",
    "from pathlib import Path\n",
    "\n",
    "path = (\n",
    "    Path\n",
    "    .cwd()\n",
    "    .parent\n",
    "    .parent\n",
    "    .joinpath('warbler.py')\n",
    ")\n",
    "\n",
    "os.chdir(path)\n",
    "sys.path.append(path)"
   ]
  },
  {
   "cell_type": "code",
   "execution_count": 2,
   "id": "c9274221",
   "metadata": {},
   "outputs": [],
   "source": [
    "import matplotlib.pyplot as plt\n",
    "import numpy as np\n",
    "import pandas as pd\n",
    "\n",
    "from constant import PICKLE, SETTINGS\n",
    "from datatype.dataset import Dataset\n",
    "from datatype.settings import Settings\n",
    "from datatype.validation import (\n",
    "    jaccard_coefficient, \n",
    "    rand_index,\n",
    "    variation_of_information\n",
    ")\n",
    "from datatype.voronoi import Builder, VoronoiFCM\n",
    "from fcmeans import FCM\n",
    "from sklearn.metrics import (\n",
    "    adjusted_rand_score, \n",
    "    jaccard_score,\n",
    "    mutual_info_score,\n",
    "    silhouette_score,\n",
    "    rand_score\n",
    ")\n",
    "from textwrap import dedent"
   ]
  },
  {
   "cell_type": "code",
   "execution_count": 3,
   "id": "aade1c55-6b89-49dc-87ba-c6732b738fea",
   "metadata": {},
   "outputs": [],
   "source": [
    "pd.set_option('display.max_colwidth', None)"
   ]
  },
  {
   "cell_type": "code",
   "execution_count": 4,
   "id": "5ff3f9f9",
   "metadata": {},
   "outputs": [],
   "source": [
    "dataset = Dataset('segment')\n",
    "dataframe = dataset.load()"
   ]
  },
  {
   "cell_type": "code",
   "execution_count": 5,
   "id": "6b4889f0-22c7-42a2-a16b-32d56245e8d5",
   "metadata": {},
   "outputs": [
    {
     "data": {
      "text/html": [
       "<div>\n",
       "<style scoped>\n",
       "    .dataframe tbody tr th:only-of-type {\n",
       "        vertical-align: middle;\n",
       "    }\n",
       "\n",
       "    .dataframe tbody tr th {\n",
       "        vertical-align: top;\n",
       "    }\n",
       "\n",
       "    .dataframe thead th {\n",
       "        text-align: right;\n",
       "    }\n",
       "</style>\n",
       "<table border=\"1\" class=\"dataframe\">\n",
       "  <thead>\n",
       "    <tr style=\"text-align: right;\">\n",
       "      <th></th>\n",
       "      <th>filename</th>\n",
       "      <th>fcm_label_2d</th>\n",
       "    </tr>\n",
       "  </thead>\n",
       "  <tbody>\n",
       "    <tr>\n",
       "      <th>0</th>\n",
       "      <td>STE01_DbWY2017</td>\n",
       "      <td>1</td>\n",
       "    </tr>\n",
       "    <tr>\n",
       "      <th>1</th>\n",
       "      <td>STE01_DbWY2017</td>\n",
       "      <td>2</td>\n",
       "    </tr>\n",
       "    <tr>\n",
       "      <th>2</th>\n",
       "      <td>STE01_DbWY2017</td>\n",
       "      <td>1</td>\n",
       "    </tr>\n",
       "    <tr>\n",
       "      <th>3</th>\n",
       "      <td>STE01_DbWY2017</td>\n",
       "      <td>1</td>\n",
       "    </tr>\n",
       "    <tr>\n",
       "      <th>4</th>\n",
       "      <td>STE01_DbWY2017</td>\n",
       "      <td>8</td>\n",
       "    </tr>\n",
       "    <tr>\n",
       "      <th>5</th>\n",
       "      <td>STE01_DbWY2017</td>\n",
       "      <td>1</td>\n",
       "    </tr>\n",
       "    <tr>\n",
       "      <th>6</th>\n",
       "      <td>STE01_DbWY2017</td>\n",
       "      <td>1</td>\n",
       "    </tr>\n",
       "    <tr>\n",
       "      <th>7</th>\n",
       "      <td>STE01_DbWY2017</td>\n",
       "      <td>1</td>\n",
       "    </tr>\n",
       "    <tr>\n",
       "      <th>8</th>\n",
       "      <td>STE01_DbWY2017</td>\n",
       "      <td>8</td>\n",
       "    </tr>\n",
       "    <tr>\n",
       "      <th>9</th>\n",
       "      <td>STE01_DbWY2017</td>\n",
       "      <td>8</td>\n",
       "    </tr>\n",
       "  </tbody>\n",
       "</table>\n",
       "</div>"
      ],
      "text/plain": [
       "         filename  fcm_label_2d\n",
       "0  STE01_DbWY2017             1\n",
       "1  STE01_DbWY2017             2\n",
       "2  STE01_DbWY2017             1\n",
       "3  STE01_DbWY2017             1\n",
       "4  STE01_DbWY2017             8\n",
       "5  STE01_DbWY2017             1\n",
       "6  STE01_DbWY2017             1\n",
       "7  STE01_DbWY2017             1\n",
       "8  STE01_DbWY2017             8\n",
       "9  STE01_DbWY2017             8"
      ]
     },
     "execution_count": 5,
     "metadata": {},
     "output_type": "execute_result"
    }
   ],
   "source": [
    "dataframe[['filename', 'fcm_label_2d']].head(10)"
   ]
  },
  {
   "cell_type": "code",
   "execution_count": 6,
   "id": "3a2ca37a-34ca-4503-85f8-d96931326404",
   "metadata": {},
   "outputs": [],
   "source": [
    "unique = dataframe.fcm_label_2d.unique()\n",
    "unique.sort()"
   ]
  },
  {
   "cell_type": "code",
   "execution_count": 7,
   "id": "cc266fab-2515-4a32-afa7-6bc99c011f69",
   "metadata": {},
   "outputs": [
    {
     "name": "stdout",
     "output_type": "stream",
     "text": [
      "[ 0  1  2  3  4  5  6  7  8  9 10 11 12 13 14 15 16 17 18]\n"
     ]
    }
   ],
   "source": [
    "print(unique)"
   ]
  },
  {
   "cell_type": "code",
   "execution_count": 8,
   "id": "afaefc1f-f211-4e66-9755-541a62427b4a",
   "metadata": {},
   "outputs": [],
   "source": [
    "size = [\n",
    "    len(dataframe[dataframe.fcm_label_2d == label])\n",
    "    for label in unique\n",
    "]"
   ]
  },
  {
   "cell_type": "code",
   "execution_count": 9,
   "id": "a927e982-c7ab-41e5-a162-cd2d2bb903b8",
   "metadata": {},
   "outputs": [
    {
     "name": "stdout",
     "output_type": "stream",
     "text": [
      "246 964\n"
     ]
    }
   ],
   "source": [
    "minimum = min(size)\n",
    "maximum = max(size)\n",
    "\n",
    "print(minimum, maximum)"
   ]
  },
  {
   "cell_type": "code",
   "execution_count": 10,
   "id": "9e269c9b-81ab-4678-adb1-05a76538c930",
   "metadata": {},
   "outputs": [
    {
     "name": "stdout",
     "output_type": "stream",
     "text": [
      "200 samples from a total of 947 for cluster 0\n",
      "200 samples from a total of 964 for cluster 1\n",
      "200 samples from a total of 619 for cluster 2\n",
      "200 samples from a total of 816 for cluster 3\n",
      "200 samples from a total of 735 for cluster 4\n",
      "200 samples from a total of 805 for cluster 5\n",
      "200 samples from a total of 810 for cluster 6\n",
      "200 samples from a total of 246 for cluster 7\n",
      "200 samples from a total of 488 for cluster 8\n",
      "200 samples from a total of 584 for cluster 9\n",
      "200 samples from a total of 896 for cluster 10\n",
      "200 samples from a total of 535 for cluster 11\n",
      "200 samples from a total of 707 for cluster 12\n",
      "200 samples from a total of 789 for cluster 13\n",
      "200 samples from a total of 652 for cluster 14\n",
      "200 samples from a total of 660 for cluster 15\n",
      "200 samples from a total of 617 for cluster 16\n",
      "200 samples from a total of 558 for cluster 17\n",
      "200 samples from a total of 764 for cluster 18\n"
     ]
    }
   ],
   "source": [
    "n = 200\n",
    "small = []\n",
    "\n",
    "for label in unique:\n",
    "    filename = f\"sample{label}\"\n",
    "    \n",
    "    subset = dataframe[dataframe.fcm_label_2d == label]\n",
    "    length = len(subset)\n",
    "\n",
    "    print(f\"{n} samples from a total of {length} for cluster {label}\")\n",
    "    \n",
    "    sample = subset.sample(n=n)\n",
    "    small.append(sample)"
   ]
  },
  {
   "cell_type": "code",
   "execution_count": 11,
   "id": "cdf42591-f4f8-42fe-8d29-a28f386f4a40",
   "metadata": {},
   "outputs": [],
   "source": [
    "subset = pd.concat(small)"
   ]
  },
  {
   "cell_type": "code",
   "execution_count": 12,
   "id": "fc935366-7d29-48c4-936d-16b61af6d1d2",
   "metadata": {},
   "outputs": [],
   "source": [
    "subset = subset.sort_index(ascending=True)"
   ]
  },
  {
   "cell_type": "code",
   "execution_count": 13,
   "id": "7300df6f-c315-4735-9bb5-565301b3ce54",
   "metadata": {},
   "outputs": [
    {
     "data": {
      "text/html": [
       "<div>\n",
       "<style scoped>\n",
       "    .dataframe tbody tr th:only-of-type {\n",
       "        vertical-align: middle;\n",
       "    }\n",
       "\n",
       "    .dataframe tbody tr th {\n",
       "        vertical-align: top;\n",
       "    }\n",
       "\n",
       "    .dataframe thead th {\n",
       "        text-align: right;\n",
       "    }\n",
       "</style>\n",
       "<table border=\"1\" class=\"dataframe\">\n",
       "  <thead>\n",
       "    <tr style=\"text-align: right;\">\n",
       "      <th></th>\n",
       "      <th>filename</th>\n",
       "      <th>fcm_label_2d</th>\n",
       "    </tr>\n",
       "  </thead>\n",
       "  <tbody>\n",
       "    <tr>\n",
       "      <th>4</th>\n",
       "      <td>STE01_DbWY2017</td>\n",
       "      <td>8</td>\n",
       "    </tr>\n",
       "    <tr>\n",
       "      <th>34</th>\n",
       "      <td>STE02a_DbWY2017</td>\n",
       "      <td>17</td>\n",
       "    </tr>\n",
       "    <tr>\n",
       "      <th>35</th>\n",
       "      <td>STE05_1_DbWY2017</td>\n",
       "      <td>6</td>\n",
       "    </tr>\n",
       "    <tr>\n",
       "      <th>37</th>\n",
       "      <td>STE05_1_DbWY2017</td>\n",
       "      <td>13</td>\n",
       "    </tr>\n",
       "    <tr>\n",
       "      <th>40</th>\n",
       "      <td>STE05_1_DbWY2017</td>\n",
       "      <td>2</td>\n",
       "    </tr>\n",
       "    <tr>\n",
       "      <th>43</th>\n",
       "      <td>STE05_1_DbWY2017</td>\n",
       "      <td>14</td>\n",
       "    </tr>\n",
       "    <tr>\n",
       "      <th>46</th>\n",
       "      <td>STE05_1_DbWY2017</td>\n",
       "      <td>16</td>\n",
       "    </tr>\n",
       "    <tr>\n",
       "      <th>49</th>\n",
       "      <td>STE05_1_DbWY2017</td>\n",
       "      <td>12</td>\n",
       "    </tr>\n",
       "    <tr>\n",
       "      <th>52</th>\n",
       "      <td>STE05_1_DbWY2017</td>\n",
       "      <td>4</td>\n",
       "    </tr>\n",
       "    <tr>\n",
       "      <th>56</th>\n",
       "      <td>STE05_DbWY2017</td>\n",
       "      <td>8</td>\n",
       "    </tr>\n",
       "  </tbody>\n",
       "</table>\n",
       "</div>"
      ],
      "text/plain": [
       "            filename  fcm_label_2d\n",
       "4     STE01_DbWY2017             8\n",
       "34   STE02a_DbWY2017            17\n",
       "35  STE05_1_DbWY2017             6\n",
       "37  STE05_1_DbWY2017            13\n",
       "40  STE05_1_DbWY2017             2\n",
       "43  STE05_1_DbWY2017            14\n",
       "46  STE05_1_DbWY2017            16\n",
       "49  STE05_1_DbWY2017            12\n",
       "52  STE05_1_DbWY2017             4\n",
       "56    STE05_DbWY2017             8"
      ]
     },
     "execution_count": 13,
     "metadata": {},
     "output_type": "execute_result"
    }
   ],
   "source": [
    "subset[['filename', 'fcm_label_2d']].head(10)"
   ]
  },
  {
   "cell_type": "code",
   "execution_count": 14,
   "id": "2f8ecf83-a003-4d56-b716-f14b6bc2db6d",
   "metadata": {},
   "outputs": [],
   "source": [
    "columns = {'fcm_label_2d': 'fcm_label_2d_original'}\n",
    "subset.rename(columns=columns, inplace=True)"
   ]
  },
  {
   "cell_type": "code",
   "execution_count": 15,
   "id": "bb90cb35-b5d4-4b51-a54e-d76d7c0d9885",
   "metadata": {},
   "outputs": [],
   "source": [
    "x = np.concatenate(\n",
    "    (\n",
    "        [subset.umap_x_2d],\n",
    "        [subset.umap_y_2d]\n",
    "    )\n",
    ")\n",
    "\n",
    "x = x.transpose()"
   ]
  },
  {
   "cell_type": "code",
   "execution_count": 16,
   "id": "eb1b82be-4f6a-46f8-8491-1b3f32c0e895",
   "metadata": {},
   "outputs": [],
   "source": [
    "fcm = FCM(\n",
    "    m=1.5,\n",
    "    max_iter=150,\n",
    "    n_clusters=19\n",
    ")\n",
    "\n",
    "fcm.fit(x)"
   ]
  },
  {
   "cell_type": "code",
   "execution_count": 17,
   "id": "091016d2-f7aa-4d7e-aae4-b358d95cf593",
   "metadata": {},
   "outputs": [],
   "source": [
    "labels = fcm.predict(x)"
   ]
  },
  {
   "cell_type": "code",
   "execution_count": 18,
   "id": "e0f30ccf-65ea-4f5c-a646-1c8ec814cb34",
   "metadata": {},
   "outputs": [
    {
     "data": {
      "text/plain": [
       "array([ 0,  3, 14, ..., 15, 15,  0], dtype=int64)"
      ]
     },
     "execution_count": 18,
     "metadata": {},
     "output_type": "execute_result"
    }
   ],
   "source": [
    "labels"
   ]
  },
  {
   "cell_type": "code",
   "execution_count": 19,
   "id": "94af4d50-a06c-4345-b54e-5b4278eba510",
   "metadata": {},
   "outputs": [],
   "source": [
    "subset['fcm_label_2d_validation'] = labels"
   ]
  },
  {
   "cell_type": "code",
   "execution_count": 20,
   "id": "4a82eb42-a5ec-4521-8880-e7fc127797d7",
   "metadata": {},
   "outputs": [
    {
     "data": {
      "text/html": [
       "<div>\n",
       "<style scoped>\n",
       "    .dataframe tbody tr th:only-of-type {\n",
       "        vertical-align: middle;\n",
       "    }\n",
       "\n",
       "    .dataframe tbody tr th {\n",
       "        vertical-align: top;\n",
       "    }\n",
       "\n",
       "    .dataframe thead th {\n",
       "        text-align: right;\n",
       "    }\n",
       "</style>\n",
       "<table border=\"1\" class=\"dataframe\">\n",
       "  <thead>\n",
       "    <tr style=\"text-align: right;\">\n",
       "      <th></th>\n",
       "      <th>filename</th>\n",
       "      <th>fcm_label_2d_original</th>\n",
       "      <th>fcm_label_2d_validation</th>\n",
       "    </tr>\n",
       "  </thead>\n",
       "  <tbody>\n",
       "    <tr>\n",
       "      <th>4</th>\n",
       "      <td>STE01_DbWY2017</td>\n",
       "      <td>8</td>\n",
       "      <td>0</td>\n",
       "    </tr>\n",
       "    <tr>\n",
       "      <th>34</th>\n",
       "      <td>STE02a_DbWY2017</td>\n",
       "      <td>17</td>\n",
       "      <td>3</td>\n",
       "    </tr>\n",
       "    <tr>\n",
       "      <th>35</th>\n",
       "      <td>STE05_1_DbWY2017</td>\n",
       "      <td>6</td>\n",
       "      <td>14</td>\n",
       "    </tr>\n",
       "    <tr>\n",
       "      <th>37</th>\n",
       "      <td>STE05_1_DbWY2017</td>\n",
       "      <td>13</td>\n",
       "      <td>8</td>\n",
       "    </tr>\n",
       "    <tr>\n",
       "      <th>40</th>\n",
       "      <td>STE05_1_DbWY2017</td>\n",
       "      <td>2</td>\n",
       "      <td>0</td>\n",
       "    </tr>\n",
       "    <tr>\n",
       "      <th>43</th>\n",
       "      <td>STE05_1_DbWY2017</td>\n",
       "      <td>14</td>\n",
       "      <td>10</td>\n",
       "    </tr>\n",
       "    <tr>\n",
       "      <th>46</th>\n",
       "      <td>STE05_1_DbWY2017</td>\n",
       "      <td>16</td>\n",
       "      <td>5</td>\n",
       "    </tr>\n",
       "    <tr>\n",
       "      <th>49</th>\n",
       "      <td>STE05_1_DbWY2017</td>\n",
       "      <td>12</td>\n",
       "      <td>4</td>\n",
       "    </tr>\n",
       "    <tr>\n",
       "      <th>52</th>\n",
       "      <td>STE05_1_DbWY2017</td>\n",
       "      <td>4</td>\n",
       "      <td>16</td>\n",
       "    </tr>\n",
       "    <tr>\n",
       "      <th>56</th>\n",
       "      <td>STE05_DbWY2017</td>\n",
       "      <td>8</td>\n",
       "      <td>0</td>\n",
       "    </tr>\n",
       "  </tbody>\n",
       "</table>\n",
       "</div>"
      ],
      "text/plain": [
       "            filename  fcm_label_2d_original  fcm_label_2d_validation\n",
       "4     STE01_DbWY2017                      8                        0\n",
       "34   STE02a_DbWY2017                     17                        3\n",
       "35  STE05_1_DbWY2017                      6                       14\n",
       "37  STE05_1_DbWY2017                     13                        8\n",
       "40  STE05_1_DbWY2017                      2                        0\n",
       "43  STE05_1_DbWY2017                     14                       10\n",
       "46  STE05_1_DbWY2017                     16                        5\n",
       "49  STE05_1_DbWY2017                     12                        4\n",
       "52  STE05_1_DbWY2017                      4                       16\n",
       "56    STE05_DbWY2017                      8                        0"
      ]
     },
     "execution_count": 20,
     "metadata": {},
     "output_type": "execute_result"
    }
   ],
   "source": [
    "subset[['filename', 'fcm_label_2d_original', 'fcm_label_2d_validation']].head(10)"
   ]
  },
  {
   "cell_type": "code",
   "execution_count": 21,
   "id": "239e3210-927d-42ff-b2a1-b12fb2125bc9",
   "metadata": {},
   "outputs": [],
   "source": [
    "# dataset = Dataset('subset')\n",
    "# dataset.save(subset)"
   ]
  },
  {
   "cell_type": "code",
   "execution_count": 22,
   "id": "db6d62d0-85d0-47cb-addf-200697e15eb8",
   "metadata": {},
   "outputs": [],
   "source": [
    "comparison = subset['fcm_label_2d_original'] == subset['fcm_label_2d_validation']\n",
    "length = len(comparison)\n",
    "\n",
    "percentage = (comparison.sum() / length) * 100"
   ]
  },
  {
   "cell_type": "code",
   "execution_count": 23,
   "id": "d4aa4e67-f478-4154-ba5f-bdf22c7fd15b",
   "metadata": {},
   "outputs": [
    {
     "data": {
      "text/plain": [
       "2.5"
      ]
     },
     "execution_count": 23,
     "metadata": {},
     "output_type": "execute_result"
    }
   ],
   "source": [
    "percentage"
   ]
  },
  {
   "cell_type": "code",
   "execution_count": 24,
   "id": "220f35bb-56b9-4425-ae7d-f81f6f3cb1b8",
   "metadata": {},
   "outputs": [
    {
     "data": {
      "image/png": "[encoded data removed]",
      "text/plain": [
       "<Figure size 1000x800 with 1 Axes>"
      ]
     },
     "metadata": {},
     "output_type": "display_data"
    }
   ],
   "source": [
    "figsize = (10, 8)\n",
    "fig, ax = plt.subplots(figsize=figsize)\n",
    "\n",
    "subset['fcm_label_2d_original'].value_counts().sort_index().plot(ax=ax, kind='bar')\n",
    "\n",
    "plt.xlabel('FCM Label')\n",
    "plt.ylabel('Count')\n",
    "plt.title('FCM Label 2D: Original')\n",
    "\n",
    "plt.show()"
   ]
  },
  {
   "cell_type": "code",
   "execution_count": 25,
   "id": "9d348c42-614f-49eb-af88-ae8f8cb96112",
   "metadata": {},
   "outputs": [
    {
     "data": {
      "image/png": "[encoded data removed]",
      "text/plain": [
       "<Figure size 1000x800 with 1 Axes>"
      ]
     },
     "metadata": {},
     "output_type": "display_data"
    }
   ],
   "source": [
    "figsize = (10, 8)\n",
    "fig, ax = plt.subplots(figsize=figsize)\n",
    "\n",
    "subset['fcm_label_2d_validation'].value_counts().sort_index().plot(ax=ax, kind='bar')\n",
    "\n",
    "plt.xlabel('FCM Label')\n",
    "plt.ylabel('Count')\n",
    "plt.title('FCM Label 2D: Validation')\n",
    "\n",
    "plt.show()"
   ]
  },
  {
   "cell_type": "code",
   "execution_count": 26,
   "id": "fc179f61-aee3-4bb8-91bc-04a382c92ac5",
   "metadata": {},
   "outputs": [],
   "source": [
    "truth = subset.fcm_label_2d_original.to_numpy()\n",
    "prediction = subset.fcm_label_2d_validation.to_numpy()"
   ]
  },
  {
   "cell_type": "code",
   "execution_count": 27,
   "id": "9a8694b8-7453-410e-b32f-50d876132fb7",
   "metadata": {},
   "outputs": [
    {
     "name": "stdout",
     "output_type": "stream",
     "text": [
      "[ 1  1  8 10  6  6  0 16  0 17]\n"
     ]
    }
   ],
   "source": [
    "print(truth[:10])"
   ]
  },
  {
   "cell_type": "code",
   "execution_count": 28,
   "id": "5cdc71ba-e135-4402-8040-74b7c42c0634",
   "metadata": {},
   "outputs": [
    {
     "name": "stdout",
     "output_type": "stream",
     "text": [
      "[ 9  6 17 15  6 17 10 15 10  0]\n"
     ]
    }
   ],
   "source": [
    "print(prediction[:10])"
   ]
  },
  {
   "cell_type": "code",
   "execution_count": 29,
   "id": "a3169727-f645-48d4-9319-7ae7263e3b7c",
   "metadata": {},
   "outputs": [
    {
     "data": {
      "text/plain": [
       "0.03923055396938188"
      ]
     },
     "execution_count": 29,
     "metadata": {},
     "output_type": "execute_result"
    }
   ],
   "source": [
    "jc = jaccard_coefficient(truth, prediction)\n",
    "jc"
   ]
  },
  {
   "cell_type": "code",
   "execution_count": 30,
   "id": "27d6a489-7af9-418b-ade0-c0f341369c8d",
   "metadata": {},
   "outputs": [
    {
     "name": "stdout",
     "output_type": "stream",
     "text": [
      "Jaccard (macro): 0.019012084544545015\n",
      "Jaccard (micro): 0.012658227848101266\n"
     ]
    }
   ],
   "source": [
    "jaccard_macro = jaccard_score(truth, prediction, average='macro')\n",
    "jaccard_micro = jaccard_score(truth, prediction, average='micro')\n",
    "\n",
    "print(\"Jaccard (macro):\", jaccard_macro)\n",
    "print(\"Jaccard (micro):\", jaccard_micro)"
   ]
  },
  {
   "cell_type": "code",
   "execution_count": 38,
   "id": "dcea2e5b-a59c-4fc0-acc8-c6b854ca1937",
   "metadata": {},
   "outputs": [
    {
     "data": {
      "text/plain": [
       "2.4371857561038346"
      ]
     },
     "execution_count": 38,
     "metadata": {},
     "output_type": "execute_result"
    }
   ],
   "source": [
    "mis = mutual_info_score(truth, prediction)\n",
    "mis"
   ]
  },
  {
   "cell_type": "code",
   "execution_count": 31,
   "id": "28f30b31-0358-4c37-9fc1-e62ac42b0586",
   "metadata": {},
   "outputs": [
    {
     "data": {
      "text/plain": [
       "0.6646687436170479"
      ]
     },
     "execution_count": 31,
     "metadata": {},
     "output_type": "execute_result"
    }
   ],
   "source": [
    "ari = adjusted_rand_score(truth, prediction)\n",
    "ari"
   ]
  },
  {
   "cell_type": "code",
   "execution_count": 32,
   "id": "458e8b26-034a-43ff-9243-237a7de8df49",
   "metadata": {},
   "outputs": [
    {
     "data": {
      "text/plain": [
       "0.8143047712159268"
      ]
     },
     "execution_count": 32,
     "metadata": {},
     "output_type": "execute_result"
    }
   ],
   "source": [
    "ri = rand_index(truth, prediction)\n",
    "ri"
   ]
  },
  {
   "cell_type": "code",
   "execution_count": 33,
   "id": "656e78a3-a5df-4c83-a2d5-883bb5a44432",
   "metadata": {},
   "outputs": [
    {
     "data": {
      "text/plain": [
       "0.9648936700793838"
      ]
     },
     "execution_count": 33,
     "metadata": {},
     "output_type": "execute_result"
    }
   ],
   "source": [
    "ri = rand_score(truth, prediction)\n",
    "ri"
   ]
  },
  {
   "cell_type": "code",
   "execution_count": 35,
   "id": "28653ee8-caf9-44f2-95d4-d3abd928c047",
   "metadata": {},
   "outputs": [
    {
     "data": {
      "text/plain": [
       "0.052262475350695496"
      ]
     },
     "execution_count": 35,
     "metadata": {},
     "output_type": "execute_result"
    }
   ],
   "source": [
    "ss = silhouette_score(\n",
    "    np.reshape(truth, (-1, 1)), \n",
    "    np.reshape(prediction, (-1, 1))\n",
    ")\n",
    "\n",
    "ss"
   ]
  },
  {
   "cell_type": "code",
   "execution_count": null,
   "id": "b6c6b8fa-fa78-4fcb-b733-1e7131080c6d",
   "metadata": {},
   "outputs": [],
   "source": [
    "voi = variation_of_information(truth, prediction)\n",
    "voi"
   ]
  }
 ],
 "metadata": {
  "kernelspec": {
   "display_name": "Python 3 (ipykernel)",
   "language": "python",
   "name": "python3"
  },
  "language_info": {
   "codemirror_mode": {
    "name": "ipython",
    "version": 3
   },
   "file_extension": ".py",
   "mimetype": "text/x-python",
   "name": "python",
   "nbconvert_exporter": "python",
   "pygments_lexer": "ipython3",
   "version": "3.11.2"
  }
 },
 "nbformat": 4,
 "nbformat_minor": 5
}
